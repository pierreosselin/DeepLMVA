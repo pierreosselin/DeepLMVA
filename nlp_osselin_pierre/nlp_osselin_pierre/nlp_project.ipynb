{
 "cells": [
  {
   "cell_type": "markdown",
   "metadata": {},
   "source": [
    "# Deep Learning for NLP - Project"
   ]
  },
  {
   "cell_type": "markdown",
   "metadata": {},
   "source": [
    "RULES:\n",
    "\n",
    "* Do not create any additional cell\n",
    "\n",
    "* Fill in the blanks\n",
    "\n",
    "* All cells should be runnable (modulo trivial compatibility bugs that we'd fix)\n",
    "\n",
    "* 4 / 20 points will be allocated to the clarity of your code\n",
    "\n",
    "* Efficient code will have a bonus\n",
    "\n",
    "DELIVERABLE:\n",
    "\n",
    "* the pdf with your answers\n",
    "* this notebook\n",
    "* the predictions of the SST test set\n",
    "\n",
    "DO NOT INCLUDE THE DATASETS IN THE DELIVERABLE.."
   ]
  },
  {
   "cell_type": "code",
   "execution_count": 1,
   "metadata": {
    "jupyter": {
     "outputs_hidden": false
    }
   },
   "outputs": [],
   "source": [
    "# Python 3.6 or above is required\n",
    "from collections import defaultdict\n",
    "import gzip\n",
    "import numpy as np\n",
    "from pathlib import Path"
   ]
  },
  {
   "cell_type": "code",
   "execution_count": 2,
   "metadata": {},
   "outputs": [],
   "source": [
    "PATH_TO_DATA = Path('data/')\n",
    "# Download word vectors, might take a few minutes and about ~3GB of storage space\n",
    "en_embeddings_path = PATH_TO_DATA / 'cc.en.300.vec.gz'\n",
    "if not en_embeddings_path.exists():\n",
    "    urlretrieve('https://dl.fbaipublicfiles.com/fasttext/vectors-crawl/cc.en.300.vec.gz', en_embeddings_path)\n",
    "fr_embeddings_path = PATH_TO_DATA / 'cc.fr.300.vec.gz'\n",
    "if not fr_embeddings_path.exists():\n",
    "    urlretrieve('https://dl.fbaipublicfiles.com/fasttext/vectors-crawl/cc.fr.300.vec.gz', fr_embeddings_path)"
   ]
  },
  {
   "cell_type": "code",
   "execution_count": 3,
   "metadata": {},
   "outputs": [],
   "source": [
    "PATH_TO_DATA = Path('data/')\n",
    "# Download word vectors, might take a few minutes and about ~3GB of storage space\n",
    "en_embeddings_path = PATH_TO_DATA / 'cc.en.300.vec.gz'\n",
    "fr_embeddings_path = PATH_TO_DATA / 'cc.fr.300.vec.gz'"
   ]
  },
  {
   "cell_type": "markdown",
   "metadata": {},
   "source": [
    "# 1) Monolingual (English) word embeddings "
   ]
  },
  {
   "cell_type": "code",
   "execution_count": 4,
   "metadata": {},
   "outputs": [],
   "source": [
    "class Word2Vec():\n",
    "\n",
    "    def __init__(self, filepath, vocab_size=50000):\n",
    "        self.words, self.embeddings = self.load_wordvec(filepath, vocab_size)\n",
    "        # Mappings for O(1) retrieval:\n",
    "        self.word2id = {word: idx for idx, word in enumerate(self.words)}\n",
    "        self.id2word = {idx: word for idx, word in enumerate(self.words)}\n",
    "    \n",
    "    def load_wordvec(self, filepath, vocab_size):\n",
    "        assert str(filepath).endswith('.gz')\n",
    "        words = []\n",
    "        embeddings = []\n",
    "        with gzip.open(filepath, 'rt', encoding=\"utf8\") as f:  # Read compressed file directly\n",
    "            next(f)  # Skip header\n",
    "            for i, line in enumerate(f):\n",
    "                word, vec = line.split(' ', 1)\n",
    "                words.append(word)\n",
    "                embeddings.append(np.fromstring(vec, sep=' '))\n",
    "                if i == (vocab_size - 1):\n",
    "                    break\n",
    "        print('Loaded %s pretrained word vectors' % (len(words)))\n",
    "        return words, np.vstack(embeddings)\n",
    "    \n",
    "    def encode(self, word):\n",
    "        # Returns the 1D embedding of a given word\n",
    "        return self.embeddings[self.word2id[word]]\n",
    "    \n",
    "    def score(self, word1, word2):\n",
    "        # Return the cosine similarity: use np.dot & np.linalg.norm\n",
    "        encode1, encode2 = self.encode(word1), self.encode(word2)\n",
    "        return (np.dot(encode1,encode2))/(np.linalg.norm(encode1) * np.linalg.norm(encode2))\n",
    "    \n",
    "    def most_similar(self, word, k=5):\n",
    "        # Returns the k most similar words: self.score & np.argsort\n",
    "        result = np.argsort([self.score(word, w) for w in self.words])[-2:-2-k:-1]\n",
    "        return [self.words[i] for i in result]"
   ]
  },
  {
   "cell_type": "code",
   "execution_count": 5,
   "metadata": {
    "jupyter": {
     "outputs_hidden": false
    }
   },
   "outputs": [
    {
     "name": "stdout",
     "output_type": "stream",
     "text": [
      "Loaded 50000 pretrained word vectors\n",
      "cat tree 0.2644975466165475\n",
      "cat dog 0.7078641298542562\n",
      "cat pet 0.6753313359976381\n",
      "Paris France 0.6892958925806542\n",
      "Paris Germany 0.4051242286737548\n",
      "Paris baguette 0.29399958277802224\n",
      "Paris donut -0.006588507552348005\n",
      "['cats', 'kitty', 'kitten', 'feline', 'dog']\n",
      "['dogs', 'puppy', 'pup', 'canine', 'pet']\n",
      "['dog', 'cats', 'puppies', 'Dogs', 'pets']\n",
      "['France', 'Parisian', 'Marseille', 'Brussels', 'Strasbourg']\n",
      "['Austria', 'Europe', 'Berlin', 'Hamburg', 'Bavaria']\n"
     ]
    }
   ],
   "source": [
    "word2vec = Word2Vec(en_embeddings_path, vocab_size=50000)\n",
    "\n",
    "# You will be evaluated on the output of the following:\n",
    "for word1, word2 in zip(('cat', 'cat', 'cat', 'Paris', 'Paris', 'Paris', 'Paris'), ('tree', 'dog', 'pet', 'France', 'Germany', 'baguette', 'donut')):\n",
    "    print(word1, word2, word2vec.score(word1, word2))\n",
    "for word in ['cat', 'dog', 'dogs', 'Paris', 'Germany']:\n",
    "    print(word2vec.most_similar(word))"
   ]
  },
  {
   "cell_type": "code",
   "execution_count": 6,
   "metadata": {
    "jupyter": {
     "outputs_hidden": false
    }
   },
   "outputs": [],
   "source": [
    "class BagOfWords():\n",
    "    \n",
    "    def __init__(self, word2vec):\n",
    "        self.word2vec = word2vec\n",
    "    \n",
    "    def build_idf(self, sentences):\n",
    "        # build the idf dictionary: associate each word to its idf value\n",
    "        # -> idf = {word: idf_value, ...}\n",
    "        \n",
    "        idf = dict.fromkeys(self.word2vec.word2id.keys(),0)\n",
    "        N = len(sentences)\n",
    "        for sent in sentences:\n",
    "            sentence = set(sent.split(\" \"))\n",
    "            for w in sentence:\n",
    "                if w in idf:\n",
    "                    idf[w] += 1\n",
    "        idf = {k: np.log(N/(1 + v)) for k, v in idf.items()}\n",
    "        return idf\n",
    "    \n",
    "    def encode(self, sentence, idf=None):\n",
    "        # Takes a sentence as input, returns the sentence embedding\n",
    "        sent = sentence.split(\" \")\n",
    "        if idf is None:\n",
    "            # mean of word vectors\n",
    "            return np.mean([self.word2vec.encode(word) for word in sent if word in self.word2vec.word2id], axis = 0)\n",
    "        else:\n",
    "            # idf-weighted mean of word vectors\n",
    "            for word in sent:\n",
    "                listEmb = [self.word2vec.encode(word) for word in sent if word in self.word2vec.word2id]\n",
    "                listWeights = [idf[word] for word in sent if word in self.word2vec.word2id]\n",
    "            return np.average(listEmb, weights = listWeights, axis = 0)\n",
    "\n",
    "    def score(self, sentence1, sentence2, idf=None):\n",
    "        # cosine similarity: use np.dot & np.linalg.norm \n",
    "        encode1, encode2 = self.encode(sentence1, idf), self.encode(sentence2, idf)\n",
    "        return (np.dot(encode1,encode2))/(np.linalg.norm(encode1) * np.linalg.norm(encode2))\n",
    "    \n",
    "    def most_similar(self, sentence, sentences, idf=None, k=5):\n",
    "        # Return most similar sentences\n",
    "        result = np.argsort([self.score(sentence, sentenceTrg) for sentenceTrg in sentences])[-2:-2-k:-1]\n",
    "        return [sentences[i] for i in result]"
   ]
  },
  {
   "cell_type": "code",
   "execution_count": 7,
   "metadata": {
    "jupyter": {
     "outputs_hidden": false
    }
   },
   "outputs": [
    {
     "name": "stdout",
     "output_type": "stream",
     "text": [
      "Loaded 50000 pretrained word vectors\n",
      "\n",
      "\tAverage of word embeddings\n",
      "1 man singing and 1 man playing a saxophone in a concert . \n",
      "10 people venture out to go crosscountry skiing . \n",
      "0.7065220648251476\n",
      "1 smiling african american boy . \n",
      "1) 2 woman dancing while pointing . \n",
      "2) 5 women and 1 man are smiling for the camera . \n",
      "3) a small boy following 4 geese . \n",
      "4) 2 female babies eating chips . \n",
      "5) a young boy and 2 girls open christmas presents . \n",
      "\n",
      "\tidf weighted average of word embeddings\n",
      "1 man singing and 1 man playing a saxophone in a concert . \n",
      "10 people venture out to go crosscountry skiing . \n",
      "0.6400773156424754\n",
      "a young boy and 2 girls open christmas presents . \n",
      "1) a small boy following 4 geese . \n",
      "2) a woman walking with 4 kids . \n",
      "3) 2 older women and a young girl with a red bike . \n",
      "4) two girls and a boy rollerskating . \n",
      "5) a youthful race against 2 asian kids . \n"
     ]
    }
   ],
   "source": [
    "word2vec = Word2Vec(en_embeddings_path, vocab_size=50000)\n",
    "sentence2vec = BagOfWords(word2vec)\n",
    "\n",
    "# Load sentences in \"PATH_TO_DATA/sentences.txt\"\n",
    "filepath = PATH_TO_DATA / 'sentences.txt'\n",
    "with open(filepath, 'r') as f:\n",
    "    sentences = [line.strip('\\n') for line in f]\n",
    "\n",
    "\n",
    "# You will be evaluated on the output of the following:\n",
    "print('\\n\\tAverage of word embeddings')\n",
    "sentence1 = sentences[7]\n",
    "sentence2 = sentences[13]\n",
    "print(sentence1)\n",
    "print(sentence2)\n",
    "print(sentence2vec.score(sentence1, sentence2))\n",
    "sentence = sentences[10]\n",
    "similar_sentences = sentence2vec.most_similar(sentence, sentences)  # BagOfWords-mean\n",
    "print(sentence)\n",
    "for i, sentence in enumerate(similar_sentences):\n",
    "    print(str(i+1) + ')', sentence)\n",
    "\n",
    "# Build idf scores for each word\n",
    "idf = sentence2vec.build_idf(sentences)\n",
    "\n",
    "print('\\n\\tidf weighted average of word embeddings')\n",
    "print(sentence1)\n",
    "print(sentence2)\n",
    "print(sentence2vec.score(sentence1, sentence2, idf))\n",
    "similar_sentences = sentence2vec.most_similar(sentence, sentences, idf)  # BagOfWords-idf\n",
    "print(sentence)\n",
    "for i, sentence in enumerate(similar_sentences):\n",
    "    print(str(i+1) + ')', sentence)"
   ]
  },
  {
   "cell_type": "markdown",
   "metadata": {},
   "source": [
    "# 2) Multilingual (English-French) word embeddings"
   ]
  },
  {
   "cell_type": "markdown",
   "metadata": {},
   "source": [
    "Let's consider a bilingual dictionary of size V_a (e.g French-English).\n",
    "\n",
    "Let's define **X** and **Y** the **French** and **English** matrices.\n",
    "\n",
    "They contain the embeddings associated to the words in the bilingual dictionary.\n",
    "\n",
    "We want to find a **mapping W** that will project the source word space (e.g French) to the target word space (e.g English).\n",
    "\n",
    "Procrustes : **W\\* = argmin || W.X - Y ||  s.t  W^T.W = Id**\n",
    "has a closed form solution:\n",
    "**W = U.V^T  where  U.Sig.V^T = SVD(Y.X^T)**\n",
    "\n",
    "In what follows, you are asked to: "
   ]
  },
  {
   "cell_type": "code",
   "execution_count": 8,
   "metadata": {},
   "outputs": [],
   "source": [
    "class MultilingualWordAligner:\n",
    "    \n",
    "    def __init__(self, fr_word2vec, en_word2vec):\n",
    "        self.fr_word2vec = fr_word2vec\n",
    "        self.en_word2vec = en_word2vec\n",
    "        self.aligned_fr_embeddings = self.get_aligned_fr_embeddings()\n",
    "        \n",
    "    def get_aligned_fr_embeddings(self):\n",
    "        # 1 - Get words that appear in both vocabs (= identical character strings)\n",
    "        #     Use it to create the matrix X (emb_dim, vocab_size) and Y (emb_dim, vocab_size) (of embeddings for these words)\n",
    "        commonWords = set(self.fr_word2vec.word2id.keys()).intersection(set(self.en_word2vec.word2id.keys()))\n",
    "        X = np.zeros((self.fr_word2vec.embeddings.shape[1], len(commonWords)))\n",
    "        Y = np.zeros((self.fr_word2vec.embeddings.shape[1], len(commonWords)))\n",
    "        for i, word in enumerate(commonWords):\n",
    "            X[:,i] = self.fr_word2vec.encode(word)\n",
    "            Y[:,i] = self.en_word2vec.encode(word)\n",
    "            \n",
    "        assert X.shape[0] == 300 and Y.shape[0] == 300\n",
    "        \n",
    "        # 2 - Solve the Procrustes using the numpy package and: np.linalg.svd() and get the optimal W\n",
    "        #     Now self.fr_word2vec.embeddings * W.transpose() is in the same space as en_word2vec.embeddings\n",
    "        u, _, vh = np.linalg.svd(Y.dot(X.T))\n",
    "        W = u.dot(vh)\n",
    "        assert W.shape == (300, 300)\n",
    "        return np.matmul(fr_word2vec.embeddings, W.transpose())\n",
    "        \n",
    "    def get_closest_english_words(self, fr_word, k=3):\n",
    "        # 3 - Return the top k English nearest neighbors to the input French word\n",
    "        f = lambda a,b : np.dot(a,b)/(np.linalg.norm(a) * np.linalg.norm(b))\n",
    "        #f = lambda a,b : np.linalg.norm(a-b)\n",
    "        resultInd = np.argsort([f(self.aligned_fr_embeddings[self.fr_word2vec.word2id[fr_word]], el) for el in self.en_word2vec.embeddings])[-2:-2-k:-1]\n",
    "        #resultInd = np.argsort([f(self.aligned_fr_embeddings[self.fr_word2vec.word2id[fr_word]], el) for el in self.en_word2vec.embeddings])[1:k+1]\n",
    "        return [self.en_word2vec.words[i] for i in resultInd]"
   ]
  },
  {
   "cell_type": "code",
   "execution_count": 9,
   "metadata": {},
   "outputs": [
    {
     "name": "stdout",
     "output_type": "stream",
     "text": [
      "Loaded 50000 pretrained word vectors\n",
      "Loaded 50000 pretrained word vectors\n",
      "----------\n",
      "fr: \"chat\"\n",
      "en: \"kitten\"\n",
      "en: \"kitty\"\n",
      "en: \"pet\"\n",
      "----------\n",
      "fr: \"chien\"\n",
      "en: \"cat\"\n",
      "en: \"pet\"\n",
      "en: \"pup\"\n",
      "----------\n",
      "fr: \"voiture\"\n",
      "en: \"vehicle\"\n",
      "en: \"automobile\"\n",
      "en: \"motorbike\"\n",
      "----------\n",
      "fr: \"zut\"\n",
      "en: \"Ah\"\n",
      "en: \"ah\"\n",
      "en: \"nope\"\n"
     ]
    }
   ],
   "source": [
    "fr_word2vec = Word2Vec(fr_embeddings_path, vocab_size=50000)\n",
    "en_word2vec = Word2Vec(en_embeddings_path, vocab_size=50000)\n",
    "multilingual_word_aligner = MultilingualWordAligner(fr_word2vec, en_word2vec)\n",
    "\n",
    "# You will be evaluated on the output of the following:\n",
    "fr_words = ['chat', 'chien', 'voiture', 'zut']\n",
    "k = 3\n",
    "for fr_word in fr_words:\n",
    "    print('-' * 10)\n",
    "    print(f'fr: \"{fr_word}\"')\n",
    "    en_words = multilingual_word_aligner.get_closest_english_words(fr_word, k=3)\n",
    "    for en_word in en_words:\n",
    "        print(f'en: \"{en_word}\"')"
   ]
  },
  {
   "cell_type": "markdown",
   "metadata": {},
   "source": [
    "If you want to dive deeper on this subject: https://github.com/facebookresearch/MUSE"
   ]
  },
  {
   "cell_type": "markdown",
   "metadata": {},
   "source": [
    "# 3) Sentence classification with BoV and scikit-learn"
   ]
  },
  {
   "cell_type": "code",
   "execution_count": 10,
   "metadata": {},
   "outputs": [],
   "source": [
    "# 1 - Load train/dev/test of Stanford Sentiment TreeBank (SST)\n",
    "#     (https://nlp.stanford.edu/~socherr/EMNLP2013_RNTN.pdf)\n",
    "train_filepath = PATH_TO_DATA / 'SST/stsa.fine.train'\n",
    "dev_filepath = PATH_TO_DATA / 'SST/stsa.fine.dev'\n",
    "test_filepath = PATH_TO_DATA / 'SST/stsa.fine.test.X'\n",
    "\n",
    "## Load Train Set\n",
    "labels_train = []\n",
    "sentences_train = []\n",
    "with open(train_filepath, 'r') as f:\n",
    "    for line in f:\n",
    "        sentence = line.strip('\\n')\n",
    "        labels_train.append(int(sentence[0]))\n",
    "        sentences_train.append(sentence[2:])\n",
    "labels_train = np.array(labels_train)\n",
    "        \n",
    "## Load Dev Set\n",
    "labels_dev = []\n",
    "sentences_dev = []\n",
    "with open(dev_filepath, 'r') as f:\n",
    "    for line in f:\n",
    "        sentence = line.strip('\\n')\n",
    "        labels_dev.append(int(sentence[0]))\n",
    "        sentences_dev.append(sentence[2:])\n",
    "labels_dev = np.array(labels_dev)\n",
    "\n",
    "## Load Test Set\n",
    "labels_test = []\n",
    "sentences_test = []\n",
    "with open(test_filepath, 'r') as f:\n",
    "    for line in f:\n",
    "        sentence = line.strip('\\n')\n",
    "        sentences_test.append(sentence)\n"
   ]
  },
  {
   "cell_type": "code",
   "execution_count": 11,
   "metadata": {},
   "outputs": [],
   "source": [
    "# 2 - Encode sentences with the BoV model above\n",
    "\n",
    "## Encode Train Set\n",
    "embb_train = np.array([sentence2vec.encode(sentence) for sentence in sentences_train])\n",
    "\n",
    "## Encode Dev Set\n",
    "embb_dev = np.array([sentence2vec.encode(sentence) for sentence in sentences_dev])\n",
    "\n",
    "## Encode Test Set\n",
    "embb_test = np.array([sentence2vec.encode(sentence) for sentence in sentences_test])"
   ]
  },
  {
   "cell_type": "code",
   "execution_count": 12,
   "metadata": {},
   "outputs": [],
   "source": [
    "from sklearn.linear_model import LogisticRegression\n",
    "import matplotlib.pyplot as plt"
   ]
  },
  {
   "cell_type": "code",
   "execution_count": 13,
   "metadata": {
    "scrolled": true
   },
   "outputs": [
    {
     "data": {
      "text/plain": [
       "<matplotlib.legend.Legend at 0x28b4331ddc8>"
      ]
     },
     "execution_count": 13,
     "metadata": {},
     "output_type": "execute_result"
    },
    {
     "data": {
      "image/png": "[encoded data removed]",
      "text/plain": [
       "<Figure size 432x288 with 1 Axes>"
      ]
     },
     "metadata": {
      "needs_background": "light"
     },
     "output_type": "display_data"
    }
   ],
   "source": [
    "# 3 - Learn Logistic Regression on top of sentence embeddings using scikit-learn\n",
    "#     (consider tuning the L2 regularization on the dev set)\n",
    "#     In the paper, the accuracy for average of word vectors is 32.7%\n",
    "#     (VecAvg, table 1, https://nlp.stanford.edu/~socherr/EMNLP2013_RNTN.pdf)\n",
    "\n",
    "C_test = np.logspace(-1,2,30)\n",
    "score_test = []\n",
    "\n",
    "for C in C_test:\n",
    "    clf = LogisticRegression(C = C, solver='lbfgs', max_iter=1500, multi_class = 'auto').fit(embb_train, labels_train)\n",
    "    score_test.append(clf.score(embb_dev, labels_dev))\n",
    "\n",
    "plt.plot(C_test, score_test, label = 'Dev Score for different values of C')\n",
    "plt.xlabel(\"C\")\n",
    "plt.ylabel(\"Dev Accuracy\")\n",
    "plt.title(\"GridSearch for C value\")\n",
    "plt.legend()"
   ]
  },
  {
   "cell_type": "code",
   "execution_count": 14,
   "metadata": {},
   "outputs": [
    {
     "name": "stdout",
     "output_type": "stream",
     "text": [
      "Cmax value for Average Word Vectors: 11.721022975334806\n",
      "Training Score Average Word Vectors: 0.4674625468164794\n",
      "Dev Score Average Word Vectors: 0.41689373297002724\n"
     ]
    }
   ],
   "source": [
    "C = C_test[np.argmax(score_test)]\n",
    "clf = LogisticRegression(C = C, solver='lbfgs', max_iter=2000, multi_class = 'auto').fit(embb_train, labels_train)\n",
    "print(\"Cmax value for Average Word Vectors:\", C)\n",
    "print(\"Training Score Average Word Vectors:\", clf.score(embb_train, labels_train))\n",
    "print(\"Dev Score Average Word Vectors:\",clf.score(embb_dev, labels_dev))"
   ]
  },
  {
   "cell_type": "markdown",
   "metadata": {},
   "source": [
    "#### Accuracy for weighed Average Word Vectors"
   ]
  },
  {
   "cell_type": "code",
   "execution_count": 15,
   "metadata": {},
   "outputs": [
    {
     "data": {
      "text/plain": [
       "<matplotlib.legend.Legend at 0x28b3c96d248>"
      ]
     },
     "execution_count": 15,
     "metadata": {},
     "output_type": "execute_result"
    },
    {
     "data": {
      "image/png": "[encoded data removed]",
      "text/plain": [
       "<Figure size 432x288 with 1 Axes>"
      ]
     },
     "metadata": {
      "needs_background": "light"
     },
     "output_type": "display_data"
    }
   ],
   "source": [
    "# Build idf scores for words in train and dev set (We are not supposed to see the test set)\n",
    "idf = sentence2vec.build_idf(sentences_train + sentences_dev)\n",
    "\n",
    "## Encode Train Set\n",
    "embbW_train = np.array([sentence2vec.encode(sentence, idf = idf) for sentence in sentences_train])\n",
    "\n",
    "## Encode Dev Set\n",
    "embbW_dev = np.array([sentence2vec.encode(sentence, idf = idf) for sentence in sentences_dev])\n",
    "\n",
    "## Encode Test Set\n",
    "embbW_test = np.array([sentence2vec.encode(sentence, idf = idf) for sentence in sentences_test])\n",
    "\n",
    "C_testW = np.logspace(-1,2,30)\n",
    "score_testW = []\n",
    "\n",
    "for C in C_testW:\n",
    "    clf = LogisticRegression(C = C, solver='lbfgs', max_iter=1500, multi_class = 'auto').fit(embbW_train, labels_train)\n",
    "    score_testW.append(clf.score(embbW_dev, labels_dev))\n",
    "\n",
    "plt.plot(C_testW, score_testW, label = 'Dev Score for different values of C')\n",
    "plt.xlabel(\"C\")\n",
    "plt.ylabel(\"Dev Accuracy\")\n",
    "plt.title(\"GridSearch for C value\")\n",
    "plt.legend()"
   ]
  },
  {
   "cell_type": "code",
   "execution_count": 16,
   "metadata": {},
   "outputs": [
    {
     "name": "stdout",
     "output_type": "stream",
     "text": [
      "Cmax value for Weighted Average Word Vectors: 5.736152510448679\n",
      "Training Score Weighted Average Word Vectors: 0.46875\n",
      "Dev Score Weighted Average Word Vectors: 0.4187102633969119\n"
     ]
    }
   ],
   "source": [
    "C = C_testW[np.argmax(score_testW)]\n",
    "clf = LogisticRegression(C = C, solver='lbfgs', max_iter=2000, multi_class = 'auto').fit(embbW_train, labels_train)\n",
    "print(\"Cmax value for Weighted Average Word Vectors:\", C)\n",
    "print(\"Training Score Weighted Average Word Vectors:\", clf.score(embbW_train, labels_train))\n",
    "print(\"Dev Score Weighted Average Word Vectors:\",clf.score(embbW_dev, labels_dev))"
   ]
  },
  {
   "cell_type": "code",
   "execution_count": 17,
   "metadata": {},
   "outputs": [],
   "source": [
    "# 4 - Produce 2210 predictions for the test set (in the same order). One line = one prediction (=0,1,2,3,4).\n",
    "#     Attach the output file \"logreg_bov_y_test_sst.txt\" to your deliverable.\n",
    "#     You will be evaluated on the results of the test set.\n",
    "\n",
    "## We take C for the embedding with idf weighed average since it gives slighlty better scores, and we use the train and dev set for training\n",
    "C = C_testW[np.argmax(score_testW)]\n",
    "clf = LogisticRegression(C = C, solver='lbfgs', max_iter=2000, multi_class = 'auto').fit(np.concatenate((embbW_train, embbW_dev), axis = 0), np.concatenate((labels_train, labels_dev)))\n",
    "labels_test = clf.predict(embbW_test).astype(int)\n",
    "np.savetxt(\"logreg_bov_y_test_sst.txt\", labels_test, fmt='%i', delimiter=\",\")"
   ]
  },
  {
   "cell_type": "code",
   "execution_count": 18,
   "metadata": {},
   "outputs": [],
   "source": [
    "# BONUS!\n",
    "# 5 - Try to improve performance with another classifier\n",
    "#     Attach the output file \"XXX_bov_y_test_sst.txt\" to your deliverable (where XXX = the name of the classifier)"
   ]
  },
  {
   "cell_type": "markdown",
   "metadata": {},
   "source": [
    "### Other Classification Models"
   ]
  },
  {
   "cell_type": "markdown",
   "metadata": {},
   "source": [
    "#### Support Vector Machine"
   ]
  },
  {
   "cell_type": "code",
   "execution_count": 19,
   "metadata": {},
   "outputs": [
    {
     "data": {
      "text/plain": [
       "<matplotlib.legend.Legend at 0x28b3c97ee08>"
      ]
     },
     "execution_count": 19,
     "metadata": {},
     "output_type": "execute_result"
    },
    {
     "data": {
      "image/png": "[encoded data removed]",
      "text/plain": [
       "<Figure size 432x288 with 1 Axes>"
      ]
     },
     "metadata": {
      "needs_background": "light"
     },
     "output_type": "display_data"
    }
   ],
   "source": [
    "from sklearn.svm import SVC\n",
    "C_testSVM = np.logspace(0,2,10)\n",
    "score_testSVM = []\n",
    "\n",
    "for C in C_testSVM:\n",
    "    clf = SVC(C = C, kernel = 'linear').fit(embb_train, labels_train)\n",
    "    score_testSVM.append(clf.score(embb_dev, labels_dev))\n",
    "\n",
    "plt.plot(C_testSVM, score_testSVM, label = 'Dev Score for different values of C')\n",
    "plt.xlabel(\"C\")\n",
    "plt.ylabel(\"Dev Accuracy\")\n",
    "plt.title(\"GridSearch for C value\")\n",
    "plt.legend()"
   ]
  },
  {
   "cell_type": "code",
   "execution_count": 20,
   "metadata": {},
   "outputs": [
    {
     "name": "stdout",
     "output_type": "stream",
     "text": [
      "Cmax value for Average Word Vectors SVM: 12.91549665014884\n",
      "Training Score Average Word Vectors SVM: 0.4657069288389513\n",
      "Dev Score Average Word Vectors SVM: 0.4232515894641235\n"
     ]
    }
   ],
   "source": [
    "C = C_testSVM[np.argmax(score_testSVM)]\n",
    "clf = SVC(C = C, kernel = 'linear').fit(embb_train, labels_train)\n",
    "print(\"Cmax value for Average Word Vectors SVM:\", C)\n",
    "print(\"Training Score Average Word Vectors SVM:\", clf.score(embb_train, labels_train))\n",
    "print(\"Dev Score Average Word Vectors SVM:\",clf.score(embb_dev, labels_dev))"
   ]
  },
  {
   "cell_type": "markdown",
   "metadata": {},
   "source": [
    "#### Random Forest"
   ]
  },
  {
   "cell_type": "code",
   "execution_count": 21,
   "metadata": {},
   "outputs": [
    {
     "data": {
      "text/plain": [
       "<matplotlib.legend.Legend at 0x28b3d356e48>"
      ]
     },
     "execution_count": 21,
     "metadata": {},
     "output_type": "execute_result"
    },
    {
     "data": {
      "image/png": "[encoded data removed]",
      "text/plain": [
       "<Figure size 432x288 with 1 Axes>"
      ]
     },
     "metadata": {
      "needs_background": "light"
     },
     "output_type": "display_data"
    }
   ],
   "source": [
    "from sklearn.ensemble import RandomForestClassifier\n",
    "C_testRFM = range(10,20)\n",
    "score_testRFM = []\n",
    "\n",
    "for el in C_testRFM:\n",
    "    clf = RandomForestClassifier(max_depth=el, n_estimators=100).fit(embb_train, labels_train)\n",
    "    score_testRFM.append(clf.score(embb_dev, labels_dev))\n",
    "\n",
    "\n",
    "plt.plot(C_testRFM, score_testRFM, label = 'Dev Score for different values of C')\n",
    "plt.xlabel(\"C\")\n",
    "plt.ylabel(\"Dev Accuracy\")\n",
    "plt.title(\"GridSearch for C value\")\n",
    "plt.legend()"
   ]
  },
  {
   "cell_type": "code",
   "execution_count": 22,
   "metadata": {},
   "outputs": [
    {
     "name": "stderr",
     "output_type": "stream",
     "text": [
      "c:\\users\\33617\\appdata\\local\\programs\\python\\python37\\lib\\site-packages\\sklearn\\ensemble\\forest.py:245: FutureWarning: The default value of n_estimators will change from 10 in version 0.20 to 100 in 0.22.\n",
      "  \"10 in version 0.20 to 100 in 0.22.\", FutureWarning)\n"
     ]
    },
    {
     "name": "stdout",
     "output_type": "stream",
     "text": [
      "Cmax value for Average Word Vectors SVM: 11\n",
      "Training Score Average Word Vectors SVM: 0.7806647940074907\n",
      "Dev Score Average Word Vectors SVM: 0.2924613987284287\n"
     ]
    }
   ],
   "source": [
    "el = C_testRFM[np.argmax(score_testRFM)]\n",
    "clf = RandomForestClassifier(max_depth=el).fit(embb_train, labels_train)\n",
    "print(\"Cmax value for Average Word Vectors SVM:\", el)\n",
    "print(\"Training Score Average Word Vectors SVM:\", clf.score(embb_train, labels_train))\n",
    "print(\"Dev Score Average Word Vectors SVM:\",clf.score(embb_dev, labels_dev))"
   ]
  },
  {
   "cell_type": "markdown",
   "metadata": {},
   "source": [
    "#### Prevision : SVM"
   ]
  },
  {
   "cell_type": "code",
   "execution_count": 23,
   "metadata": {},
   "outputs": [],
   "source": [
    "C = C_testSVM[np.argmax(score_testSVM)]\n",
    "clf = SVC(C = C, kernel = 'linear').fit(np.concatenate((embb_train,embb_dev), axis = 0), np.concatenate((labels_train, labels_dev)))\n",
    "labels_testSVM = clf.predict(embb_test).astype(int)\n",
    "np.savetxt(\"svm_bov_y_test_sst.txt\", labels_testSVM, fmt='%i', delimiter=\",\")"
   ]
  },
  {
   "cell_type": "markdown",
   "metadata": {},
   "source": [
    "# 4) Sentence classification with LSTMs in Keras"
   ]
  },
  {
   "cell_type": "markdown",
   "metadata": {},
   "source": [
    "## 4.1 - Preprocessing"
   ]
  },
  {
   "cell_type": "code",
   "execution_count": 34,
   "metadata": {
    "jupyter": {
     "outputs_hidden": false
    }
   },
   "outputs": [],
   "source": [
    "import tensorflow as tf"
   ]
  },
  {
   "cell_type": "code",
   "execution_count": 35,
   "metadata": {},
   "outputs": [],
   "source": [
    "# 1 - Using the same dataset, transform text to integers using tf.keras.preprocessing.text.one_hot function\n",
    "#     https://keras.io/preprocessing/text/\n",
    "tokenizer = tf.keras.preprocessing.text.Tokenizer(num_words=50000, oov_token=50001)\n",
    "tokenizer.fit_on_texts(sentences_train)"
   ]
  },
  {
   "cell_type": "markdown",
   "metadata": {},
   "source": [
    "**Padding input data**\n",
    "\n",
    "Models in Keras (and elsewhere) take batches of sentences of the same length as input. It is because Deep Learning framework have been designed to handle well Tensors, which are particularly suited for fast computation on the GPU.\n",
    "\n",
    "Since sentences have different sizes, we \"pad\" them. That is, we add dummy \"padding\" tokens so that they all have the same length.\n",
    "\n",
    "The input to a Keras model thus has this size : (batchsize, maxseqlen) where maxseqlen is the maximum length of a sentence in the batch."
   ]
  },
  {
   "cell_type": "code",
   "execution_count": 36,
   "metadata": {},
   "outputs": [],
   "source": [
    "# 2 - Pad your sequences using tf.keras.preprocessing.sequence.pad_sequences\n",
    "#     https://keras.io/preprocessing/sequence/\n",
    "sentences_train_int = tokenizer.texts_to_sequences(sentences_train)\n",
    "x_train = tf.keras.preprocessing.sequence.pad_sequences(sentences_train_int, maxlen=35, padding='post', truncating='post')\n",
    "\n",
    "sentences_dev_int = tokenizer.texts_to_sequences(sentences_dev)\n",
    "x_dev = tf.keras.preprocessing.sequence.pad_sequences(sentences_dev_int, maxlen=35, padding='post', truncating='post')\n",
    "\n",
    "sentences_test_int = tokenizer.texts_to_sequences(sentences_test)\n",
    "x_test = tf.keras.preprocessing.sequence.pad_sequences(sentences_test_int, maxlen=35, padding='post', truncating='post')"
   ]
  },
  {
   "cell_type": "code",
   "execution_count": 37,
   "metadata": {},
   "outputs": [
    {
     "name": "stdout",
     "output_type": "stream",
     "text": [
      "15338\n"
     ]
    }
   ],
   "source": [
    "print(np.max([np.max(l) for l in sentences_test_int]))"
   ]
  },
  {
   "cell_type": "markdown",
   "metadata": {},
   "source": [
    "## 4.2 - Design and train your model"
   ]
  },
  {
   "cell_type": "code",
   "execution_count": 42,
   "metadata": {
    "scrolled": true
   },
   "outputs": [
    {
     "name": "stderr",
     "output_type": "stream",
     "text": [
      "W0207 15:47:03.170137   244 training.py:593] The `nb_epoch` argument in `fit` has been renamed `epochs`.\n"
     ]
    },
    {
     "name": "stdout",
     "output_type": "stream",
     "text": [
      "Model: \"sequential_2\"\n",
      "_________________________________________________________________\n",
      "Layer (type)                 Output Shape              Param #   \n",
      "=================================================================\n",
      "embedding_2 (Embedding)      (None, None, 32)          1600064   \n",
      "_________________________________________________________________\n",
      "lstm_2 (LSTM)                (None, 64)                24832     \n",
      "_________________________________________________________________\n",
      "dense_2 (Dense)              (None, 5)                 325       \n",
      "=================================================================\n",
      "Total params: 1,625,221\n",
      "Trainable params: 1,625,221\n",
      "Non-trainable params: 0\n",
      "_________________________________________________________________\n",
      "None\n",
      "Train on 8544 samples, validate on 1101 samples\n",
      "Epoch 1/30\n",
      "8544/8544 [==============================] - 8s 961us/sample - loss: 1.5747 - acc: 0.2667 - val_loss: 1.5731 - val_acc: 0.2661\n",
      "Epoch 2/30\n",
      "8544/8544 [==============================] - 7s 875us/sample - loss: 1.5688 - acc: 0.2732 - val_loss: 1.5747 - val_acc: 0.2534\n",
      "Epoch 3/30\n",
      "8544/8544 [==============================] - 7s 865us/sample - loss: 1.5656 - acc: 0.2794 - val_loss: 1.5710 - val_acc: 0.2925\n",
      "Epoch 4/30\n",
      "8544/8544 [==============================] - 8s 923us/sample - loss: 1.5257 - acc: 0.3234 - val_loss: 1.5135 - val_acc: 0.3451\n",
      "Epoch 5/30\n",
      "8544/8544 [==============================] - 8s 893us/sample - loss: 1.3198 - acc: 0.4476 - val_loss: 1.4538 - val_acc: 0.3660\n",
      "Epoch 6/30\n",
      "8544/8544 [==============================] - 7s 863us/sample - loss: 1.1061 - acc: 0.5419 - val_loss: 1.4945 - val_acc: 0.3497\n",
      "Epoch 7/30\n",
      "8544/8544 [==============================] - 8s 895us/sample - loss: 0.9595 - acc: 0.6064 - val_loss: 1.6328 - val_acc: 0.3660\n",
      "Epoch 8/30\n",
      "8544/8544 [==============================] - 8s 878us/sample - loss: 0.8451 - acc: 0.6465 - val_loss: 1.8186 - val_acc: 0.3361\n",
      "Epoch 9/30\n",
      "8544/8544 [==============================] - 7s 862us/sample - loss: 0.7600 - acc: 0.6824 - val_loss: 1.8132 - val_acc: 0.3597\n",
      "Epoch 10/30\n",
      "8544/8544 [==============================] - 8s 978us/sample - loss: 0.7025 - acc: 0.7137 - val_loss: 1.9724 - val_acc: 0.3288\n",
      "Epoch 11/30\n",
      "8544/8544 [==============================] - 8s 879us/sample - loss: 0.6234 - acc: 0.7471 - val_loss: 1.9121 - val_acc: 0.3497\n",
      "Epoch 12/30\n",
      "8544/8544 [==============================] - 8s 889us/sample - loss: 0.5681 - acc: 0.7822 - val_loss: 2.2169 - val_acc: 0.3588\n",
      "Epoch 13/30\n",
      "8544/8544 [==============================] - 8s 942us/sample - loss: 0.5166 - acc: 0.8055 - val_loss: 2.1966 - val_acc: 0.3551\n",
      "Epoch 14/30\n",
      "8544/8544 [==============================] - 8s 950us/sample - loss: 0.4817 - acc: 0.8234 - val_loss: 2.3324 - val_acc: 0.3370\n",
      "Epoch 15/30\n",
      "8544/8544 [==============================] - 8s 953us/sample - loss: 0.4378 - acc: 0.8404 - val_loss: 2.5363 - val_acc: 0.3424\n",
      "Epoch 16/30\n",
      "8544/8544 [==============================] - 8s 965us/sample - loss: 0.3997 - acc: 0.8622 - val_loss: 2.4988 - val_acc: 0.3424\n",
      "Epoch 17/30\n",
      "8544/8544 [==============================] - 8s 927us/sample - loss: 0.3717 - acc: 0.8707 - val_loss: 2.6496 - val_acc: 0.3342\n",
      "Epoch 18/30\n",
      "8544/8544 [==============================] - 8s 924us/sample - loss: 0.3485 - acc: 0.8825 - val_loss: 2.6169 - val_acc: 0.3597\n",
      "Epoch 19/30\n",
      "8544/8544 [==============================] - 8s 964us/sample - loss: 0.3206 - acc: 0.8930 - val_loss: 2.8173 - val_acc: 0.3261\n",
      "Epoch 20/30\n",
      "8544/8544 [==============================] - 8s 937us/sample - loss: 0.2911 - acc: 0.9029 - val_loss: 2.7336 - val_acc: 0.3288\n",
      "Epoch 21/30\n",
      "8544/8544 [==============================] - 8s 967us/sample - loss: 0.2855 - acc: 0.9040 - val_loss: 2.9552 - val_acc: 0.3442\n",
      "Epoch 22/30\n",
      "8544/8544 [==============================] - 8s 948us/sample - loss: 0.2661 - acc: 0.9096 - val_loss: 2.7442 - val_acc: 0.3379\n",
      "Epoch 23/30\n",
      "8544/8544 [==============================] - 8s 965us/sample - loss: 0.2583 - acc: 0.9128 - val_loss: 3.0097 - val_acc: 0.3515\n",
      "Epoch 24/30\n",
      "8544/8544 [==============================] - 9s 995us/sample - loss: 0.2289 - acc: 0.9240 - val_loss: 2.9144 - val_acc: 0.3379\n",
      "Epoch 25/30\n",
      "8544/8544 [==============================] - 8s 947us/sample - loss: 0.2214 - acc: 0.9266 - val_loss: 3.1099 - val_acc: 0.3324\n",
      "Epoch 26/30\n",
      "8544/8544 [==============================] - 8s 929us/sample - loss: 0.2081 - acc: 0.9305 - val_loss: 2.9848 - val_acc: 0.3333\n",
      "Epoch 27/30\n",
      "8544/8544 [==============================] - 8s 949us/sample - loss: 0.1933 - acc: 0.9357 - val_loss: 3.1396 - val_acc: 0.3379\n",
      "Epoch 28/30\n",
      "8544/8544 [==============================] - 8s 949us/sample - loss: 0.1851 - acc: 0.9390 - val_loss: 3.2860 - val_acc: 0.3315\n",
      "Epoch 29/30\n",
      "8544/8544 [==============================] - 8s 956us/sample - loss: 0.1731 - acc: 0.9439 - val_loss: 3.2475 - val_acc: 0.3370\n",
      "Epoch 30/30\n",
      "8544/8544 [==============================] - 8s 970us/sample - loss: 0.1603 - acc: 0.9507 - val_loss: 3.1750 - val_acc: 0.3606\n"
     ]
    },
    {
     "name": "stderr",
     "output_type": "stream",
     "text": [
      "W0207 15:51:03.250989   244 training.py:593] The `nb_epoch` argument in `fit` has been renamed `epochs`.\n"
     ]
    },
    {
     "name": "stdout",
     "output_type": "stream",
     "text": [
      "Model: \"sequential_3\"\n",
      "_________________________________________________________________\n",
      "Layer (type)                 Output Shape              Param #   \n",
      "=================================================================\n",
      "embedding_3 (Embedding)      (None, None, 64)          3200128   \n",
      "_________________________________________________________________\n",
      "lstm_3 (LSTM)                (None, 64)                33024     \n",
      "_________________________________________________________________\n",
      "dense_3 (Dense)              (None, 5)                 325       \n",
      "=================================================================\n",
      "Total params: 3,233,477\n",
      "Trainable params: 3,233,477\n",
      "Non-trainable params: 0\n",
      "_________________________________________________________________\n",
      "None\n",
      "Train on 8544 samples, validate on 1101 samples\n",
      "Epoch 1/30\n",
      "8544/8544 [==============================] - 9s 1ms/sample - loss: 1.5758 - acc: 0.2647 - val_loss: 1.5748 - val_acc: 0.2516\n",
      "Epoch 2/30\n",
      "8544/8544 [==============================] - 8s 942us/sample - loss: 1.5692 - acc: 0.2747 - val_loss: 1.5734 - val_acc: 0.2598\n",
      "Epoch 3/30\n",
      "8544/8544 [==============================] - 8s 942us/sample - loss: 1.5655 - acc: 0.2733 - val_loss: 1.5711 - val_acc: 0.2997\n",
      "Epoch 4/30\n",
      "8544/8544 [==============================] - 8s 983us/sample - loss: 1.4597 - acc: 0.3724 - val_loss: 1.3989 - val_acc: 0.3778\n",
      "Epoch 5/30\n",
      "8544/8544 [==============================] - 9s 1ms/sample - loss: 1.2011 - acc: 0.4786 - val_loss: 1.4097 - val_acc: 0.3715\n",
      "Epoch 6/30\n",
      "8544/8544 [==============================] - 8s 970us/sample - loss: 1.0196 - acc: 0.5638 - val_loss: 1.5339 - val_acc: 0.3824\n",
      "Epoch 7/30\n",
      "8544/8544 [==============================] - 8s 991us/sample - loss: 0.8878 - acc: 0.6328 - val_loss: 1.6257 - val_acc: 0.3515\n",
      "Epoch 8/30\n",
      "8544/8544 [==============================] - 8s 956us/sample - loss: 0.7739 - acc: 0.6912 - val_loss: 1.6968 - val_acc: 0.3406\n",
      "Epoch 9/30\n",
      "8544/8544 [==============================] - 8s 982us/sample - loss: 0.6616 - acc: 0.7501 - val_loss: 1.8289 - val_acc: 0.3624\n",
      "Epoch 10/30\n",
      "8544/8544 [==============================] - 8s 957us/sample - loss: 0.5894 - acc: 0.7816 - val_loss: 1.9792 - val_acc: 0.3778\n",
      "Epoch 11/30\n",
      "8544/8544 [==============================] - 8s 974us/sample - loss: 0.5177 - acc: 0.8203 - val_loss: 2.0942 - val_acc: 0.3688\n",
      "Epoch 12/30\n",
      "8544/8544 [==============================] - 8s 952us/sample - loss: 0.4488 - acc: 0.8507 - val_loss: 2.2537 - val_acc: 0.3588\n",
      "Epoch 13/30\n",
      "8544/8544 [==============================] - 8s 957us/sample - loss: 0.4056 - acc: 0.8660 - val_loss: 2.1901 - val_acc: 0.3742\n",
      "Epoch 14/30\n",
      "8544/8544 [==============================] - 8s 974us/sample - loss: 0.3693 - acc: 0.8778 - val_loss: 2.3292 - val_acc: 0.3751\n",
      "Epoch 15/30\n",
      "8544/8544 [==============================] - 8s 988us/sample - loss: 0.3322 - acc: 0.8934 - val_loss: 2.3531 - val_acc: 0.3697\n",
      "Epoch 16/30\n",
      "8544/8544 [==============================] - 8s 967us/sample - loss: 0.2938 - acc: 0.9082 - val_loss: 2.4956 - val_acc: 0.36519 - acc: 0.\n",
      "Epoch 17/30\n",
      "8544/8544 [==============================] - 8s 978us/sample - loss: 0.2675 - acc: 0.9165 - val_loss: 2.5631 - val_acc: 0.3924\n",
      "Epoch 18/30\n",
      "8544/8544 [==============================] - 8s 968us/sample - loss: 0.2429 - acc: 0.9228 - val_loss: 2.5819 - val_acc: 0.3678\n",
      "Epoch 19/30\n",
      "8544/8544 [==============================] - 8s 938us/sample - loss: 0.2158 - acc: 0.9353 - val_loss: 2.7256 - val_acc: 0.3806\n",
      "Epoch 20/30\n",
      "8544/8544 [==============================] - 8s 970us/sample - loss: 0.1932 - acc: 0.9405 - val_loss: 2.8805 - val_acc: 0.3569\n",
      "Epoch 21/30\n",
      "8544/8544 [==============================] - 8s 992us/sample - loss: 0.1909 - acc: 0.9414 - val_loss: 2.8765 - val_acc: 0.35421905 -\n",
      "Epoch 22/30\n",
      "8544/8544 [==============================] - 9s 1ms/sample - loss: 0.1724 - acc: 0.9471 - val_loss: 2.9974 - val_acc: 0.3633\n",
      "Epoch 23/30\n",
      "8544/8544 [==============================] - 8s 967us/sample - loss: 0.1607 - acc: 0.9512 - val_loss: 3.0568 - val_acc: 0.3560\n",
      "Epoch 24/30\n",
      "8544/8544 [==============================] - 8s 964us/sample - loss: 0.1483 - acc: 0.9533 - val_loss: 2.9744 - val_acc: 0.3669\n",
      "Epoch 25/30\n",
      "8544/8544 [==============================] - 9s 1ms/sample - loss: 0.1368 - acc: 0.9589 - val_loss: 3.2215 - val_acc: 0.3515\n",
      "Epoch 26/30\n",
      "8544/8544 [==============================] - 9s 1ms/sample - loss: 0.1403 - acc: 0.9577 - val_loss: 3.0833 - val_acc: 0.3624\n",
      "Epoch 27/30\n",
      "8544/8544 [==============================] - 8s 979us/sample - loss: 0.1181 - acc: 0.9670 - val_loss: 3.2184 - val_acc: 0.3560\n",
      "Epoch 28/30\n",
      "8544/8544 [==============================] - 8s 984us/sample - loss: 0.1080 - acc: 0.9686 - val_loss: 3.2937 - val_acc: 0.3797\n",
      "Epoch 29/30\n",
      "8544/8544 [==============================] - 9s 1000us/sample - loss: 0.1068 - acc: 0.9697 - val_loss: 3.4272 - val_acc: 0.3588\n",
      "Epoch 30/30\n",
      "8544/8544 [==============================] - 8s 976us/sample - loss: 0.0958 - acc: 0.9712 - val_loss: 3.6107 - val_acc: 0.3588\n"
     ]
    },
    {
     "name": "stderr",
     "output_type": "stream",
     "text": [
      "W0207 15:55:16.400664   244 training.py:593] The `nb_epoch` argument in `fit` has been renamed `epochs`.\n"
     ]
    },
    {
     "name": "stdout",
     "output_type": "stream",
     "text": [
      "Model: \"sequential_4\"\n",
      "_________________________________________________________________\n",
      "Layer (type)                 Output Shape              Param #   \n",
      "=================================================================\n",
      "embedding_4 (Embedding)      (None, None, 96)          4800192   \n",
      "_________________________________________________________________\n",
      "lstm_4 (LSTM)                (None, 64)                41216     \n",
      "_________________________________________________________________\n",
      "dense_4 (Dense)              (None, 5)                 325       \n",
      "=================================================================\n",
      "Total params: 4,841,733\n",
      "Trainable params: 4,841,733\n",
      "Non-trainable params: 0\n",
      "_________________________________________________________________\n",
      "None\n",
      "Train on 8544 samples, validate on 1101 samples\n",
      "Epoch 1/30\n",
      "8544/8544 [==============================] - 9s 1ms/sample - loss: 1.5752 - acc: 0.2573 - val_loss: 1.5749 - val_acc: 0.2607\n",
      "Epoch 2/30\n",
      "8544/8544 [==============================] - 9s 1ms/sample - loss: 1.5677 - acc: 0.2749 - val_loss: 1.5776 - val_acc: 0.2607\n",
      "Epoch 3/30\n",
      "8544/8544 [==============================] - 9s 1ms/sample - loss: 1.5335 - acc: 0.2968 - val_loss: 1.5125 - val_acc: 0.3288\n",
      "Epoch 4/30\n",
      "8544/8544 [==============================] - 9s 1ms/sample - loss: 1.3925 - acc: 0.3916 - val_loss: 1.4637 - val_acc: 0.3297\n",
      "Epoch 5/30\n",
      "8544/8544 [==============================] - 9s 1ms/sample - loss: 1.2141 - acc: 0.4982 - val_loss: 1.4644 - val_acc: 0.3669\n",
      "Epoch 6/30\n",
      "8544/8544 [==============================] - 9s 1ms/sample - loss: 1.0041 - acc: 0.6092 - val_loss: 1.5613 - val_acc: 0.3606\n",
      "Epoch 7/30\n",
      "8544/8544 [==============================] - 9s 1ms/sample - loss: 0.8456 - acc: 0.6857 - val_loss: 1.6701 - val_acc: 0.3660\n",
      "Epoch 8/30\n",
      "8544/8544 [==============================] - 9s 1ms/sample - loss: 0.7180 - acc: 0.7429 - val_loss: 1.8089 - val_acc: 0.3706\n",
      "Epoch 9/30\n",
      "8544/8544 [==============================] - 10s 1ms/sample - loss: 0.6329 - acc: 0.7814 - val_loss: 2.0003 - val_acc: 0.3506\n",
      "Epoch 10/30\n",
      "8544/8544 [==============================] - 9s 1ms/sample - loss: 0.5318 - acc: 0.8209 - val_loss: 2.1346 - val_acc: 0.3361\n",
      "Epoch 11/30\n",
      "8544/8544 [==============================] - 9s 1ms/sample - loss: 0.4442 - acc: 0.8542 - val_loss: 2.2821 - val_acc: 0.3470\n",
      "Epoch 12/30\n",
      "8544/8544 [==============================] - 8s 980us/sample - loss: 0.3802 - acc: 0.8799 - val_loss: 2.2703 - val_acc: 0.3479\n",
      "Epoch 13/30\n",
      "8544/8544 [==============================] - 8s 959us/sample - loss: 0.3216 - acc: 0.9017 - val_loss: 2.4195 - val_acc: 0.3470\n",
      "Epoch 14/30\n",
      "8544/8544 [==============================] - 8s 951us/sample - loss: 0.2811 - acc: 0.9121 - val_loss: 2.5064 - val_acc: 0.3688\n",
      "Epoch 15/30\n",
      "8544/8544 [==============================] - 8s 979us/sample - loss: 0.2414 - acc: 0.9258 - val_loss: 2.5114 - val_acc: 0.3442\n",
      "Epoch 16/30\n",
      "8544/8544 [==============================] - 9s 1ms/sample - loss: 0.2224 - acc: 0.9333 - val_loss: 2.5838 - val_acc: 0.36420.22\n",
      "Epoch 17/30\n",
      "8544/8544 [==============================] - 9s 1ms/sample - loss: 0.1917 - acc: 0.9438 - val_loss: 2.7189 - val_acc: 0.3615\n",
      "Epoch 18/30\n",
      "8544/8544 [==============================] - 9s 1ms/sample - loss: 0.1760 - acc: 0.9479 - val_loss: 2.8742 - val_acc: 0.3642\n",
      "Epoch 19/30\n",
      "8544/8544 [==============================] - 9s 1ms/sample - loss: 0.1567 - acc: 0.9524 - val_loss: 2.9427 - val_acc: 0.3569\n",
      "Epoch 20/30\n",
      "8544/8544 [==============================] - 9s 997us/sample - loss: 0.1403 - acc: 0.9576 - val_loss: 2.8745 - val_acc: 0.3397\n",
      "Epoch 21/30\n",
      "8544/8544 [==============================] - 9s 1ms/sample - loss: 0.1232 - acc: 0.9620 - val_loss: 3.1460 - val_acc: 0.3633\n",
      "Epoch 22/30\n",
      "8544/8544 [==============================] - 9s 1ms/sample - loss: 0.1200 - acc: 0.9628 - val_loss: 3.0599 - val_acc: 0.3615\n",
      "Epoch 23/30\n",
      "8544/8544 [==============================] - 11s 1ms/sample - loss: 0.1143 - acc: 0.9663 - val_loss: 3.1530 - val_acc: 0.36150.1145 - acc: 0\n",
      "Epoch 24/30\n",
      "8544/8544 [==============================] - 9s 1ms/sample - loss: 0.0987 - acc: 0.9706 - val_loss: 3.2560 - val_acc: 0.3615\n",
      "Epoch 25/30\n",
      "8544/8544 [==============================] - 9s 1ms/sample - loss: 0.0985 - acc: 0.9700 - val_loss: 3.2380 - val_acc: 0.3533\n",
      "Epoch 26/30\n",
      "8544/8544 [==============================] - 9s 1ms/sample - loss: 0.0916 - acc: 0.9723 - val_loss: 3.3880 - val_acc: 0.3579\n",
      "Epoch 27/30\n",
      "8544/8544 [==============================] - 9s 1ms/sample - loss: 0.0840 - acc: 0.9725 - val_loss: 3.3708 - val_acc: 0.3479\n",
      "Epoch 28/30\n",
      "8544/8544 [==============================] - 8s 960us/sample - loss: 0.0726 - acc: 0.9807 - val_loss: 3.5331 - val_acc: 0.3588\n",
      "Epoch 29/30\n",
      "8544/8544 [==============================] - 9s 1ms/sample - loss: 0.0756 - acc: 0.9781 - val_loss: 3.5638 - val_acc: 0.3515\n",
      "Epoch 30/30\n",
      "8544/8544 [==============================] - 9s 1ms/sample - loss: 0.0678 - acc: 0.9796 - val_loss: 3.8110 - val_acc: 0.3533\n"
     ]
    },
    {
     "name": "stderr",
     "output_type": "stream",
     "text": [
      "W0207 15:59:44.068034   244 training.py:593] The `nb_epoch` argument in `fit` has been renamed `epochs`.\n"
     ]
    },
    {
     "name": "stdout",
     "output_type": "stream",
     "text": [
      "Model: \"sequential_5\"\n",
      "_________________________________________________________________\n",
      "Layer (type)                 Output Shape              Param #   \n",
      "=================================================================\n",
      "embedding_5 (Embedding)      (None, None, 128)         6400256   \n",
      "_________________________________________________________________\n",
      "lstm_5 (LSTM)                (None, 64)                49408     \n",
      "_________________________________________________________________\n",
      "dense_5 (Dense)              (None, 5)                 325       \n",
      "=================================================================\n",
      "Total params: 6,449,989\n",
      "Trainable params: 6,449,989\n",
      "Non-trainable params: 0\n",
      "_________________________________________________________________\n",
      "None\n",
      "Train on 8544 samples, validate on 1101 samples\n",
      "Epoch 1/30\n",
      "8544/8544 [==============================] - 9s 1ms/sample - loss: 1.5746 - acc: 0.2602 - val_loss: 1.5738 - val_acc: 0.2534\n",
      "Epoch 2/30\n",
      "8544/8544 [==============================] - 9s 1ms/sample - loss: 1.5687 - acc: 0.2667 - val_loss: 1.5753 - val_acc: 0.2534\n",
      "Epoch 3/30\n",
      "8544/8544 [==============================] - 9s 1ms/sample - loss: 1.5089 - acc: 0.3267 - val_loss: 1.4289 - val_acc: 0.3697\n",
      "Epoch 4/30\n",
      "8544/8544 [==============================] - 8s 991us/sample - loss: 1.3157 - acc: 0.4429 - val_loss: 1.4113 - val_acc: 0.3824\n",
      "Epoch 5/30\n",
      "8544/8544 [==============================] - 9s 1ms/sample - loss: 1.1223 - acc: 0.5143 - val_loss: 1.5511 - val_acc: 0.3760\n",
      "Epoch 6/30\n",
      "8544/8544 [==============================] - 9s 1ms/sample - loss: 0.9690 - acc: 0.5879 - val_loss: 1.5560 - val_acc: 0.3615\n",
      "Epoch 7/30\n",
      "8544/8544 [==============================] - 9s 1ms/sample - loss: 0.8224 - acc: 0.6764 - val_loss: 1.7613 - val_acc: 0.3597\n",
      "Epoch 8/30\n",
      "8544/8544 [==============================] - 9s 1ms/sample - loss: 0.6912 - acc: 0.7423 - val_loss: 1.7705 - val_acc: 0.3697\n",
      "Epoch 9/30\n",
      "8544/8544 [==============================] - 9s 1ms/sample - loss: 0.5856 - acc: 0.7923 - val_loss: 1.9769 - val_acc: 0.3778\n",
      "Epoch 10/30\n",
      "8544/8544 [==============================] - 9s 1ms/sample - loss: 0.4879 - acc: 0.8401 - val_loss: 1.9983 - val_acc: 0.3797\n",
      "Epoch 11/30\n",
      "8544/8544 [==============================] - 8s 975us/sample - loss: 0.4167 - acc: 0.8622 - val_loss: 2.2019 - val_acc: 0.3724\n",
      "Epoch 12/30\n",
      "8544/8544 [==============================] - 8s 985us/sample - loss: 0.3540 - acc: 0.8900 - val_loss: 2.3221 - val_acc: 0.3733\n",
      "Epoch 13/30\n",
      "8544/8544 [==============================] - 9s 1ms/sample - loss: 0.2904 - acc: 0.9115 - val_loss: 2.3676 - val_acc: 0.3560\n",
      "Epoch 14/30\n",
      "8544/8544 [==============================] - 8s 972us/sample - loss: 0.2581 - acc: 0.9208 - val_loss: 2.4353 - val_acc: 0.3715\n",
      "Epoch 15/30\n",
      "8544/8544 [==============================] - 9s 1ms/sample - loss: 0.2224 - acc: 0.9346 - val_loss: 2.5324 - val_acc: 0.3660\n",
      "Epoch 16/30\n",
      "8544/8544 [==============================] - 9s 1ms/sample - loss: 0.2009 - acc: 0.9418 - val_loss: 2.6868 - val_acc: 0.3678\n",
      "Epoch 17/30\n",
      "8544/8544 [==============================] - 8s 977us/sample - loss: 0.1820 - acc: 0.9460 - val_loss: 2.6125 - val_acc: 0.3660\n",
      "Epoch 18/30\n",
      "8544/8544 [==============================] - 9s 1ms/sample - loss: 0.1610 - acc: 0.9514 - val_loss: 2.6959 - val_acc: 0.3542\n",
      "Epoch 19/30\n",
      "8544/8544 [==============================] - 9s 1ms/sample - loss: 0.1435 - acc: 0.9575 - val_loss: 2.8209 - val_acc: 0.3678\n",
      "Epoch 20/30\n",
      "8544/8544 [==============================] - 9s 1ms/sample - loss: 0.1299 - acc: 0.9615 - val_loss: 2.9660 - val_acc: 0.3597\n",
      "Epoch 21/30\n",
      "8544/8544 [==============================] - 8s 988us/sample - loss: 0.1174 - acc: 0.9651 - val_loss: 3.0664 - val_acc: 0.3606\n",
      "Epoch 22/30\n",
      "8544/8544 [==============================] - 9s 1ms/sample - loss: 0.1076 - acc: 0.9670 - val_loss: 2.9940 - val_acc: 0.3660\n",
      "Epoch 23/30\n",
      "8544/8544 [==============================] - 9s 1ms/sample - loss: 0.0970 - acc: 0.9707 - val_loss: 3.2145 - val_acc: 0.3624\n",
      "Epoch 24/30\n",
      "8544/8544 [==============================] - 9s 1ms/sample - loss: 0.0967 - acc: 0.9711 - val_loss: 3.2041 - val_acc: 0.3688\n",
      "Epoch 25/30\n",
      "8544/8544 [==============================] - 9s 1ms/sample - loss: 0.0857 - acc: 0.9738 - val_loss: 3.2041 - val_acc: 0.3660\n",
      "Epoch 26/30\n",
      "8544/8544 [==============================] - 9s 1ms/sample - loss: 0.0782 - acc: 0.9769 - val_loss: 3.3084 - val_acc: 0.3606\n",
      "Epoch 27/30\n",
      "8544/8544 [==============================] - 9s 1ms/sample - loss: 0.0762 - acc: 0.9765 - val_loss: 3.2979 - val_acc: 0.3787\n",
      "Epoch 28/30\n",
      "8544/8544 [==============================] - 9s 1ms/sample - loss: 0.0729 - acc: 0.9778 - val_loss: 3.4016 - val_acc: 0.3697\n",
      "Epoch 29/30\n",
      "8544/8544 [==============================] - 9s 1ms/sample - loss: 0.0615 - acc: 0.9821 - val_loss: 3.5470 - val_acc: 0.3724\n",
      "Epoch 30/30\n",
      "8544/8544 [==============================] - 9s 1ms/sample - loss: 0.0610 - acc: 0.9823 - val_loss: 3.6174 - val_acc: 0.3560\n"
     ]
    },
    {
     "data": {
      "image/png": "[encoded data removed]",
      "text/plain": [
       "<Figure size 432x288 with 1 Axes>"
      ]
     },
     "metadata": {
      "needs_background": "light"
     },
     "output_type": "display_data"
    }
   ],
   "source": [
    "# 3 - Design your encoder + classifier using tensorflow.keras.layers\n",
    "#     In Keras, Torch and other deep learning framework, we create a \"container\" which is the Sequential() module.\n",
    "#     Then we add components to this container : the lookup-table, the LSTM, the classifier etc.\n",
    "#     All of these components are contained in the Sequential() and are trained together.\n",
    "#     Note that the embedding layer is initialized randomly and does not take advantage of pre-trained word embeddings.\n",
    "\n",
    "\n",
    "# ADAPT CODE BELOW\n",
    "\n",
    "\n",
    "from tensorflow.keras.models import Sequential\n",
    "from tensorflow.keras.layers import Embedding, LSTM, Dense, Activation\n",
    "\n",
    "embed_dimList  = [32, 64,96,128]  # word embedding dimension\n",
    "nhid       = 64  # number of hidden units in the LSTM\n",
    "vocab_size = 50002  # size of the vocabulary\n",
    "n_classes  = 5\n",
    "\n",
    "\n",
    "plt.plot(history.history['acc'])\n",
    "plt.plot(history.history['val_acc'])\n",
    "\n",
    "plt.plot(history.history['loss'])\n",
    "plt.plot(history.history['val_loss'])\n",
    "\n",
    "lErrorAcc = []\n",
    "lErrorValAcc = []\n",
    "lErrorLoss = []\n",
    "lErrorValLoss = []\n",
    "\n",
    "for embed_dim in embed_dimList:\n",
    "\n",
    "    model = Sequential()\n",
    "    model.add(Embedding(vocab_size, embed_dim))\n",
    "    model.add(LSTM(nhid, dropout=0.4, recurrent_dropout=0.2))\n",
    "    model.add(Dense(n_classes, activation='softmax'))\n",
    "\n",
    "\n",
    "    # 4 - Define your loss/optimizer/metrics\n",
    "\n",
    "    # MODIFY CODE BELOW\n",
    "\n",
    "    loss_classif     =  'categorical_crossentropy' # find the right loss for multi-class classification\n",
    "    optimizer        =  'adam' # find the right optimizer\n",
    "    metrics_classif  =  ['accuracy']\n",
    "\n",
    "    # Observe how easy (but blackboxed) this is in Keras\n",
    "    model.compile(loss=loss_classif,\n",
    "                  optimizer=optimizer,\n",
    "                  metrics=metrics_classif)\n",
    "    print(model.summary())\n",
    "\n",
    "\n",
    "    # 5 - Train your model and find the best hyperparameters for your dev set\n",
    "    #     you will be evaluated on the quality of your predictions on the test set\n",
    "    #     Keras expects y_train and y_dev to be one-hot encodings of the labels, i.e. with shape=(n_samples, 5)\n",
    "    # ADAPT CODE BELOW\n",
    "    from tensorflow.keras.utils import to_categorical\n",
    "    from tensorflow.keras.callbacks import ModelCheckpoint\n",
    "\n",
    "    bs = 64\n",
    "    n_epochs = 30\n",
    "\n",
    "    y_train = to_categorical([int(i) for i in labels_train], num_classes=5)\n",
    "    y_dev = to_categorical([int(i) for i in labels_dev], num_classes=5)\n",
    "\n",
    "    history = model.fit(x_train, y_train, batch_size=bs, nb_epoch=n_epochs, validation_data=(x_dev, y_dev),\n",
    "                       callbacks=[ModelCheckpoint(\"weights.{epoch:02d}-{val_acc:.2f}.hdf5\", monitor='val_acc',\n",
    "                                                  save_weights_only=True)])\n",
    "    lErrorAcc.append(history.history['acc'])\n",
    "    lErrorValAcc.append(history.history['val_acc'])\n",
    "    lErrorLoss.append(history.history['loss'])\n",
    "    lErrorValLoss.append(history.history['val_loss'])"
   ]
  },
  {
   "cell_type": "code",
   "execution_count": 51,
   "metadata": {},
   "outputs": [
    {
     "data": {
      "image/png": "[encoded data removed]",
      "text/plain": [
       "<Figure size 720x720 with 2 Axes>"
      ]
     },
     "metadata": {
      "needs_background": "light"
     },
     "output_type": "display_data"
    }
   ],
   "source": [
    "fig, axs = plt.subplots(2, figsize = (10,10))\n",
    "for i,el in enumerate(embed_dimList):\n",
    "    axs[0].plot(range(n_epochs), lErrorAcc[i], label = \"Train dim = \" + str(el))\n",
    "    axs[0].plot(range(n_epochs), lErrorValAcc[i],'o-', label = \"Validation dim = \" + str(el))\n",
    "axs[0].set_xlabel(\"n_epochs\")\n",
    "axs[0].set_ylabel(\"Accuracy\")\n",
    "axs[0].set_title(\"Hyperparameter selection for accuracy\")\n",
    "axs[0].legend()\n",
    "for i,el in enumerate(embed_dimList):\n",
    "    axs[1].plot(range(n_epochs), lErrorLoss[i], label = \"Train Loss dim = \" + str(el))\n",
    "    axs[1].plot(range(n_epochs), lErrorValLoss[i],'o-', label = \"Validation Loss dim = \" + str(el))\n",
    "axs[1].set_xlabel(\"n_epochs\")\n",
    "axs[1].set_ylabel(\"Loss\")\n",
    "axs[1].set_title(\"Hyperparameter selection for loss\")\n",
    "axs[1].legend()\n",
    "plt.savefig(\"plotDeep.png\")"
   ]
  },
  {
   "cell_type": "code",
   "execution_count": 54,
   "metadata": {},
   "outputs": [
    {
     "name": "stderr",
     "output_type": "stream",
     "text": [
      "W0207 16:17:54.190644   244 training.py:593] The `nb_epoch` argument in `fit` has been renamed `epochs`.\n"
     ]
    },
    {
     "name": "stdout",
     "output_type": "stream",
     "text": [
      "Model: \"sequential_8\"\n",
      "_________________________________________________________________\n",
      "Layer (type)                 Output Shape              Param #   \n",
      "=================================================================\n",
      "embedding_8 (Embedding)      (None, None, 64)          3200128   \n",
      "_________________________________________________________________\n",
      "lstm_8 (LSTM)                (None, 64)                33024     \n",
      "_________________________________________________________________\n",
      "dense_8 (Dense)              (None, 5)                 325       \n",
      "=================================================================\n",
      "Total params: 3,233,477\n",
      "Trainable params: 3,233,477\n",
      "Non-trainable params: 0\n",
      "_________________________________________________________________\n",
      "None\n",
      "Train on 8544 samples, validate on 1101 samples\n",
      "Epoch 1/10\n",
      "8544/8544 [==============================] - 9s 1ms/sample - loss: 1.5738 - acc: 0.2701 - val_loss: 1.5800 - val_acc: 0.2534\n",
      "Epoch 2/10\n",
      "8544/8544 [==============================] - 8s 921us/sample - loss: 1.5682 - acc: 0.2705 - val_loss: 1.5716 - val_acc: 0.2534\n",
      "Epoch 3/10\n",
      "8544/8544 [==============================] - 8s 891us/sample - loss: 1.4550 - acc: 0.3676 - val_loss: 1.3962 - val_acc: 0.3824\n",
      "Epoch 4/10\n",
      "8544/8544 [==============================] - 8s 940us/sample - loss: 1.2402 - acc: 0.4613 - val_loss: 1.4061 - val_acc: 0.3833\n",
      "Epoch 5/10\n",
      "8544/8544 [==============================] - 8s 974us/sample - loss: 1.0945 - acc: 0.5136 - val_loss: 1.4360 - val_acc: 0.3878\n",
      "Epoch 6/10\n",
      "8544/8544 [==============================] - 8s 958us/sample - loss: 0.9807 - acc: 0.5733 - val_loss: 1.5725 - val_acc: 0.3715\n",
      "Epoch 7/10\n",
      "8544/8544 [==============================] - 8s 918us/sample - loss: 0.9031 - acc: 0.6105 - val_loss: 1.6119 - val_acc: 0.3815\n",
      "Epoch 8/10\n",
      "8544/8544 [==============================] - 8s 916us/sample - loss: 0.8138 - acc: 0.6607 - val_loss: 1.7185 - val_acc: 0.3688\n",
      "Epoch 9/10\n",
      "8544/8544 [==============================] - 8s 969us/sample - loss: 0.7456 - acc: 0.6976 - val_loss: 1.8349 - val_acc: 0.3851\n",
      "Epoch 10/10\n",
      "8544/8544 [==============================] - 8s 956us/sample - loss: 0.6571 - acc: 0.7444 - val_loss: 1.9223 - val_acc: 0.3860\n"
     ]
    }
   ],
   "source": [
    "# 3 - Design your encoder + classifier using tensorflow.keras.layers\n",
    "#     In Keras, Torch and other deep learning framework, we create a \"container\" which is the Sequential() module.\n",
    "#     Then we add components to this container : the lookup-table, the LSTM, the classifier etc.\n",
    "#     All of these components are contained in the Sequential() and are trained together.\n",
    "#     Note that the embedding layer is initialized randomly and does not take advantage of pre-trained word embeddings.\n",
    "\n",
    "\n",
    "# ADAPT CODE BELOW\n",
    "\n",
    "\n",
    "from tensorflow.keras.models import Sequential\n",
    "from tensorflow.keras.layers import Embedding, LSTM, Dense, Activation\n",
    "\n",
    "embed_dim  = 64  # word embedding dimension\n",
    "nhid       = 64  # number of hidden units in the LSTM\n",
    "vocab_size = 50002  # size of the vocabulary\n",
    "n_classes  = 5\n",
    "\n",
    "model = Sequential()\n",
    "model.add(Embedding(vocab_size, embed_dim))\n",
    "model.add(LSTM(nhid, dropout=0.4, recurrent_dropout=0.2))\n",
    "model.add(Dense(n_classes, activation='softmax'))\n",
    "\n",
    "\n",
    "# 4 - Define your loss/optimizer/metrics\n",
    "\n",
    "# MODIFY CODE BELOW\n",
    "\n",
    "loss_classif     =  'categorical_crossentropy' # find the right loss for multi-class classification\n",
    "optimizer        =  'adam' # find the right optimizer\n",
    "metrics_classif  =  ['accuracy']\n",
    "\n",
    "# Observe how easy (but blackboxed) this is in Keras\n",
    "model.compile(loss=loss_classif,\n",
    "              optimizer=optimizer,\n",
    "              metrics=metrics_classif)\n",
    "print(model.summary())\n",
    "\n",
    "\n",
    "# 5 - Train your model and find the best hyperparameters for your dev set\n",
    "#     you will be evaluated on the quality of your predictions on the test set\n",
    "#     Keras expects y_train and y_dev to be one-hot encodings of the labels, i.e. with shape=(n_samples, 5)\n",
    "# ADAPT CODE BELOW\n",
    "from tensorflow.keras.utils import to_categorical\n",
    "from tensorflow.keras.callbacks import ModelCheckpoint\n",
    "\n",
    "bs = 64\n",
    "n_epochs = 10\n",
    "\n",
    "y_train = to_categorical([int(i) for i in labels_train], num_classes=5)\n",
    "y_dev = to_categorical([int(i) for i in labels_dev], num_classes=5)\n",
    "\n",
    "history = model.fit(x_train, y_train, batch_size=bs, nb_epoch=n_epochs, validation_data=(x_dev, y_dev),\n",
    "                   callbacks=[ModelCheckpoint(\"weights.{epoch:02d}-{val_acc:.2f}.hdf5\", monitor='val_acc',\n",
    "                                              save_weights_only=True)])"
   ]
  },
  {
   "cell_type": "code",
   "execution_count": 55,
   "metadata": {},
   "outputs": [
    {
     "name": "stdout",
     "output_type": "stream",
     "text": [
      "1101/1101 [==============================] - 1s 459us/sample - loss: 1.9223 - acc: 0.3860\n"
     ]
    }
   ],
   "source": [
    "# 6 - Generate your predictions on the test set using model.predict(x_test)\n",
    "#     https://keras.io/models/model/\n",
    "#     Log your predictions in a file (one line = one integer: 0,1,2,3,4)\n",
    "#     Attach the output file \"logreg_lstm_y_test_sst.txt\" to your deliverable.\n",
    "\n",
    "#model.load_weights(\"\")\n",
    "\n",
    "# Sanity check\n",
    "model.evaluate(x_dev, y_dev)\n",
    "\n",
    "preds = model.predict(x_test)\n",
    "preds = preds.argmax(axis = 1)\n",
    "np.savetxt(\"logreg_lstm_y_test_sst.txt\", preds, fmt='%s')"
   ]
  },
  {
   "cell_type": "markdown",
   "metadata": {},
   "source": [
    "## 4.3 - innovate !"
   ]
  },
  {
   "cell_type": "code",
   "execution_count": 57,
   "metadata": {},
   "outputs": [
    {
     "name": "stderr",
     "output_type": "stream",
     "text": [
      "W0207 16:23:40.228566   244 training.py:593] The `nb_epoch` argument in `fit` has been renamed `epochs`.\n"
     ]
    },
    {
     "name": "stdout",
     "output_type": "stream",
     "text": [
      "Model: \"model_1\"\n",
      "__________________________________________________________________________________________________\n",
      "Layer (type)                    Output Shape         Param #     Connected to                     \n",
      "==================================================================================================\n",
      "input_2 (InputLayer)            [(None, None)]       0                                            \n",
      "__________________________________________________________________________________________________\n",
      "embedding_10 (Embedding)        (None, None, 128)    6400256     input_2[0][0]                    \n",
      "__________________________________________________________________________________________________\n",
      "dropout_5 (Dropout)             (None, None, 128)    0           embedding_10[0][0]               \n",
      "__________________________________________________________________________________________________\n",
      "conv1d_4 (Conv1D)               (None, None, 50)     12850       dropout_5[0][0]                  \n",
      "__________________________________________________________________________________________________\n",
      "conv1d_5 (Conv1D)               (None, None, 50)     19250       dropout_5[0][0]                  \n",
      "__________________________________________________________________________________________________\n",
      "conv1d_6 (Conv1D)               (None, None, 50)     25650       dropout_5[0][0]                  \n",
      "__________________________________________________________________________________________________\n",
      "conv1d_7 (Conv1D)               (None, None, 50)     32050       dropout_5[0][0]                  \n",
      "__________________________________________________________________________________________________\n",
      "global_max_pooling1d_4 (GlobalM (None, 50)           0           conv1d_4[0][0]                   \n",
      "__________________________________________________________________________________________________\n",
      "global_max_pooling1d_5 (GlobalM (None, 50)           0           conv1d_5[0][0]                   \n",
      "__________________________________________________________________________________________________\n",
      "global_max_pooling1d_6 (GlobalM (None, 50)           0           conv1d_6[0][0]                   \n",
      "__________________________________________________________________________________________________\n",
      "global_max_pooling1d_7 (GlobalM (None, 50)           0           conv1d_7[0][0]                   \n",
      "__________________________________________________________________________________________________\n",
      "dropout_6 (Dropout)             (None, 50)           0           global_max_pooling1d_4[0][0]     \n",
      "__________________________________________________________________________________________________\n",
      "dropout_7 (Dropout)             (None, 50)           0           global_max_pooling1d_5[0][0]     \n",
      "__________________________________________________________________________________________________\n",
      "dropout_8 (Dropout)             (None, 50)           0           global_max_pooling1d_6[0][0]     \n",
      "__________________________________________________________________________________________________\n",
      "dropout_9 (Dropout)             (None, 50)           0           global_max_pooling1d_7[0][0]     \n",
      "__________________________________________________________________________________________________\n",
      "concatenate_1 (Concatenate)     (None, 200)          0           dropout_6[0][0]                  \n",
      "                                                                 dropout_7[0][0]                  \n",
      "                                                                 dropout_8[0][0]                  \n",
      "                                                                 dropout_9[0][0]                  \n",
      "__________________________________________________________________________________________________\n",
      "dense_10 (Dense)                (None, 5)            1005        concatenate_1[0][0]              \n",
      "==================================================================================================\n",
      "Total params: 6,491,061\n",
      "Trainable params: 6,491,061\n",
      "Non-trainable params: 0\n",
      "__________________________________________________________________________________________________\n",
      "Train on 8544 samples, validate on 1101 samples\n",
      "Epoch 1/15\n",
      "8544/8544 [==============================] - 6s 721us/sample - loss: 1.5905 - acc: 0.2424 - val_loss: 1.5713 - val_acc: 0.2725\n",
      "Epoch 2/15\n",
      "8544/8544 [==============================] - 4s 451us/sample - loss: 1.5713 - acc: 0.2756 - val_loss: 1.5686 - val_acc: 0.2816\n",
      "Epoch 3/15\n",
      "8544/8544 [==============================] - 4s 430us/sample - loss: 1.5637 - acc: 0.2865 - val_loss: 1.5645 - val_acc: 0.2761\n",
      "Epoch 4/15\n",
      "8544/8544 [==============================] - 4s 435us/sample - loss: 1.5559 - acc: 0.2952 - val_loss: 1.5599 - val_acc: 0.2997\n",
      "Epoch 5/15\n",
      "8544/8544 [==============================] - 4s 467us/sample - loss: 1.5474 - acc: 0.3151 - val_loss: 1.5538 - val_acc: 0.3115\n",
      "Epoch 6/15\n",
      "8544/8544 [==============================] - 4s 465us/sample - loss: 1.5365 - acc: 0.3315 - val_loss: 1.5452 - val_acc: 0.3261\n",
      "Epoch 7/15\n",
      "8544/8544 [==============================] - 4s 454us/sample - loss: 1.5227 - acc: 0.3442 - val_loss: 1.5354 - val_acc: 0.3315\n",
      "Epoch 8/15\n",
      "8544/8544 [==============================] - 4s 462us/sample - loss: 1.5045 - acc: 0.3676 - val_loss: 1.5208 - val_acc: 0.3351\n",
      "Epoch 9/15\n",
      "8544/8544 [==============================] - 4s 463us/sample - loss: 1.4816 - acc: 0.3821 - val_loss: 1.5013 - val_acc: 0.3542\n",
      "Epoch 10/15\n",
      "8544/8544 [==============================] - 4s 463us/sample - loss: 1.4483 - acc: 0.3956 - val_loss: 1.4782 - val_acc: 0.3715\n",
      "Epoch 11/15\n",
      "8544/8544 [==============================] - 4s 472us/sample - loss: 1.4083 - acc: 0.4221 - val_loss: 1.4532 - val_acc: 0.3751\n",
      "Epoch 12/15\n",
      "8544/8544 [==============================] - 4s 470us/sample - loss: 1.3609 - acc: 0.4436 - val_loss: 1.4244 - val_acc: 0.3896\n",
      "Epoch 13/15\n",
      "8544/8544 [==============================] - 4s 450us/sample - loss: 1.3079 - acc: 0.4682 - val_loss: 1.3974 - val_acc: 0.3915\n",
      "Epoch 14/15\n",
      "8544/8544 [==============================] - 4s 452us/sample - loss: 1.2517 - acc: 0.5022 - val_loss: 1.3755 - val_acc: 0.3951\n",
      "Epoch 15/15\n",
      "8544/8544 [==============================] - 4s 488us/sample - loss: 1.1895 - acc: 0.5314 - val_loss: 1.3585 - val_acc: 0.3960\n"
     ]
    }
   ],
   "source": [
    "# 7 - Open question: find a model that is better on your dev set\n",
    "#     (e.g: use a 1D ConvNet, use a better classifier, pretrain your lookup tables ..)\n",
    "#     you will get point if the results on the test set are better: be careful of not overfitting your dev set too much..\n",
    "#     Attach the output file \"XXX_XXX_y_test_sst.txt\" to your deliverable.\n",
    "from tensorflow.keras.models import Model\n",
    "from tensorflow.keras.layers import Input, Dropout, Conv1D, GlobalMaxPooling1D, Concatenate\n",
    "from tensorflow.keras import optimizers\n",
    "\n",
    "# 1D CNN with 2 branches\n",
    "# https://arxiv.org/pdf/1510.03820.pdf\n",
    "\n",
    "def cnn_branch(n_filters, k_size, d_rate, my_input):\n",
    "    layer_a = Conv1D(n_filters, k_size)(my_input)\n",
    "    layer_b = GlobalMaxPooling1D()(layer_a)\n",
    "    return Dropout(d_rate)(layer_b)\n",
    "\n",
    "# Parameters\n",
    "embed_dim = 128\n",
    "nb_branches = 4\n",
    "nb_filters = 50\n",
    "filter_sizes = [2, 3, 4, 5]\n",
    "drop_rate = 0.4 # amount of dropout regularization\n",
    "vocab_size = 50002\n",
    "n_classes  = 5\n",
    "batch_size = 32\n",
    "nb_epochs = 15\n",
    "adam = optimizers.Adam(learning_rate=0.0001)\n",
    "\n",
    "# Architecture\n",
    "\n",
    "doc_ints = Input(shape=(None,))\n",
    "doc_wv = Embedding(vocab_size, embed_dim)(doc_ints)\n",
    "doc_wv_dr = Dropout(drop_rate)(doc_wv)\n",
    "\n",
    "branch_outputs = []\n",
    "for idx in range(nb_branches):\n",
    "    branch_outputs.append(cnn_branch(nb_filters, filter_sizes[idx], drop_rate, doc_wv_dr))\n",
    "\n",
    "concat = Concatenate()(branch_outputs) # branch output combination\n",
    "preds = Dense(n_classes, activation='softmax')(concat)\n",
    "\n",
    "model = Model(doc_ints,preds)\n",
    "\n",
    "model.compile(optimizer = adam,\n",
    "              loss = 'categorical_crossentropy',\n",
    "              metrics = ['accuracy'])\n",
    "\n",
    "model.summary()\n",
    "\n",
    "history = model.fit(x_train, y_train, batch_size=batch_size, nb_epoch=nb_epochs, validation_data=(x_dev, y_dev),\n",
    "                    callbacks=[ModelCheckpoint(\"weights.1Dconv.{epoch:02d}-{val_acc:.2f}.hdf5\", monitor='val_acc',\n",
    "                                               save_best_only=True, save_weights_only=True)])"
   ]
  },
  {
   "cell_type": "code",
   "execution_count": 58,
   "metadata": {},
   "outputs": [],
   "source": [
    "preds = model.predict(x_test)\n",
    "preds = preds.argmax(axis = 1)\n",
    "np.savetxt(\"logreg_1Dconv_y_test_sst.txt\", preds, fmt='%s')"
   ]
  },
  {
   "cell_type": "code",
   "execution_count": null,
   "metadata": {},
   "outputs": [],
   "source": []
  }
 ],
 "metadata": {
  "kernelspec": {
   "display_name": "Python 3",
   "language": "python",
   "name": "python3"
  },
  "language_info": {
   "codemirror_mode": {
    "name": "ipython",
    "version": 3
   },
   "file_extension": ".py",
   "mimetype": "text/x-python",
   "name": "python",
   "nbconvert_exporter": "python",
   "pygments_lexer": "ipython3",
   "version": "3.7.4"
  }
 },
 "nbformat": 4,
 "nbformat_minor": 4
}
