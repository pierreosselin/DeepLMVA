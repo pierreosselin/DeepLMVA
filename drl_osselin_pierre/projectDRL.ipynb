{
  "nbformat": 4,
  "nbformat_minor": 0,
  "metadata": {
    "kernelspec": {
      "name": "python3",
      "display_name": "Python 3"
    },
    "language_info": {
      "codemirror_mode": {
        "name": "ipython",
        "version": 3
      },
      "file_extension": ".py",
      "mimetype": "text/x-python",
      "name": "python",
      "nbconvert_exporter": "python",
      "pygments_lexer": "ipython3",
      "version": "3.7.4"
    },
    "colab": {
      "name": "projectDRL.ipynb",
      "provenance": [],
      "collapsed_sections": [],
      "toc_visible": true
    },
    "accelerator": "GPU"
  },
  "cells": [
    {
      "cell_type": "markdown",
      "metadata": {
        "id": "ZFEbSt2cuMwF",
        "colab_type": "text"
      },
      "source": [
        "**You may need to install [OpenCV](https://pypi.python.org/pypi/opencv-python) and [scikit-video](http://www.scikit-video.org/stable/).**"
      ]
    },
    {
      "cell_type": "code",
      "metadata": {
        "id": "rSxWQ0sXveOx",
        "colab_type": "code",
        "outputId": "639aeaa3-358f-4a4a-d551-f2482579a4ff",
        "colab": {
          "base_uri": "https://localhost:8080/",
          "height": 84
        }
      },
      "source": [
        "%pip install scikit-video"
      ],
      "execution_count": 81,
      "outputs": [
        {
          "output_type": "stream",
          "text": [
            "Requirement already satisfied: scikit-video in /usr/local/lib/python3.6/dist-packages (1.1.11)\n",
            "Requirement already satisfied: scipy in /usr/local/lib/python3.6/dist-packages (from scikit-video) (1.4.1)\n",
            "Requirement already satisfied: numpy in /usr/local/lib/python3.6/dist-packages (from scikit-video) (1.17.5)\n",
            "Requirement already satisfied: pillow in /usr/local/lib/python3.6/dist-packages (from scikit-video) (6.2.2)\n"
          ],
          "name": "stdout"
        }
      ]
    },
    {
      "cell_type": "code",
      "metadata": {
        "id": "pBjz-cjvuMwG",
        "colab_type": "code",
        "colab": {}
      },
      "source": [
        "import keras\n",
        "import numpy as np\n",
        "import io\n",
        "import base64\n",
        "from IPython.display import HTML\n",
        "import skvideo.io\n",
        "import cv2\n",
        "import json\n",
        "\n",
        "from keras.models import Sequential,model_from_json\n",
        "from keras.layers.core import Dense\n",
        "from keras.optimizers import sgd\n",
        "from keras.layers import Conv2D, MaxPooling2D, Activation, AveragePooling2D,Reshape,BatchNormalization"
      ],
      "execution_count": 0,
      "outputs": []
    },
    {
      "cell_type": "markdown",
      "metadata": {
        "id": "bcSBeZwKuMwJ",
        "colab_type": "text"
      },
      "source": [
        "# MiniProject on Deep Reinforcement Learning"
      ]
    },
    {
      "cell_type": "markdown",
      "metadata": {
        "id": "txAAfGONuMwK",
        "colab_type": "text"
      },
      "source": [
        "__Notations__: $E_p$ is the expectation under probability $p$. Please justify each of your answer and widely comment your code."
      ]
    },
    {
      "cell_type": "markdown",
      "metadata": {
        "id": "1ETRqiT1uMwL",
        "colab_type": "text"
      },
      "source": [
        "# Context"
      ]
    },
    {
      "cell_type": "markdown",
      "metadata": {
        "id": "LJIWhdUyuMwM",
        "colab_type": "text"
      },
      "source": [
        "In a reinforcement learning algorithm, we modelize each step $t$ as an action $a_t$ obtained from a state $s_t$, i.e. $\\{(a_{t},s_{t})_{t\\leq T}\\}$ having the Markov property. We consider a discount factor $\\gamma \\in [0,1]$ that ensures convergence. The goal is to find among all the policies $\\pi$, one that maximizes the expected reward:\n",
        "\n",
        "\\begin{equation*}\n",
        "R(\\pi)=\\sum_{t\\leq T}E_{p^{\\pi}}[\\gamma^t r(s_{t},a_{t})] \\> ,\n",
        "\\end{equation*}\n",
        "\n",
        "where: \n",
        "\\begin{equation*}p^{\\pi}(a_{0},a_{1},s_{1},...,a_{T},s_{T})=p(a_{0})\\prod_{t=1}^{T}\\pi(a_{t}|s_{t})p(s_{t+1}|s_{t},a_{t}) \\> .\n",
        "\\end{equation*}\n",
        "\n",
        "We note the $Q$-function:\n",
        "\n",
        "\\begin{equation*}Q^\\pi(s,a)=E_{p^{\\pi}}[\\sum_{t\\leq T}\\gamma^{t}r(s_{t},a_{t})|s_{0}=s,a_{0}=a] \\> .\n",
        "\\end{equation*}\n",
        "\n",
        "Thus, the optimal Q function is:\n",
        "\\begin{equation*}\n",
        "Q^*(s,a)=\\max_{\\pi}Q^\\pi(s,a) \\> .\n",
        "\\end{equation*}\n",
        "\n",
        "In this project, we will apply the deep reinforcement learning techniques to a simple game: an agent will have to learn from scratch a policy that will permit it maximizing a reward."
      ]
    },
    {
      "cell_type": "markdown",
      "metadata": {
        "id": "fMMRfxOmuMwN",
        "colab_type": "text"
      },
      "source": [
        "## The environment, the agent and the game"
      ]
    },
    {
      "cell_type": "markdown",
      "metadata": {
        "id": "aDu7VB6MuMwO",
        "colab_type": "text"
      },
      "source": [
        "### The environment"
      ]
    },
    {
      "cell_type": "markdown",
      "metadata": {
        "id": "Zl1UPsFWuMwO",
        "colab_type": "text"
      },
      "source": [
        "```Environment``` is an abstract class that represents the states, rewards, and actions to obtain the new state."
      ]
    },
    {
      "cell_type": "code",
      "metadata": {
        "id": "fLQ3mk3huMwP",
        "colab_type": "code",
        "colab": {}
      },
      "source": [
        "class Environment(object):\n",
        "    def __init__(self):\n",
        "        pass\n",
        "\n",
        "    def act(self, act):\n",
        "        \"\"\"\n",
        "        One can act on the environment and obtain its reaction:\n",
        "        - the new state\n",
        "        - the reward of the new state\n",
        "        - should we continue the game?\n",
        "\n",
        "        :return: state, reward, game_over\n",
        "        \"\"\"\n",
        "        pass\n",
        "\n",
        "\n",
        "    def reset(self):\n",
        "        \"\"\"\n",
        "        Reinitialize the environment to a random state and returns\n",
        "        the original state\n",
        "\n",
        "        :return: state\n",
        "        \"\"\"\n",
        "        pass\n",
        "    \n",
        "    def draw(self):\n",
        "        \"\"\"\n",
        "        Visualize in the console or graphically the current state\n",
        "        \"\"\"\n",
        "        pass"
      ],
      "execution_count": 0,
      "outputs": []
    },
    {
      "cell_type": "markdown",
      "metadata": {
        "id": "RBNoEYF5uMwS",
        "colab_type": "text"
      },
      "source": [
        "The method ```act``` allows to act on the environment at a given state $s_t$ (stored internally), via action $a_t$. The method will return the new state $s_{t+1}$, the reward $r(s_{t},a_{t})$ and determines if $t\\leq T$ (*game_over*).\n",
        "\n",
        "The method ```reset``` simply reinitializes the environment to a random state $s_0$.\n",
        "\n",
        "The method ```draw``` displays the current state $s_t$ (this is useful to check the behavior of the Agent).\n",
        "\n",
        "We modelize $s_t$ as a tensor, while $a_t$ is an integer."
      ]
    },
    {
      "cell_type": "markdown",
      "metadata": {
        "id": "o1io4WG3uMwT",
        "colab_type": "text"
      },
      "source": [
        "### The Agent"
      ]
    },
    {
      "cell_type": "markdown",
      "metadata": {
        "id": "VYuQIgrduMwU",
        "colab_type": "text"
      },
      "source": [
        "The goal of the ```Agent``` is to interact with the ```Environment``` by proposing actions $a_t$ obtained from a given state $s_t$ to attempt to maximize its __reward__ $r(s_t,a_t)$. We propose the following abstract class:"
      ]
    },
    {
      "cell_type": "code",
      "metadata": {
        "id": "VWRKAJkYuMwV",
        "colab_type": "code",
        "colab": {}
      },
      "source": [
        "class Agent(object):\n",
        "    def __init__(self, epsilon=0.1, n_action=4):\n",
        "        self.epsilon = epsilon\n",
        "        self.n_action = n_action\n",
        "    \n",
        "    def set_epsilon(self,e):\n",
        "        self.epsilon = e\n",
        "\n",
        "    def act(self,s,train=True):\n",
        "        \"\"\" This function should return the next action to do:\n",
        "        an integer between 0 and 4 (not included) with a random exploration of epsilon\"\"\"\n",
        "        if train:\n",
        "            if np.random.rand() <= self.epsilon:\n",
        "                a = np.random.randint(0, self.n_action, size=1)[0]\n",
        "            else:\n",
        "                a = self.learned_act(s)\n",
        "        else: # in some cases, this can improve the performance.. remove it if poor performances\n",
        "            a = self.learned_act(s)\n",
        "\n",
        "        return a\n",
        "\n",
        "    def learned_act(self,s):\n",
        "        \"\"\" Act via the policy of the agent, from a given state s\n",
        "        it proposes an action a\"\"\"\n",
        "        pass\n",
        "\n",
        "    def reinforce(self, s, n_s, a, r, game_over_):\n",
        "        \"\"\" This function is the core of the learning algorithm. \n",
        "        It takes as an input the current state s_, the next state n_s_\n",
        "        the action a_ used to move from s_ to n_s_ and the reward r_.\n",
        "        \n",
        "        Its goal is to learn a policy.\n",
        "        \"\"\"\n",
        "        pass\n",
        "\n",
        "    def save(self):\n",
        "        \"\"\" This function returns basic stats if applicable: the\n",
        "        loss and/or the model\"\"\"\n",
        "        pass\n",
        "\n",
        "    def load(self):\n",
        "        \"\"\" This function allows to restore a model\"\"\"\n",
        "        pass"
      ],
      "execution_count": 0,
      "outputs": []
    },
    {
      "cell_type": "markdown",
      "metadata": {
        "id": "zn3ZGADbuMwY",
        "colab_type": "text"
      },
      "source": [
        "***\n",
        "__Question 1__:\n",
        "Explain the function act. Why is ```epsilon``` essential?"
      ]
    },
    {
      "cell_type": "markdown",
      "metadata": {
        "id": "scXosBBkuMwZ",
        "colab_type": "text"
      },
      "source": [
        "The function act performs a greedy exploration. With probability $\\epsilon$ it chooses a random action (Exploration) and with probability $1 - \\epsilon$ the best action according to its learned policy (Exploitation). Without $\\epsilon$ there is no exploration and we may not find the optimal strategy for a Q-learning algorithm."
      ]
    },
    {
      "cell_type": "markdown",
      "metadata": {
        "id": "VFLv30kxuMwa",
        "colab_type": "text"
      },
      "source": [
        "***\n",
        "### The Game"
      ]
    },
    {
      "cell_type": "markdown",
      "metadata": {
        "id": "kAuTAo3suMwb",
        "colab_type": "text"
      },
      "source": [
        "The ```Agent``` and the ```Environment``` work in an interlaced way as in the following (take some time to understand this code as it is the core of the project)\n",
        "\n",
        "```python\n",
        "\n",
        "epoch = 300\n",
        "env = Environment()\n",
        "agent = Agent()\n",
        "\n",
        "\n",
        "# Number of won games\n",
        "score = 0\n",
        "loss = 0\n",
        "\n",
        "\n",
        "for e in range(epoch):\n",
        "    # At each epoch, we restart to a fresh game and get the initial state\n",
        "    state = env.reset()\n",
        "    # This assumes that the games will end\n",
        "    game_over = False\n",
        "\n",
        "    win = 0\n",
        "    lose = 0\n",
        "    \n",
        "    while not game_over:\n",
        "        # The agent performs an action\n",
        "        action = agent.act(state)\n",
        "\n",
        "        # Apply an action to the environment, get the next state, the reward\n",
        "        # and if the games end\n",
        "        prev_state = state\n",
        "        state, reward, game_over = env.act(action)\n",
        "\n",
        "        # Update the counters\n",
        "        if reward > 0:\n",
        "            win = win + reward\n",
        "        if reward < 0:\n",
        "            lose = lose -reward\n",
        "\n",
        "        # Apply the reinforcement strategy\n",
        "        loss = agent.reinforce(prev_state, state,  action, reward, game_over)\n",
        "\n",
        "    # Save as a mp4\n",
        "    if e % 10 == 0:\n",
        "        env.draw(e)\n",
        "\n",
        "    # Update stats\n",
        "    score += win-lose\n",
        "\n",
        "    print(\"Epoch {:03d}/{:03d} | Loss {:.4f} | Win/lose count {}/{} ({})\"\n",
        "          .format(e, epoch, loss, win, lose, win-lose))\n",
        "    agent.save()\n",
        "```"
      ]
    },
    {
      "cell_type": "markdown",
      "metadata": {
        "id": "Jw1igcG1uMwb",
        "colab_type": "text"
      },
      "source": [
        "# The game, *eat cheese*"
      ]
    },
    {
      "cell_type": "markdown",
      "metadata": {
        "id": "9NVDJMbPuMwc",
        "colab_type": "text"
      },
      "source": [
        "A rat runs on an island and tries to eat as much as possible. The island is subdivided into $N\\times N$ cells, in which there are cheese (+0.5) and poisonous cells (-1). The rat has a visibility of 2 cells (thus it can see $5^2$ cells). The rat is given a time $T$ to accumulate as much food as possible. It can perform 4 actions: going up, down, left, right. \n",
        "\n",
        "The goal is to code an agent to solve this task that will learn by trial and error. We propose the following environment:"
      ]
    },
    {
      "cell_type": "code",
      "metadata": {
        "id": "Bl9IDp6EuMwd",
        "colab_type": "code",
        "colab": {}
      },
      "source": [
        "class Environment(object):\n",
        "    def __init__(self, grid_size=10, max_time=500, temperature=0.1):\n",
        "        grid_size = grid_size+4\n",
        "        self.grid_size = grid_size\n",
        "        self.max_time = max_time\n",
        "        self.temperature = temperature\n",
        "\n",
        "        #board on which one plays\n",
        "        self.board = np.zeros((grid_size,grid_size))\n",
        "        self.position = np.zeros((grid_size,grid_size))\n",
        "\n",
        "        # coordinate of the cat\n",
        "        self.x = 0\n",
        "        self.y = 1\n",
        "\n",
        "        # self time\n",
        "        self.t = 0\n",
        "\n",
        "        self.scale=16\n",
        "\n",
        "        self.to_draw = np.zeros((max_time+2, grid_size*self.scale, grid_size*self.scale, 3))\n",
        "\n",
        "\n",
        "    def draw(self,e):\n",
        "        skvideo.io.vwrite(str(e) + '.mp4', self.to_draw)\n",
        "\n",
        "    def get_frame(self,t):\n",
        "        b = np.zeros((self.grid_size,self.grid_size,3))+128\n",
        "        b[self.board>0,0] = 256\n",
        "        b[self.board < 0, 2] = 256\n",
        "        b[self.x,self.y,:]=256\n",
        "        b[-2:,:,:]=0\n",
        "        b[:,-2:,:]=0\n",
        "        b[:2,:,:]=0\n",
        "        b[:,:2,:]=0\n",
        "        \n",
        "        b =  cv2.resize(b, None, fx=self.scale, fy=self.scale, interpolation=cv2.INTER_NEAREST)\n",
        "\n",
        "        self.to_draw[t,:,:,:]=b\n",
        "\n",
        "\n",
        "    def act(self, action):\n",
        "        \"\"\"This function returns the new state, reward and decides if the\n",
        "        game ends.\"\"\"\n",
        "\n",
        "        self.get_frame(int(self.t))\n",
        "\n",
        "        self.position = np.zeros((self.grid_size, self.grid_size))\n",
        "\n",
        "        self.position[0:2,:]= -1\n",
        "        self.position[:,0:2] = -1\n",
        "        self.position[-2:, :] = -1\n",
        "        self.position[-2:, :] = -1\n",
        "\n",
        "        self.position[self.x, self.y] = 1\n",
        "        if action == 0:\n",
        "            if self.x == self.grid_size-3:\n",
        "                self.x = self.x-1\n",
        "            else:\n",
        "                self.x = self.x + 1\n",
        "        elif action == 1:\n",
        "            if self.x == 2:\n",
        "                self.x = self.x+1\n",
        "            else:\n",
        "                self.x = self.x-1\n",
        "        elif action == 2:\n",
        "            if self.y == self.grid_size - 3:\n",
        "                self.y = self.y - 1\n",
        "            else:\n",
        "                self.y = self.y + 1\n",
        "        elif action == 3:\n",
        "            if self.y == 2:\n",
        "                self.y = self.y + 1\n",
        "            else:\n",
        "                self.y = self.y - 1\n",
        "        else:\n",
        "            RuntimeError('Error: action not recognized')\n",
        "\n",
        "        self.t = self.t + 1\n",
        "        reward = self.board[self.x, self.y]\n",
        "        self.board[self.x, self.y] = 0\n",
        "        game_over = self.t > self.max_time\n",
        "        state = np.concatenate((self.board.reshape(self.grid_size, self.grid_size,1),\n",
        "                        self.position.reshape(self.grid_size, self.grid_size,1)),axis=2)\n",
        "        state = state[self.x-2:self.x+3,self.y-2:self.y+3,:]\n",
        "\n",
        "        return state, reward, game_over\n",
        "\n",
        "    def reset(self):\n",
        "        \"\"\"This function resets the game and returns the initial state\"\"\"\n",
        "\n",
        "        self.x = np.random.randint(3, self.grid_size-3, size=1)[0]\n",
        "        self.y = np.random.randint(3, self.grid_size-3, size=1)[0]\n",
        "\n",
        "\n",
        "        bonus = 0.5*np.random.binomial(1,self.temperature,size=self.grid_size**2)\n",
        "        bonus = bonus.reshape(self.grid_size,self.grid_size)\n",
        "\n",
        "        malus = -1.0*np.random.binomial(1,self.temperature,size=self.grid_size**2)\n",
        "        malus = malus.reshape(self.grid_size, self.grid_size)\n",
        "\n",
        "        self.to_draw = np.zeros((self.max_time+2, self.grid_size*self.scale, self.grid_size*self.scale, 3))\n",
        "\n",
        "\n",
        "        malus[bonus>0]=0\n",
        "\n",
        "        self.board = bonus + malus\n",
        "\n",
        "        self.position = np.zeros((self.grid_size, self.grid_size))\n",
        "        self.position[0:2,:]= -1\n",
        "        self.position[:,0:2] = -1\n",
        "        self.position[-2:, :] = -1\n",
        "        self.position[-2:, :] = -1\n",
        "        self.board[self.x,self.y] = 0\n",
        "        self.t = 0\n",
        "\n",
        "        state = np.concatenate((\n",
        "                               self.board.reshape(self.grid_size, self.grid_size,1),\n",
        "                        self.position.reshape(self.grid_size, self.grid_size,1)),axis=2)\n",
        "\n",
        "        state = state[self.x - 2:self.x + 3, self.y - 2:self.y + 3, :]\n",
        "        return state"
      ],
      "execution_count": 0,
      "outputs": []
    },
    {
      "cell_type": "markdown",
      "metadata": {
        "id": "RI4p3aVauMwf",
        "colab_type": "text"
      },
      "source": [
        "The following elements are important because they correspond to the hyper parameters for this project:"
      ]
    },
    {
      "cell_type": "code",
      "metadata": {
        "id": "D-lyTXeYuMwg",
        "colab_type": "code",
        "colab": {}
      },
      "source": [
        "# parameters\n",
        "size = 13\n",
        "T=200\n",
        "temperature=0.3\n",
        "epochs_train=30 # set small when debugging\n",
        "epochs_test=30 # set small when debugging\n",
        "\n",
        "# display videos\n",
        "def display_videos(name):\n",
        "    video = io.open(name, 'r+b').read()\n",
        "    encoded = base64.b64encode(video)\n",
        "    return '''<video alt=\"test\" controls>\n",
        "                <source src=\"data:video/mp4;base64,{0}\" type=\"video/mp4\" />\n",
        "             </video>'''.format(encoded.decode('ascii'))"
      ],
      "execution_count": 0,
      "outputs": []
    },
    {
      "cell_type": "markdown",
      "metadata": {
        "id": "1C65-uicuMwj",
        "colab_type": "text"
      },
      "source": [
        "__Question 2__ Explain the use of the arrays ```position``` and ```board```."
      ]
    },
    {
      "cell_type": "markdown",
      "metadata": {
        "id": "tL364LluuMwk",
        "colab_type": "text"
      },
      "source": [
        "The board variable is a 2d array representing the rewards of every cell, namely $0.5$ is a cheese lies on the cell, $-1$ if the cell is a poisonous one, or $0$ is the rat has already visited the cell. The variable position is a 2d array made to extend the board with regard of the visibility of the rat. A value of -1 indicates we are no longer on the board."
      ]
    },
    {
      "cell_type": "markdown",
      "metadata": {
        "id": "pehV1KYauMwk",
        "colab_type": "text"
      },
      "source": [
        "## Random Agent"
      ]
    },
    {
      "cell_type": "markdown",
      "metadata": {
        "id": "bhd2sKYyuMwl",
        "colab_type": "text"
      },
      "source": [
        "***\n",
        "__Question 3__ Implement a random Agent (only ```learned_act``` needs to be implemented):"
      ]
    },
    {
      "cell_type": "code",
      "metadata": {
        "id": "5QLOFcJPuMwm",
        "colab_type": "code",
        "colab": {}
      },
      "source": [
        "class RandomAgent(Agent):\n",
        "    def __init__(self):\n",
        "        super(RandomAgent, self).__init__()\n",
        "        pass\n",
        "\n",
        "    def learned_act(self, s):\n",
        "        return np.random.randint(0, self.n_action)"
      ],
      "execution_count": 0,
      "outputs": []
    },
    {
      "cell_type": "markdown",
      "metadata": {
        "id": "MrMVSocmuMwo",
        "colab_type": "text"
      },
      "source": [
        "***\n",
        "***\n",
        "__Question 4__ Visualize the game moves. You need to fill in the following function for the evaluation:"
      ]
    },
    {
      "cell_type": "code",
      "metadata": {
        "id": "pMDNJ2f8uMwp",
        "colab_type": "code",
        "colab": {}
      },
      "source": [
        "def test(agent, env, epochs, prefix=''):\n",
        "    # Number of won games\n",
        "    score = 0\n",
        "        \n",
        "    for e in range(epochs):\n",
        "        # For every epoch we reset the environment\n",
        "        state = env.reset()\n",
        "\n",
        "        game_over = False\n",
        "        \n",
        "        win = 0\n",
        "        lose = 0\n",
        "        # As long as we have not finished the game we continue\n",
        "        while not game_over:\n",
        "            prev_state = state\n",
        "            \n",
        "            action = agent.act(prev_state)\n",
        "            state, reward, game_over = env.act(action)\n",
        "        \n",
        "            # Update the counters\n",
        "            if reward > 0:\n",
        "                win = win + reward\n",
        "            if reward < 0:\n",
        "                lose = lose -reward\n",
        "        \n",
        "        # Save as a mp4\n",
        "        env.draw(prefix+str(e))\n",
        "\n",
        "        # Update stats\n",
        "        score = score + win-lose\n",
        "        \n",
        "        print(\"Win/lose count {:.2f}/{:.2f}. Average score ({:.2f})\"\n",
        "              .format(win, lose, score/(1+e)))\n",
        "    print('Final score: '+str(score/epochs))"
      ],
      "execution_count": 0,
      "outputs": []
    },
    {
      "cell_type": "code",
      "metadata": {
        "id": "YDyNnTh1uMw9",
        "colab_type": "code",
        "outputId": "28dc4bf6-e99e-4fbc-fffb-2993d27d88ae",
        "colab": {
          "base_uri": "https://localhost:8080/",
          "height": 814
        }
      },
      "source": [
        "# Initialize the game\n",
        "env = Environment(grid_size=size, max_time=T,temperature=temperature)\n",
        "\n",
        "# Initialize the agent\n",
        "agent = RandomAgent()\n",
        "\n",
        "test(agent,env,epochs_test,prefix='random')\n",
        "HTML(display_videos('random0.mp4'))"
      ],
      "execution_count": 89,
      "outputs": [
        {
          "output_type": "stream",
          "text": [
            "Win/lose count 7.00/7.00. Average score (0.00)\n",
            "Win/lose count 12.00/17.00. Average score (-2.50)\n",
            "Win/lose count 9.50/13.00. Average score (-2.83)\n",
            "Win/lose count 7.50/26.00. Average score (-6.75)\n",
            "Win/lose count 8.50/10.00. Average score (-5.70)\n",
            "Win/lose count 11.50/15.00. Average score (-5.33)\n",
            "Win/lose count 8.50/18.00. Average score (-5.93)\n",
            "Win/lose count 8.50/4.00. Average score (-4.62)\n",
            "Win/lose count 11.00/17.00. Average score (-4.78)\n",
            "Win/lose count 13.00/18.00. Average score (-4.80)\n",
            "Win/lose count 9.00/23.00. Average score (-5.64)\n",
            "Win/lose count 10.00/14.00. Average score (-5.50)\n",
            "Win/lose count 9.50/15.00. Average score (-5.50)\n",
            "Win/lose count 9.00/10.00. Average score (-5.18)\n",
            "Win/lose count 9.50/12.00. Average score (-5.00)\n",
            "Win/lose count 9.00/16.00. Average score (-5.12)\n",
            "Win/lose count 12.00/17.00. Average score (-5.12)\n",
            "Win/lose count 8.50/10.00. Average score (-4.92)\n",
            "Win/lose count 8.50/18.00. Average score (-5.16)\n",
            "Win/lose count 14.00/19.00. Average score (-5.15)\n",
            "Win/lose count 9.50/14.00. Average score (-5.12)\n",
            "Win/lose count 13.50/19.00. Average score (-5.14)\n",
            "Win/lose count 7.50/14.00. Average score (-5.20)\n",
            "Win/lose count 8.00/19.00. Average score (-5.44)\n",
            "Win/lose count 11.50/8.00. Average score (-5.08)\n",
            "Win/lose count 8.50/11.00. Average score (-4.98)\n",
            "Win/lose count 10.00/17.00. Average score (-5.06)\n",
            "Win/lose count 7.00/14.00. Average score (-5.12)\n",
            "Win/lose count 9.50/19.00. Average score (-5.28)\n",
            "Win/lose count 11.50/4.00. Average score (-4.85)\n",
            "Final score: -4.85\n"
          ],
          "name": "stdout"
        },
        {
          "output_type": "execute_result",
          "data": {
            "text/html": [
              "<video alt=\"test\" controls>\n",
              "                <source src=\"data:video/mp4;base64,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\" type=\"video/mp4\" />\n",
              "             </video>"
            ],
            "text/plain": [
              "<IPython.core.display.HTML object>"
            ]
          },
          "metadata": {
            "tags": []
          },
          "execution_count": 89
        }
      ]
    },
    {
      "cell_type": "markdown",
      "metadata": {
        "id": "0cmZRaGnuMxA",
        "colab_type": "text"
      },
      "source": [
        "***\n",
        "## DQN"
      ]
    },
    {
      "cell_type": "markdown",
      "metadata": {
        "id": "2M_IiXomuMxA",
        "colab_type": "text"
      },
      "source": [
        "Let us assume here that $T=\\infty$.\n",
        "\n",
        "***\n",
        "__Question 5__ Let $\\pi$ be a policy, show that:\n",
        "\n",
        "\\begin{equation*}\n",
        "Q^{\\pi}(s,a)=E_{(s',a')\\sim p(.|s,a)}[r(s,a)+\\gamma Q^{\\pi}(s',a')]\n",
        "\\end{equation*}\n",
        "\n",
        "Then, show that for the optimal policy $\\pi^*$ (we assume its existence), the following holds: \n",
        "\n",
        "\\begin{equation*}\n",
        "Q^{*}(s,a)=E_{s'\\sim \\pi^*(.|s,a)}[r(s,a)+\\gamma\\max_{a'}Q^{*}(s',a')].\n",
        "\\end{equation*}\n",
        "Finally, deduce that a plausible objective is:\n",
        "\n",
        "\\begin{equation*}\n",
        "\\mathcal{L}(\\theta)=E_{s' \\sim \\pi^*(.|s,a)}\\Vert r+\\gamma\\max\\max_{a'}Q(s',a',\\theta)-Q(s,a,\\theta)\\Vert^{2}.\n",
        "\\end{equation*}\n",
        "\n",
        "\n"
      ]
    },
    {
      "cell_type": "markdown",
      "metadata": {
        "id": "Zi_tWYcduMxB",
        "colab_type": "text"
      },
      "source": [
        "__Answer__ :\n",
        "\n",
        "We have that:\n",
        "\\begin{equation*}\n",
        "Q^\\pi(s,a)=E_{p^{\\pi}}[\\sum_{t}\\gamma^{t}r(s_{t},a_{t})|s_{0}=s,a_{0}=a] \\\\\n",
        "= E_{p^{\\pi}}[r(s,a)  + \\sum_{t \\geq 1}\\gamma^{t}r(s_{t},a_{t})|s_{0}=s,a_{0}=a] \\\\\n",
        "= r(s,a)  + \\gamma E_{p^{\\pi}}[\\sum_{t \\geq 1}\\gamma^{t-1}r(s_{t},a_{t})|s_{0}=s,a_{0}=a] \\\\\n",
        "= r(s,a)  + \\gamma E_{(s',a')\\sim p(.|s,a)}[\\sum_{t \\geq 0}\\gamma^{t}r(s_{t},a_{t})|s_{0}=s^{'},a_{0}=a^{'}] \\\\\n",
        "= E_{(s',a')\\sim p(.|s,a)}[r(s,a)+\\gamma Q^{\\pi}(s',a')]\n",
        "\\end{equation*}\n",
        "\n",
        "And that:\n",
        "\\begin{equation*}\n",
        "  Q^{*}(s,a) = \\max_{\\pi} Q^\\pi(s,a) = Q^{\\pi^{*}}(s,a) \\\\\n",
        "  = r(s,a) + \\gamma E_{(s',a')\\sim p^{\\pi^{*}}(.|s,a)} [ Q^{\\pi^{*}}(s^{'},a^{'})] \\\\\n",
        "  = r(s,a) + \\gamma E_{s' \\sim p^{\\pi^{*}}(.|s,a)} [ \\max_{a^{'}} Q^{*}(s^{'},a^{'})]\n",
        "\\end{equation*} since the optimal policy is deterministic and selects actions. Which gives the two equations. The difference between the two sides of the last equations measures the gap that we obtain by the fact that our policy is not optimal. Hence this is a good objective to assess the quality of a policy."
      ]
    },
    {
      "cell_type": "markdown",
      "metadata": {
        "id": "CVAzp2d8uMxC",
        "colab_type": "text"
      },
      "source": [
        "***\n",
        "The DQN-learning algorithm relies on these derivations to train the parameters $\\theta$ of a Deep Neural Network:\n",
        "\n",
        "1. At the state $s_t$, select the action $a_t$ with best reward using $Q_t$ and store the results;\n",
        "\n",
        "2. Obtain the new state $s_{t+1}$ from the environment $p$;\n",
        "\n",
        "3. Store $(s_t,a_t,s_{t+1})$;\n",
        "\n",
        "4. Obtain $Q_{t+1}$ by minimizing  $\\mathcal{L}$ from a recovered batch from the previously stored results.\n",
        "\n",
        "***\n",
        "__Question 6__ Implement the class ```Memory``` that stores moves (in a replay buffer) via ```remember``` and provides a ```random_access``` to these. Specify a maximum memory size to avoid side effects. You can for example use a ```list()``` and set by default ```max_memory=100```."
      ]
    },
    {
      "cell_type": "code",
      "metadata": {
        "id": "DWQh49_BuMxC",
        "colab_type": "code",
        "colab": {}
      },
      "source": [
        "import random\n",
        "\n",
        "class Memory(object):\n",
        "    def __init__(self, max_memory=100):\n",
        "        self.max_memory = max_memory\n",
        "        self.memory = list()\n",
        "\n",
        "    def remember(self, m):\n",
        "        if len(self.memory) == 100:\n",
        "          del self.memory[0]\n",
        "        self.memory.append(m)\n",
        "\n",
        "    def random_access(self):\n",
        "        return random.choices(self.memory)"
      ],
      "execution_count": 0,
      "outputs": []
    },
    {
      "cell_type": "markdown",
      "metadata": {
        "id": "l_b4IWDEuMxF",
        "colab_type": "text"
      },
      "source": [
        "***\n",
        "The pipeline we will use for training is given below:"
      ]
    },
    {
      "cell_type": "code",
      "metadata": {
        "id": "tlA8INiduMxF",
        "colab_type": "code",
        "colab": {}
      },
      "source": [
        "def train(agent,env,epoch,prefix=''):\n",
        "    # Number of won games\n",
        "    score = 0\n",
        "    loss = 0\n",
        "\n",
        "    for e in range(epoch):\n",
        "        # At each epoch, we restart to a fresh game and get the initial state\n",
        "        state = env.reset()\n",
        "        # This assumes that the games will terminate\n",
        "        game_over = False\n",
        "\n",
        "        win = 0\n",
        "        lose = 0\n",
        "\n",
        "        while not game_over:\n",
        "            # The agent performs an action\n",
        "            action = agent.act(state)\n",
        "\n",
        "            # Apply an action to the environment, get the next state, the reward\n",
        "            prev_state = state\n",
        "            state, reward, game_over = env.act(action)\n",
        "\n",
        "            # Update the counters\n",
        "            if reward > 0:\n",
        "                win = win + reward\n",
        "            if reward < 0:\n",
        "                lose = lose -reward\n",
        "\n",
        "            # Apply the reinforcement strategy\n",
        "            loss = agent.reinforce(prev_state, state,  action, reward, game_over)\n",
        "\n",
        "        # Save as a mp4\n",
        "        if e % 10 == 0:\n",
        "            env.draw(prefix+str(e))\n",
        "\n",
        "        # Update stats\n",
        "        score += win-lose\n",
        "\n",
        "        print(\"Epoch {:03d}/{:03d} | Loss {:.4f} | Win/lose count {}/{} ({})\"\n",
        "              .format(e, epoch, loss, win, lose, win-lose))\n",
        "        agent.save(name_weights=prefix+'model.h5',name_model=prefix+'model.json')"
      ],
      "execution_count": 0,
      "outputs": []
    },
    {
      "cell_type": "markdown",
      "metadata": {
        "id": "li6CLOb9uMxH",
        "colab_type": "text"
      },
      "source": [
        "***\n",
        "__Question 7__ Implement the DQN training algorithm using a cascade of fully connected layers. You can use different learning rate, batch size or memory size parameters. In particular, the loss might oscillate while the player will start to win the games. You have to find a good criterium."
      ]
    },
    {
      "cell_type": "code",
      "metadata": {
        "id": "aVIzA59CuMxI",
        "colab_type": "code",
        "colab": {}
      },
      "source": [
        "class DQN(Agent):\n",
        "    def __init__(self, grid_size,  epsilon = 0.1, memory_size=100, batch_size = 16,n_state=2):\n",
        "        super(DQN, self).__init__(epsilon = epsilon)\n",
        "\n",
        "        # Discount for Q learning\n",
        "        self.discount = 0.99\n",
        "        \n",
        "        self.grid_size = grid_size\n",
        "        \n",
        "        # number of state\n",
        "        self.n_state = n_state\n",
        "\n",
        "        # Memory\n",
        "        self.memory = Memory(memory_size)\n",
        "        \n",
        "        # Batch size when learning\n",
        "        self.batch_size = batch_size\n",
        "\n",
        "    def learned_act(self, s):\n",
        "        return np.argmax(self.model.predict(s[None]))\n",
        "\n",
        "    def reinforce(self, s_, n_s_, a_, r_, game_over_):\n",
        "\n",
        "        # Two steps: first memorize the states, second learn from the pool\n",
        "        self.memory.remember([s_, n_s_, a_, r_, game_over_])\n",
        "        \n",
        "        # Create variables for keeping track of the input, target, next states and game overs\n",
        "        input_states = np.zeros((self.batch_size, 5,5,self.n_state))\n",
        "        target_q = np.zeros((self.batch_size, 4))\n",
        "        n_s_arr = np.zeros((self.batch_size, 5,5,self.n_state))\n",
        "        game_over_arr = []\n",
        "        actions_arr = []\n",
        "        rewards_arr = []\n",
        "        \n",
        "        for i in range(self.batch_size):\n",
        "\n",
        "            # Sample from the buffer\n",
        "            s_, n_s_, a_, r_, game_over_ = self.memory.random_access()[0]\n",
        "            \n",
        "            # Construct the batch of input spaces / next states / actions / rewards and game overs\n",
        "            input_states[i] = s_\n",
        "            n_s_arr[i] = n_s_\n",
        "            actions_arr.append(a_)\n",
        "            rewards_arr.append(r_)\n",
        "            game_over_arr.append(game_over_)\n",
        "\n",
        "        # Compute the predicted Q function for our state and the next one\n",
        "        target_q[:] = self.model.predict(input_states)\n",
        "        q_prediction = self.model.predict(n_s_arr)\n",
        "\n",
        "        for i in range(self.batch_size):\n",
        "            if game_over_:\n",
        "                # We are at the last state, there is no bootstrap\n",
        "                target_q[i, actions_arr[i]] = rewards_arr[i]\n",
        "            else:\n",
        "                # We bootstrap the Q value for estimating the q value of the next state\n",
        "                target_q[i, actions_arr[i]] = rewards_arr[i] + self.discount * q_prediction[i].max()\n",
        "        \n",
        "\n",
        "        # HINT: Clip the target to avoid exploiding gradients.. -- clipping is a bit tighter\n",
        "        target_q = np.clip(target_q, -3, 3)\n",
        "\n",
        "        l = self.model.train_on_batch(input_states, target_q)\n",
        "\n",
        "\n",
        "        return l\n",
        "\n",
        "    def save(self,name_weights='model.h5',name_model='model.json'):\n",
        "        self.model.save_weights(name_weights, overwrite=True)\n",
        "        with open(name_model, \"w\") as outfile:\n",
        "            json.dump(self.model.to_json(), outfile)\n",
        "            \n",
        "    def load(self,name_weights='model.h5',name_model='model.json'):\n",
        "        with open(name_model, \"r\") as jfile:\n",
        "            model = model_from_json(json.load(jfile))\n",
        "        model.load_weights(name_weights)\n",
        "        model.compile(\"sgd\", \"mse\")\n",
        "        self.model = model\n",
        "\n",
        "            \n",
        "class DQN_FC(DQN):\n",
        "    def __init__(self, *args, lr=0.1,**kwargs):\n",
        "        super(DQN_FC, self).__init__( *args,**kwargs)\n",
        "        \n",
        "        # NN Model\n",
        "        size = args[0]\n",
        "        hid_size = 30\n",
        "        \n",
        "        # Board seen by the rat\n",
        "        input_shape = (5, 5, self.n_state)\n",
        "\n",
        "        model = Sequential()\n",
        "        model.add(keras.layers.Flatten(input_shape=input_shape))\n",
        "        model.add(Dense(hid_size, activation='relu'))\n",
        "        model.add(Dense(hid_size, activation='relu'))\n",
        "        model.add(Dense(self.n_action)) # Output of n_action actions\n",
        "\n",
        "        model.compile(sgd(lr=lr, decay=1e-4, momentum=0.0), \"mse\")\n",
        "        self.model = model\n",
        "        "
      ],
      "execution_count": 0,
      "outputs": []
    },
    {
      "cell_type": "code",
      "metadata": {
        "id": "ZOBtjmptuMxL",
        "colab_type": "code",
        "outputId": "3ae97d70-6ed6-403e-a75d-61ec37f0150e",
        "colab": {
          "base_uri": "https://localhost:8080/",
          "height": 1000
        }
      },
      "source": [
        "env = Environment(grid_size=size, max_time=T, temperature=0.3)\n",
        "agent = DQN_FC(size, lr=.1, epsilon = 0.1, memory_size=2000, batch_size = 32)\n",
        "train(agent, env, 150, prefix='fc_train')"
      ],
      "execution_count": 93,
      "outputs": [
        {
          "output_type": "stream",
          "text": [
            "Epoch 000/150 | Loss 0.0001 | Win/lose count 3.5/4.0 (-0.5)\n",
            "Epoch 001/150 | Loss 0.0030 | Win/lose count 0.5/4.0 (-3.5)\n",
            "Epoch 002/150 | Loss 0.0015 | Win/lose count 3.0/3.0 (0.0)\n",
            "Epoch 003/150 | Loss 0.0078 | Win/lose count 3.0/1.0 (2.0)\n",
            "Epoch 004/150 | Loss 0.0017 | Win/lose count 4.5/2.0 (2.5)\n",
            "Epoch 005/150 | Loss 0.0009 | Win/lose count 1.0/3.0 (-2.0)\n",
            "Epoch 006/150 | Loss 0.0002 | Win/lose count 1.5/1.0 (0.5)\n",
            "Epoch 007/150 | Loss 0.0012 | Win/lose count 7.0/6.0 (1.0)\n",
            "Epoch 008/150 | Loss 0.0017 | Win/lose count 2.5/1.0 (1.5)\n",
            "Epoch 009/150 | Loss 0.0011 | Win/lose count 6.0/4.0 (2.0)\n",
            "Epoch 010/150 | Loss 0.0033 | Win/lose count 4.5/3.0 (1.5)\n",
            "Epoch 011/150 | Loss 0.0069 | Win/lose count 3.5/2.0 (1.5)\n",
            "Epoch 012/150 | Loss 0.0049 | Win/lose count 2.0/3.0 (-1.0)\n",
            "Epoch 013/150 | Loss 0.0045 | Win/lose count 7.0/3.0 (4.0)\n",
            "Epoch 014/150 | Loss 0.0015 | Win/lose count 4.5/3.0 (1.5)\n",
            "Epoch 015/150 | Loss 0.0152 | Win/lose count 4.5/3.0 (1.5)\n",
            "Epoch 016/150 | Loss 0.0015 | Win/lose count 3.0/3.0 (0.0)\n",
            "Epoch 017/150 | Loss 0.0132 | Win/lose count 6.5/3.0 (3.5)\n",
            "Epoch 018/150 | Loss 0.0094 | Win/lose count 5.0/5.0 (0.0)\n",
            "Epoch 019/150 | Loss 0.0027 | Win/lose count 10.0/4.0 (6.0)\n",
            "Epoch 020/150 | Loss 0.0126 | Win/lose count 4.5/4.0 (0.5)\n",
            "Epoch 021/150 | Loss 0.0008 | Win/lose count 8.5/4.0 (4.5)\n",
            "Epoch 022/150 | Loss 0.0051 | Win/lose count 6.5/3.0 (3.5)\n",
            "Epoch 023/150 | Loss 0.0025 | Win/lose count 7.0/4.0 (3.0)\n",
            "Epoch 024/150 | Loss 0.0014 | Win/lose count 3.0/2.0 (1.0)\n",
            "Epoch 025/150 | Loss 0.0038 | Win/lose count 7.0/7.0 (0.0)\n",
            "Epoch 026/150 | Loss 0.0035 | Win/lose count 7.0/5.0 (2.0)\n",
            "Epoch 027/150 | Loss 0.0038 | Win/lose count 9.0/4.0 (5.0)\n",
            "Epoch 028/150 | Loss 0.0004 | Win/lose count 4.5/4.0 (0.5)\n",
            "Epoch 029/150 | Loss 0.0146 | Win/lose count 11.0/6.0 (5.0)\n",
            "Epoch 030/150 | Loss 0.0057 | Win/lose count 8.5/2.0 (6.5)\n",
            "Epoch 031/150 | Loss 0.0007 | Win/lose count 7.5/3.0 (4.5)\n",
            "Epoch 032/150 | Loss 1.8572 | Win/lose count 6.5/1.0 (5.5)\n",
            "Epoch 033/150 | Loss 0.0079 | Win/lose count 4.0/2.0 (2.0)\n",
            "Epoch 034/150 | Loss 0.0062 | Win/lose count 4.0/1.0 (3.0)\n",
            "Epoch 035/150 | Loss 0.0017 | Win/lose count 5.5/1.0 (4.5)\n",
            "Epoch 036/150 | Loss 0.0005 | Win/lose count 8.5/2.0 (6.5)\n",
            "Epoch 037/150 | Loss 0.0082 | Win/lose count 15.0/4.0 (11.0)\n",
            "Epoch 038/150 | Loss 0.0040 | Win/lose count 6.0/3.0 (3.0)\n",
            "Epoch 039/150 | Loss 0.0013 | Win/lose count 5.0/3.0 (2.0)\n",
            "Epoch 040/150 | Loss 0.0027 | Win/lose count 6.0/3.0 (3.0)\n",
            "Epoch 041/150 | Loss 0.0053 | Win/lose count 19.0/2.0 (17.0)\n",
            "Epoch 042/150 | Loss 0.0031 | Win/lose count 7.5/3.0 (4.5)\n",
            "Epoch 043/150 | Loss 0.0014 | Win/lose count 11.5/0 (11.5)\n",
            "Epoch 044/150 | Loss 0.0065 | Win/lose count 14.0/3.0 (11.0)\n",
            "Epoch 045/150 | Loss 0.0006 | Win/lose count 2.5/1.0 (1.5)\n",
            "Epoch 046/150 | Loss 0.0006 | Win/lose count 4.0/1.0 (3.0)\n",
            "Epoch 047/150 | Loss 0.0139 | Win/lose count 9.0/4.0 (5.0)\n",
            "Epoch 048/150 | Loss 0.0013 | Win/lose count 4.0/4.0 (0.0)\n",
            "Epoch 049/150 | Loss 0.0028 | Win/lose count 5.5/1.0 (4.5)\n",
            "Epoch 050/150 | Loss 0.0018 | Win/lose count 9.0/6.0 (3.0)\n",
            "Epoch 051/150 | Loss 0.0011 | Win/lose count 8.5/3.0 (5.5)\n",
            "Epoch 052/150 | Loss 0.0022 | Win/lose count 7.0/1.0 (6.0)\n",
            "Epoch 053/150 | Loss 0.0054 | Win/lose count 7.5/5.0 (2.5)\n",
            "Epoch 054/150 | Loss 0.0008 | Win/lose count 6.0/1.0 (5.0)\n",
            "Epoch 055/150 | Loss 0.0045 | Win/lose count 9.5/5.0 (4.5)\n",
            "Epoch 056/150 | Loss 0.0042 | Win/lose count 7.0/3.0 (4.0)\n",
            "Epoch 057/150 | Loss 0.0015 | Win/lose count 18.0/0 (18.0)\n",
            "Epoch 058/150 | Loss 0.0028 | Win/lose count 8.0/3.0 (5.0)\n",
            "Epoch 059/150 | Loss 0.0016 | Win/lose count 13.0/6.0 (7.0)\n",
            "Epoch 060/150 | Loss 0.0057 | Win/lose count 7.0/3.0 (4.0)\n",
            "Epoch 061/150 | Loss 0.0004 | Win/lose count 3.5/4.0 (-0.5)\n",
            "Epoch 062/150 | Loss 0.0035 | Win/lose count 12.0/5.0 (7.0)\n",
            "Epoch 063/150 | Loss 0.0040 | Win/lose count 13.0/2.0 (11.0)\n",
            "Epoch 064/150 | Loss 0.0028 | Win/lose count 11.5/2.0 (9.5)\n",
            "Epoch 065/150 | Loss 0.0024 | Win/lose count 17.5/1.0 (16.5)\n",
            "Epoch 066/150 | Loss 0.0031 | Win/lose count 4.5/4.0 (0.5)\n",
            "Epoch 067/150 | Loss 0.0038 | Win/lose count 8.0/2.0 (6.0)\n",
            "Epoch 068/150 | Loss 0.0018 | Win/lose count 8.0/3.0 (5.0)\n",
            "Epoch 069/150 | Loss 0.0044 | Win/lose count 5.5/6.0 (-0.5)\n",
            "Epoch 070/150 | Loss 0.0005 | Win/lose count 7.5/0 (7.5)\n",
            "Epoch 071/150 | Loss 0.0026 | Win/lose count 16.5/3.0 (13.5)\n",
            "Epoch 072/150 | Loss 0.0028 | Win/lose count 9.5/2.0 (7.5)\n",
            "Epoch 073/150 | Loss 0.0021 | Win/lose count 8.5/3.0 (5.5)\n",
            "Epoch 074/150 | Loss 0.0017 | Win/lose count 12.0/6.0 (6.0)\n",
            "Epoch 075/150 | Loss 0.0016 | Win/lose count 7.5/3.0 (4.5)\n",
            "Epoch 076/150 | Loss 0.0010 | Win/lose count 6.0/1.0 (5.0)\n",
            "Epoch 077/150 | Loss 0.0045 | Win/lose count 13.0/0 (13.0)\n",
            "Epoch 078/150 | Loss 0.0023 | Win/lose count 15.0/3.0 (12.0)\n",
            "Epoch 079/150 | Loss 0.0012 | Win/lose count 14.5/0 (14.5)\n",
            "Epoch 080/150 | Loss 0.0060 | Win/lose count 9.5/3.0 (6.5)\n",
            "Epoch 081/150 | Loss 0.0026 | Win/lose count 9.5/2.0 (7.5)\n",
            "Epoch 082/150 | Loss 0.0007 | Win/lose count 6.0/1.0 (5.0)\n",
            "Epoch 083/150 | Loss 0.0043 | Win/lose count 9.5/5.0 (4.5)\n",
            "Epoch 084/150 | Loss 0.0008 | Win/lose count 9.5/2.0 (7.5)\n",
            "Epoch 085/150 | Loss 0.0029 | Win/lose count 12.5/2.0 (10.5)\n",
            "Epoch 086/150 | Loss 0.0025 | Win/lose count 15.5/4.0 (11.5)\n",
            "Epoch 087/150 | Loss 0.0030 | Win/lose count 4.5/1.0 (3.5)\n",
            "Epoch 088/150 | Loss 0.0041 | Win/lose count 8.5/2.0 (6.5)\n",
            "Epoch 089/150 | Loss 0.0013 | Win/lose count 3.0/1.0 (2.0)\n",
            "Epoch 090/150 | Loss 0.0021 | Win/lose count 11.0/3.0 (8.0)\n",
            "Epoch 091/150 | Loss 0.0053 | Win/lose count 14.5/5.0 (9.5)\n",
            "Epoch 092/150 | Loss 0.0010 | Win/lose count 4.5/1.0 (3.5)\n",
            "Epoch 093/150 | Loss 0.0020 | Win/lose count 2.5/3.0 (-0.5)\n",
            "Epoch 094/150 | Loss 0.0038 | Win/lose count 17.5/2.0 (15.5)\n",
            "Epoch 095/150 | Loss 0.0017 | Win/lose count 12.0/2.0 (10.0)\n",
            "Epoch 096/150 | Loss 0.0007 | Win/lose count 10.5/4.0 (6.5)\n",
            "Epoch 097/150 | Loss 0.0048 | Win/lose count 14.5/1.0 (13.5)\n",
            "Epoch 098/150 | Loss 0.0026 | Win/lose count 11.0/2.0 (9.0)\n",
            "Epoch 099/150 | Loss 0.0009 | Win/lose count 5.0/0 (5.0)\n",
            "Epoch 100/150 | Loss 0.0024 | Win/lose count 13.0/2.0 (11.0)\n",
            "Epoch 101/150 | Loss 0.0003 | Win/lose count 3.5/1.0 (2.5)\n",
            "Epoch 102/150 | Loss 0.0098 | Win/lose count 15.5/8.0 (7.5)\n",
            "Epoch 103/150 | Loss 0.0030 | Win/lose count 11.0/2.0 (9.0)\n",
            "Epoch 104/150 | Loss 0.0014 | Win/lose count 5.0/5.0 (0.0)\n",
            "Epoch 105/150 | Loss 0.0012 | Win/lose count 17.5/2.0 (15.5)\n",
            "Epoch 106/150 | Loss 0.0033 | Win/lose count 12.0/1.0 (11.0)\n",
            "Epoch 107/150 | Loss 0.0026 | Win/lose count 5.0/5.0 (0.0)\n",
            "Epoch 108/150 | Loss 0.0032 | Win/lose count 19.5/5.0 (14.5)\n",
            "Epoch 109/150 | Loss 0.0025 | Win/lose count 19.5/3.0 (16.5)\n",
            "Epoch 110/150 | Loss 0.0003 | Win/lose count 13.0/2.0 (11.0)\n",
            "Epoch 111/150 | Loss 0.0010 | Win/lose count 2.0/3.0 (-1.0)\n",
            "Epoch 112/150 | Loss 1.3002 | Win/lose count 1.0/2.0 (-1.0)\n",
            "Epoch 113/150 | Loss 0.0048 | Win/lose count 17.5/4.0 (13.5)\n",
            "Epoch 114/150 | Loss 0.0027 | Win/lose count 19.0/4.0 (15.0)\n",
            "Epoch 115/150 | Loss 0.0024 | Win/lose count 9.0/3.0 (6.0)\n",
            "Epoch 116/150 | Loss 0.0037 | Win/lose count 14.0/2.0 (12.0)\n",
            "Epoch 117/150 | Loss 0.0013 | Win/lose count 8.0/4.0 (4.0)\n",
            "Epoch 118/150 | Loss 0.0051 | Win/lose count 12.5/0 (12.5)\n",
            "Epoch 119/150 | Loss 0.0022 | Win/lose count 9.0/2.0 (7.0)\n",
            "Epoch 120/150 | Loss 0.0013 | Win/lose count 12.0/4.0 (8.0)\n",
            "Epoch 121/150 | Loss 0.0018 | Win/lose count 15.0/4.0 (11.0)\n",
            "Epoch 122/150 | Loss 0.0009 | Win/lose count 8.5/0 (8.5)\n",
            "Epoch 123/150 | Loss 0.0021 | Win/lose count 13.5/3.0 (10.5)\n",
            "Epoch 124/150 | Loss 0.0018 | Win/lose count 10.0/2.0 (8.0)\n",
            "Epoch 125/150 | Loss 0.0005 | Win/lose count 12.5/3.0 (9.5)\n",
            "Epoch 126/150 | Loss 0.0005 | Win/lose count 12.0/1.0 (11.0)\n",
            "Epoch 127/150 | Loss 0.0033 | Win/lose count 16.5/3.0 (13.5)\n",
            "Epoch 128/150 | Loss 0.0017 | Win/lose count 7.5/1.0 (6.5)\n",
            "Epoch 129/150 | Loss 0.0050 | Win/lose count 9.0/1.0 (8.0)\n",
            "Epoch 130/150 | Loss 0.0053 | Win/lose count 13.5/7.0 (6.5)\n",
            "Epoch 131/150 | Loss 0.0026 | Win/lose count 10.0/4.0 (6.0)\n",
            "Epoch 132/150 | Loss 0.0029 | Win/lose count 6.5/2.0 (4.5)\n",
            "Epoch 133/150 | Loss 0.0012 | Win/lose count 6.5/2.0 (4.5)\n",
            "Epoch 134/150 | Loss 0.0077 | Win/lose count 8.0/3.0 (5.0)\n",
            "Epoch 135/150 | Loss 0.0028 | Win/lose count 19.5/5.0 (14.5)\n",
            "Epoch 136/150 | Loss 0.0026 | Win/lose count 21.0/4.0 (17.0)\n",
            "Epoch 137/150 | Loss 0.0009 | Win/lose count 8.0/2.0 (6.0)\n",
            "Epoch 138/150 | Loss 0.0103 | Win/lose count 9.5/6.0 (3.5)\n",
            "Epoch 139/150 | Loss 0.0047 | Win/lose count 5.0/2.0 (3.0)\n",
            "Epoch 140/150 | Loss 0.0038 | Win/lose count 13.0/3.0 (10.0)\n",
            "Epoch 141/150 | Loss 0.0013 | Win/lose count 9.5/3.0 (6.5)\n",
            "Epoch 142/150 | Loss 0.0015 | Win/lose count 11.0/3.0 (8.0)\n",
            "Epoch 143/150 | Loss 0.0019 | Win/lose count 11.0/4.0 (7.0)\n",
            "Epoch 144/150 | Loss 0.0003 | Win/lose count 8.5/2.0 (6.5)\n",
            "Epoch 145/150 | Loss 0.0047 | Win/lose count 12.0/5.0 (7.0)\n",
            "Epoch 146/150 | Loss 0.0034 | Win/lose count 13.5/3.0 (10.5)\n",
            "Epoch 147/150 | Loss 0.0068 | Win/lose count 18.5/5.0 (13.5)\n",
            "Epoch 148/150 | Loss 0.0097 | Win/lose count 9.5/3.0 (6.5)\n",
            "Epoch 149/150 | Loss 0.0028 | Win/lose count 17.5/3.0 (14.5)\n"
          ],
          "name": "stdout"
        }
      ]
    },
    {
      "cell_type": "code",
      "metadata": {
        "id": "oTJRi-faM_Td",
        "colab_type": "code",
        "outputId": "fac3b6f1-1d54-4777-e221-7f91c98d3787",
        "colab": {
          "base_uri": "https://localhost:8080/",
          "height": 293
        }
      },
      "source": [
        "HTML(display_videos('fc_train130.mp4'))"
      ],
      "execution_count": 94,
      "outputs": [
        {
          "output_type": "execute_result",
          "data": {
            "text/html": [
              "<video alt=\"test\" controls>\n",
              "                <source src=\"data:video/mp4;base64,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\" type=\"video/mp4\" />\n",
              "             </video>"
            ],
            "text/plain": [
              "<IPython.core.display.HTML object>"
            ]
          },
          "metadata": {
            "tags": []
          },
          "execution_count": 94
        }
      ]
    },
    {
      "cell_type": "markdown",
      "metadata": {
        "id": "G4z6KT25uMxN",
        "colab_type": "text"
      },
      "source": [
        "***\n",
        "***\n",
        "__Question 8__ Implement the DQN training algorithm using a CNN (for example, 2 convolutional layers and one final fully connected layer)."
      ]
    },
    {
      "cell_type": "code",
      "metadata": {
        "id": "E6xQQ3leuMxO",
        "colab_type": "code",
        "colab": {}
      },
      "source": [
        "class DQN_CNN(DQN):\n",
        "    def __init__(self, *args,lr=0.1,**kwargs):\n",
        "        super(DQN_CNN, self).__init__(*args,**kwargs)\n",
        "        ## Shape of the visible board \n",
        "        input_shape = (5, 5, self.n_state)\n",
        "        \n",
        "        # We use three layer convolutional network\n",
        "        model = Sequential([\n",
        "            Conv2D(32, 3, input_shape=input_shape, activation='relu', padding=\"same\"),\n",
        "            Conv2D(64, 3, activation='relu', padding=\"same\"),\n",
        "            Conv2D(32, 3, activation='relu', padding=\"same\"),\n",
        "            keras.layers.Flatten(),\n",
        "            Dense(self.n_action)  # output\n",
        "        ])\n",
        "        \n",
        "        model.compile(sgd(lr=lr, decay=1e-4, momentum=0.0), \"mse\")\n",
        "        self.model = model"
      ],
      "execution_count": 0,
      "outputs": []
    },
    {
      "cell_type": "code",
      "metadata": {
        "id": "R6dcd0f4uMxQ",
        "colab_type": "code",
        "outputId": "0fcc1669-0261-4e03-f6ff-11faf16dd90b",
        "colab": {
          "base_uri": "https://localhost:8080/",
          "height": 1000
        }
      },
      "source": [
        "env = Environment(grid_size=size, max_time=T, temperature=0.3)\n",
        "agent = DQN_CNN(size, lr=.1, epsilon = 0.1, memory_size=2000, batch_size = 32)\n",
        "train(agent,env, 150,prefix='cnn_train')"
      ],
      "execution_count": 96,
      "outputs": [
        {
          "output_type": "stream",
          "text": [
            "Epoch 000/150 | Loss 0.0001 | Win/lose count 0.5/0 (0.5)\n",
            "Epoch 001/150 | Loss 0.0001 | Win/lose count 2.5/1.0 (1.5)\n",
            "Epoch 002/150 | Loss 0.0002 | Win/lose count 0.5/2.0 (-1.5)\n",
            "Epoch 003/150 | Loss 0.0020 | Win/lose count 3.5/7.0 (-3.5)\n",
            "Epoch 004/150 | Loss 0.0054 | Win/lose count 2.5/3.0 (-0.5)\n",
            "Epoch 005/150 | Loss 0.0108 | Win/lose count 8.5/5.0 (3.5)\n",
            "Epoch 006/150 | Loss 0.0133 | Win/lose count 5.5/6.0 (-0.5)\n",
            "Epoch 007/150 | Loss 0.0015 | Win/lose count 5.0/6.0 (-1.0)\n",
            "Epoch 008/150 | Loss 0.0009 | Win/lose count 6.0/2.0 (4.0)\n",
            "Epoch 009/150 | Loss 0.0006 | Win/lose count 12.0/4.0 (8.0)\n",
            "Epoch 010/150 | Loss 0.0036 | Win/lose count 12.5/8.0 (4.5)\n",
            "Epoch 011/150 | Loss 0.0003 | Win/lose count 8.5/1.0 (7.5)\n",
            "Epoch 012/150 | Loss 0.0036 | Win/lose count 6.5/3.0 (3.5)\n",
            "Epoch 013/150 | Loss 0.0003 | Win/lose count 10.5/0 (10.5)\n",
            "Epoch 014/150 | Loss 0.0020 | Win/lose count 6.5/6.0 (0.5)\n",
            "Epoch 015/150 | Loss 0.0003 | Win/lose count 6.0/2.0 (4.0)\n",
            "Epoch 016/150 | Loss 0.0002 | Win/lose count 9.5/2.0 (7.5)\n",
            "Epoch 017/150 | Loss 0.0020 | Win/lose count 10.5/4.0 (6.5)\n",
            "Epoch 018/150 | Loss 0.0017 | Win/lose count 12.5/3.0 (9.5)\n",
            "Epoch 019/150 | Loss 0.0010 | Win/lose count 7.0/5.0 (2.0)\n",
            "Epoch 020/150 | Loss 0.0013 | Win/lose count 11.0/3.0 (8.0)\n",
            "Epoch 021/150 | Loss 0.0007 | Win/lose count 7.0/2.0 (5.0)\n",
            "Epoch 022/150 | Loss 0.0010 | Win/lose count 6.5/3.0 (3.5)\n",
            "Epoch 023/150 | Loss 0.0007 | Win/lose count 5.5/3.0 (2.5)\n",
            "Epoch 024/150 | Loss 0.0014 | Win/lose count 9.5/1.0 (8.5)\n",
            "Epoch 025/150 | Loss 0.0006 | Win/lose count 12.5/0 (12.5)\n",
            "Epoch 026/150 | Loss 0.0011 | Win/lose count 12.0/4.0 (8.0)\n",
            "Epoch 027/150 | Loss 0.0061 | Win/lose count 9.5/3.0 (6.5)\n",
            "Epoch 028/150 | Loss 0.0082 | Win/lose count 14.0/1.0 (13.0)\n",
            "Epoch 029/150 | Loss 0.0003 | Win/lose count 4.0/0 (4.0)\n",
            "Epoch 030/150 | Loss 0.0003 | Win/lose count 7.5/1.0 (6.5)\n",
            "Epoch 031/150 | Loss 0.0017 | Win/lose count 14.0/3.0 (11.0)\n",
            "Epoch 032/150 | Loss 0.0025 | Win/lose count 14.0/5.0 (9.0)\n",
            "Epoch 033/150 | Loss 0.0019 | Win/lose count 15.5/3.0 (12.5)\n",
            "Epoch 034/150 | Loss 0.0015 | Win/lose count 24.0/5.0 (19.0)\n",
            "Epoch 035/150 | Loss 0.0049 | Win/lose count 18.5/6.0 (12.5)\n",
            "Epoch 036/150 | Loss 0.0002 | Win/lose count 15.0/2.0 (13.0)\n",
            "Epoch 037/150 | Loss 0.0029 | Win/lose count 21.0/4.0 (17.0)\n",
            "Epoch 038/150 | Loss 0.0089 | Win/lose count 17.5/3.0 (14.5)\n",
            "Epoch 039/150 | Loss 0.0007 | Win/lose count 15.0/3.0 (12.0)\n",
            "Epoch 040/150 | Loss 0.0005 | Win/lose count 14.5/0 (14.5)\n",
            "Epoch 041/150 | Loss 0.0100 | Win/lose count 18.0/4.0 (14.0)\n",
            "Epoch 042/150 | Loss 0.0010 | Win/lose count 14.5/6.0 (8.5)\n",
            "Epoch 043/150 | Loss 0.0002 | Win/lose count 12.5/6.0 (6.5)\n",
            "Epoch 044/150 | Loss 0.0005 | Win/lose count 13.5/2.0 (11.5)\n",
            "Epoch 045/150 | Loss 0.0030 | Win/lose count 4.5/1.0 (3.5)\n",
            "Epoch 046/150 | Loss 0.0018 | Win/lose count 15.5/3.0 (12.5)\n",
            "Epoch 047/150 | Loss 0.0008 | Win/lose count 15.0/1.0 (14.0)\n",
            "Epoch 048/150 | Loss 0.0010 | Win/lose count 13.0/3.0 (10.0)\n",
            "Epoch 049/150 | Loss 0.0003 | Win/lose count 10.5/3.0 (7.5)\n",
            "Epoch 050/150 | Loss 0.0002 | Win/lose count 16.5/2.0 (14.5)\n",
            "Epoch 051/150 | Loss 0.0011 | Win/lose count 11.5/4.0 (7.5)\n",
            "Epoch 052/150 | Loss 0.0004 | Win/lose count 10.5/0 (10.5)\n",
            "Epoch 053/150 | Loss 0.0017 | Win/lose count 15.0/4.0 (11.0)\n",
            "Epoch 054/150 | Loss 0.0003 | Win/lose count 5.5/3.0 (2.5)\n",
            "Epoch 055/150 | Loss 0.0091 | Win/lose count 13.5/5.0 (8.5)\n",
            "Epoch 056/150 | Loss 0.0016 | Win/lose count 10.5/4.0 (6.5)\n",
            "Epoch 057/150 | Loss 0.0018 | Win/lose count 22.5/4.0 (18.5)\n",
            "Epoch 058/150 | Loss 0.0004 | Win/lose count 10.5/2.0 (8.5)\n",
            "Epoch 059/150 | Loss 0.0008 | Win/lose count 13.5/0 (13.5)\n",
            "Epoch 060/150 | Loss 0.0011 | Win/lose count 7.5/0 (7.5)\n",
            "Epoch 061/150 | Loss 0.0026 | Win/lose count 17.5/3.0 (14.5)\n",
            "Epoch 062/150 | Loss 0.0012 | Win/lose count 16.5/1.0 (15.5)\n",
            "Epoch 063/150 | Loss 0.0018 | Win/lose count 7.0/4.0 (3.0)\n",
            "Epoch 064/150 | Loss 0.0021 | Win/lose count 10.0/4.0 (6.0)\n",
            "Epoch 065/150 | Loss 0.0009 | Win/lose count 19.5/0 (19.5)\n",
            "Epoch 066/150 | Loss 0.0015 | Win/lose count 13.5/2.0 (11.5)\n",
            "Epoch 067/150 | Loss 0.0018 | Win/lose count 17.0/3.0 (14.0)\n",
            "Epoch 068/150 | Loss 0.0006 | Win/lose count 10.5/2.0 (8.5)\n",
            "Epoch 069/150 | Loss 0.0057 | Win/lose count 17.0/4.0 (13.0)\n",
            "Epoch 070/150 | Loss 0.0005 | Win/lose count 15.0/5.0 (10.0)\n",
            "Epoch 071/150 | Loss 0.0011 | Win/lose count 19.5/2.0 (17.5)\n",
            "Epoch 072/150 | Loss 0.0010 | Win/lose count 19.5/0 (19.5)\n",
            "Epoch 073/150 | Loss 0.0016 | Win/lose count 17.5/2.0 (15.5)\n",
            "Epoch 074/150 | Loss 0.0009 | Win/lose count 8.0/2.0 (6.0)\n",
            "Epoch 075/150 | Loss 0.0011 | Win/lose count 19.0/4.0 (15.0)\n",
            "Epoch 076/150 | Loss 0.0017 | Win/lose count 18.5/3.0 (15.5)\n",
            "Epoch 077/150 | Loss 0.0012 | Win/lose count 11.0/4.0 (7.0)\n",
            "Epoch 078/150 | Loss 0.0010 | Win/lose count 13.5/1.0 (12.5)\n",
            "Epoch 079/150 | Loss 0.0006 | Win/lose count 8.0/1.0 (7.0)\n",
            "Epoch 080/150 | Loss 0.0033 | Win/lose count 11.5/3.0 (8.5)\n",
            "Epoch 081/150 | Loss 0.0007 | Win/lose count 15.5/2.0 (13.5)\n",
            "Epoch 082/150 | Loss 0.0116 | Win/lose count 18.5/2.0 (16.5)\n",
            "Epoch 083/150 | Loss 0.0062 | Win/lose count 11.0/3.0 (8.0)\n",
            "Epoch 084/150 | Loss 0.0010 | Win/lose count 7.5/2.0 (5.5)\n",
            "Epoch 085/150 | Loss 0.0007 | Win/lose count 8.5/4.0 (4.5)\n",
            "Epoch 086/150 | Loss 0.0006 | Win/lose count 9.0/1.0 (8.0)\n",
            "Epoch 087/150 | Loss 0.0016 | Win/lose count 22.0/4.0 (18.0)\n",
            "Epoch 088/150 | Loss 0.0001 | Win/lose count 4.5/3.0 (1.5)\n",
            "Epoch 089/150 | Loss 0.0010 | Win/lose count 19.5/9.0 (10.5)\n",
            "Epoch 090/150 | Loss 0.0006 | Win/lose count 15.5/0 (15.5)\n",
            "Epoch 091/150 | Loss 0.0010 | Win/lose count 9.0/3.0 (6.0)\n",
            "Epoch 092/150 | Loss 0.0051 | Win/lose count 13.5/1.0 (12.5)\n",
            "Epoch 093/150 | Loss 0.0006 | Win/lose count 15.0/3.0 (12.0)\n",
            "Epoch 094/150 | Loss 0.0006 | Win/lose count 10.0/0 (10.0)\n",
            "Epoch 095/150 | Loss 0.0023 | Win/lose count 14.0/1.0 (13.0)\n",
            "Epoch 096/150 | Loss 0.0005 | Win/lose count 19.5/2.0 (17.5)\n",
            "Epoch 097/150 | Loss 0.0023 | Win/lose count 15.0/1.0 (14.0)\n",
            "Epoch 098/150 | Loss 0.0027 | Win/lose count 24.0/2.0 (22.0)\n",
            "Epoch 099/150 | Loss 1.9066 | Win/lose count 20.0/5.0 (15.0)\n",
            "Epoch 100/150 | Loss 0.0008 | Win/lose count 14.5/7.0 (7.5)\n",
            "Epoch 101/150 | Loss 0.0022 | Win/lose count 11.5/1.0 (10.5)\n",
            "Epoch 102/150 | Loss 0.0008 | Win/lose count 11.5/3.0 (8.5)\n",
            "Epoch 103/150 | Loss 0.0004 | Win/lose count 20.5/1.0 (19.5)\n",
            "Epoch 104/150 | Loss 0.0030 | Win/lose count 22.0/8.0 (14.0)\n",
            "Epoch 105/150 | Loss 0.0007 | Win/lose count 5.5/3.0 (2.5)\n",
            "Epoch 106/150 | Loss 0.0013 | Win/lose count 24.0/3.0 (21.0)\n",
            "Epoch 107/150 | Loss 0.0023 | Win/lose count 9.0/1.0 (8.0)\n",
            "Epoch 108/150 | Loss 0.0014 | Win/lose count 20.5/2.0 (18.5)\n",
            "Epoch 109/150 | Loss 0.0014 | Win/lose count 21.5/5.0 (16.5)\n",
            "Epoch 110/150 | Loss 0.0016 | Win/lose count 16.0/4.0 (12.0)\n",
            "Epoch 111/150 | Loss 0.0033 | Win/lose count 25.0/4.0 (21.0)\n",
            "Epoch 112/150 | Loss 0.0007 | Win/lose count 18.5/5.0 (13.5)\n",
            "Epoch 113/150 | Loss 0.0006 | Win/lose count 21.5/2.0 (19.5)\n",
            "Epoch 114/150 | Loss 0.0003 | Win/lose count 9.5/2.0 (7.5)\n",
            "Epoch 115/150 | Loss 0.0023 | Win/lose count 16.0/2.0 (14.0)\n",
            "Epoch 116/150 | Loss 0.0066 | Win/lose count 21.5/5.0 (16.5)\n",
            "Epoch 117/150 | Loss 0.0005 | Win/lose count 7.5/0 (7.5)\n",
            "Epoch 118/150 | Loss 0.0008 | Win/lose count 17.5/0 (17.5)\n",
            "Epoch 119/150 | Loss 0.0001 | Win/lose count 5.0/0 (5.0)\n",
            "Epoch 120/150 | Loss 0.0025 | Win/lose count 9.5/3.0 (6.5)\n",
            "Epoch 121/150 | Loss 0.0007 | Win/lose count 19.0/3.0 (16.0)\n",
            "Epoch 122/150 | Loss 0.0011 | Win/lose count 13.0/3.0 (10.0)\n",
            "Epoch 123/150 | Loss 0.0005 | Win/lose count 22.0/4.0 (18.0)\n",
            "Epoch 124/150 | Loss 0.0014 | Win/lose count 21.5/2.0 (19.5)\n",
            "Epoch 125/150 | Loss 0.0004 | Win/lose count 14.5/0 (14.5)\n",
            "Epoch 126/150 | Loss 0.0007 | Win/lose count 20.5/1.0 (19.5)\n",
            "Epoch 127/150 | Loss 0.0012 | Win/lose count 21.0/2.0 (19.0)\n",
            "Epoch 128/150 | Loss 0.0017 | Win/lose count 25.0/5.0 (20.0)\n",
            "Epoch 129/150 | Loss 0.0004 | Win/lose count 18.0/5.0 (13.0)\n",
            "Epoch 130/150 | Loss 0.0006 | Win/lose count 11.5/1.0 (10.5)\n",
            "Epoch 131/150 | Loss 0.0017 | Win/lose count 22.5/5.0 (17.5)\n",
            "Epoch 132/150 | Loss 0.0076 | Win/lose count 15.5/5.0 (10.5)\n",
            "Epoch 133/150 | Loss 0.0013 | Win/lose count 13.0/2.0 (11.0)\n",
            "Epoch 134/150 | Loss 0.0017 | Win/lose count 20.5/3.0 (17.5)\n",
            "Epoch 135/150 | Loss 0.0045 | Win/lose count 23.0/2.0 (21.0)\n",
            "Epoch 136/150 | Loss 0.0003 | Win/lose count 17.0/1.0 (16.0)\n",
            "Epoch 137/150 | Loss 0.0108 | Win/lose count 17.5/6.0 (11.5)\n",
            "Epoch 138/150 | Loss 0.0016 | Win/lose count 15.0/3.0 (12.0)\n",
            "Epoch 139/150 | Loss 0.0020 | Win/lose count 17.5/3.0 (14.5)\n",
            "Epoch 140/150 | Loss 0.0009 | Win/lose count 17.0/4.0 (13.0)\n",
            "Epoch 141/150 | Loss 0.0005 | Win/lose count 14.0/2.0 (12.0)\n",
            "Epoch 142/150 | Loss 0.0032 | Win/lose count 20.0/2.0 (18.0)\n",
            "Epoch 143/150 | Loss 0.0009 | Win/lose count 14.0/1.0 (13.0)\n",
            "Epoch 144/150 | Loss 0.0008 | Win/lose count 17.5/3.0 (14.5)\n",
            "Epoch 145/150 | Loss 0.0014 | Win/lose count 22.5/4.0 (18.5)\n",
            "Epoch 146/150 | Loss 0.0012 | Win/lose count 21.0/3.0 (18.0)\n",
            "Epoch 147/150 | Loss 0.0015 | Win/lose count 23.5/6.0 (17.5)\n",
            "Epoch 148/150 | Loss 0.0016 | Win/lose count 22.5/4.0 (18.5)\n",
            "Epoch 149/150 | Loss 0.0007 | Win/lose count 16.5/1.0 (15.5)\n"
          ],
          "name": "stdout"
        }
      ]
    },
    {
      "cell_type": "markdown",
      "metadata": {
        "id": "I537ZILwuMxT",
        "colab_type": "text"
      },
      "source": [
        "***\n",
        "***\n",
        "__Question 9__ Test both algorithms and compare their performances. Which issue(s) do you observe? Observe also different behaviors by changing the temperature."
      ]
    },
    {
      "cell_type": "code",
      "metadata": {
        "id": "rWYsXz34uMxV",
        "colab_type": "code",
        "outputId": "563efb70-9d2a-4b86-8c0e-4f954b1210ac",
        "colab": {
          "base_uri": "https://localhost:8080/",
          "height": 1000
        }
      },
      "source": [
        "env = Environment(grid_size=size, max_time=T,temperature=0.3)\n",
        "agent_cnn = DQN_CNN(size, lr=.1, epsilon = 0.1, memory_size=2000, batch_size = 32)\n",
        "agent_cnn.load(name_weights='cnn_trainmodel.h5',name_model='cnn_trainmodel.json')\n",
        "\n",
        "agent_fc = DQN_FC(size, lr=.1, epsilon = 0.1, memory_size=2000, batch_size = 32)\n",
        "agent_cnn.load(name_weights='fc_trainmodel.h5',name_model='fc_trainmodel.json')\n",
        "print('Test of the CNN')\n",
        "test(agent_cnn,env,epochs_test,prefix='cnn_test')\n",
        "print('Test of the FC')\n",
        "test(agent_fc,env,epochs_test,prefix='fc_test')"
      ],
      "execution_count": 97,
      "outputs": [
        {
          "output_type": "stream",
          "text": [
            "Test of the CNN\n",
            "Win/lose count 19.00/0.00. Average score (19.00)\n",
            "Win/lose count 23.00/3.00. Average score (19.50)\n",
            "Win/lose count 15.50/3.00. Average score (17.17)\n",
            "Win/lose count 6.50/2.00. Average score (14.00)\n",
            "Win/lose count 10.50/2.00. Average score (12.90)\n",
            "Win/lose count 17.50/5.00. Average score (12.83)\n",
            "Win/lose count 14.00/3.00. Average score (12.57)\n",
            "Win/lose count 15.50/2.00. Average score (12.69)\n",
            "Win/lose count 14.50/3.00. Average score (12.56)\n",
            "Win/lose count 14.00/4.00. Average score (12.30)\n",
            "Win/lose count 12.50/1.00. Average score (12.23)\n",
            "Win/lose count 14.00/4.00. Average score (12.04)\n",
            "Win/lose count 16.00/3.00. Average score (12.12)\n",
            "Win/lose count 4.50/2.00. Average score (11.43)\n",
            "Win/lose count 11.50/2.00. Average score (11.30)\n",
            "Win/lose count 18.00/0.00. Average score (11.72)\n",
            "Win/lose count 11.00/4.00. Average score (11.44)\n",
            "Win/lose count 14.50/5.00. Average score (11.33)\n",
            "Win/lose count 17.00/2.00. Average score (11.53)\n",
            "Win/lose count 9.00/4.00. Average score (11.20)\n",
            "Win/lose count 13.50/3.00. Average score (11.17)\n",
            "Win/lose count 15.50/4.00. Average score (11.18)\n",
            "Win/lose count 13.50/0.00. Average score (11.28)\n",
            "Win/lose count 15.50/2.00. Average score (11.38)\n",
            "Win/lose count 17.00/2.00. Average score (11.52)\n",
            "Win/lose count 22.00/2.00. Average score (11.85)\n",
            "Win/lose count 9.50/2.00. Average score (11.69)\n",
            "Win/lose count 13.00/3.00. Average score (11.62)\n",
            "Win/lose count 13.50/3.00. Average score (11.59)\n",
            "Win/lose count 7.50/2.00. Average score (11.38)\n",
            "Final score: 11.383333333333333\n",
            "Test of the FC\n",
            "Win/lose count 2.50/5.00. Average score (-2.50)\n",
            "Win/lose count 5.00/3.00. Average score (-0.25)\n",
            "Win/lose count 2.00/2.00. Average score (-0.17)\n",
            "Win/lose count 4.50/2.00. Average score (0.50)\n",
            "Win/lose count 4.50/3.00. Average score (0.70)\n",
            "Win/lose count 4.50/3.00. Average score (0.83)\n",
            "Win/lose count 1.00/2.00. Average score (0.57)\n",
            "Win/lose count 1.00/4.00. Average score (0.12)\n",
            "Win/lose count 2.00/4.00. Average score (-0.11)\n",
            "Win/lose count 7.50/4.00. Average score (0.25)\n",
            "Win/lose count 1.00/7.00. Average score (-0.32)\n",
            "Win/lose count 5.50/1.00. Average score (0.08)\n",
            "Win/lose count 3.00/5.00. Average score (-0.08)\n",
            "Win/lose count 2.50/2.00. Average score (-0.04)\n",
            "Win/lose count 1.50/3.00. Average score (-0.13)\n",
            "Win/lose count 5.50/5.00. Average score (-0.09)\n",
            "Win/lose count 4.00/3.00. Average score (-0.03)\n",
            "Win/lose count 2.50/1.00. Average score (0.06)\n",
            "Win/lose count 4.50/2.00. Average score (0.18)\n",
            "Win/lose count 1.50/5.00. Average score (0.00)\n",
            "Win/lose count 2.00/4.00. Average score (-0.10)\n",
            "Win/lose count 1.00/6.00. Average score (-0.32)\n",
            "Win/lose count 3.50/5.00. Average score (-0.37)\n",
            "Win/lose count 1.00/2.00. Average score (-0.40)\n",
            "Win/lose count 4.00/8.00. Average score (-0.54)\n",
            "Win/lose count 2.50/1.00. Average score (-0.46)\n",
            "Win/lose count 4.00/4.00. Average score (-0.44)\n",
            "Win/lose count 4.00/6.00. Average score (-0.50)\n",
            "Win/lose count 4.00/6.00. Average score (-0.55)\n",
            "Win/lose count 2.50/2.00. Average score (-0.52)\n",
            "Final score: -0.5166666666666667\n"
          ],
          "name": "stdout"
        }
      ]
    },
    {
      "cell_type": "code",
      "metadata": {
        "id": "Qltf91MQuMxY",
        "colab_type": "code",
        "outputId": "5fc236a2-433c-435b-a60a-a2a3ec1dfce0",
        "colab": {
          "base_uri": "https://localhost:8080/",
          "height": 293
        }
      },
      "source": [
        "HTML(display_videos('cnn_test10.mp4'))"
      ],
      "execution_count": 98,
      "outputs": [
        {
          "output_type": "execute_result",
          "data": {
            "text/html": [
              "<video alt=\"test\" controls>\n",
              "                <source src=\"data:video/mp4;base64,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\" type=\"video/mp4\" />\n",
              "             </video>"
            ],
            "text/plain": [
              "<IPython.core.display.HTML object>"
            ]
          },
          "metadata": {
            "tags": []
          },
          "execution_count": 98
        }
      ]
    },
    {
      "cell_type": "code",
      "metadata": {
        "id": "UPR88_46uMxc",
        "colab_type": "code",
        "outputId": "ccdf21b8-ed01-4ca1-81c8-838ec2ab577e",
        "colab": {
          "base_uri": "https://localhost:8080/",
          "height": 293
        }
      },
      "source": [
        "HTML(display_videos('fc_test10.mp4'))"
      ],
      "execution_count": 99,
      "outputs": [
        {
          "output_type": "execute_result",
          "data": {
            "text/html": [
              "<video alt=\"test\" controls>\n",
              "                <source src=\"data:video/mp4;base64,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\" type=\"video/mp4\" />\n",
              "             </video>"
            ],
            "text/plain": [
              "<IPython.core.display.HTML object>"
            ]
          },
          "metadata": {
            "tags": []
          },
          "execution_count": 99
        }
      ]
    },
    {
      "cell_type": "markdown",
      "metadata": {
        "id": "lmweUfnAuMxf",
        "colab_type": "text"
      },
      "source": [
        "__Answer__: The test function evaluate our learned agents by using the greedy policy consisting on choosing the best actions according to the Q function at every steps. The behaviour that we typically encounter in this scenario is that the agent get stucks in loop when it is in a difficult state, for instance when there is no cheese in sight. This behaviour is even more present when we use a model of fully-connected layers.\n",
        "\n",
        "The temperature of the environment dictates the amount of cheese and poisonous cell (cheese overriding poisonous cell). When the temperature is low, bonus and malus are both scarce and the model has more difficulty to learn an appropriate behaviour. In this case, both during training and testing we end up with a more pronounced behaviour towards agents stuck in loops. According to our tests the cnn model seems to perform better but is also harder to train."
      ]
    },
    {
      "cell_type": "markdown",
      "metadata": {
        "id": "s-7gl-z7uMxj",
        "colab_type": "text"
      },
      "source": [
        "***\n",
        "\n",
        "The algorithm tends to not explore the map which can be an issue. We propose two ideas in order to encourage exploration:\n",
        "1. Incorporating a decreasing $\\epsilon$-greedy exploration. You can use the method ```set_epsilon```\n",
        "2. Append via the environment a new state that describes if a cell has been visited or not\n",
        "\n",
        "***\n",
        "__Question 10__ Design a new ```train_explore``` function and environment class ```EnvironmentExploring``` to tackle the issue of exploration.\n",
        "\n"
      ]
    },
    {
      "cell_type": "code",
      "metadata": {
        "id": "j3LZfoLduMxk",
        "colab_type": "code",
        "colab": {}
      },
      "source": [
        "def train_explore(agent, env, epoch, prefix=''):\n",
        "    # Number of won games\n",
        "    score = 0\n",
        "    loss = 0\n",
        "    ini_eps = agent.epsilon\n",
        "    \n",
        "    for e in range(epoch):\n",
        "        # At each epoch, we restart to a fresh game and get the initial state\n",
        "        state = env.reset()\n",
        "        # This assumes that the games will terminate\n",
        "        game_over = False\n",
        "        \n",
        "        win = 0\n",
        "        lose = 0\n",
        "        pos_reg = 0\n",
        "        \n",
        "        while not game_over:\n",
        "            # The agent performs an action\n",
        "            action = agent.act(state)\n",
        "            \n",
        "            prev_state = state\n",
        "            # Apply an action to the environment, get the next state, the reward\n",
        "            # and if the games end\n",
        "            state, reward, game_over = env.act(action)\n",
        "            \n",
        "            \n",
        "            # Apply the reinforcement strategy\n",
        "            loss = agent.reinforce(prev_state, state, action, reward, game_over)\n",
        "          \n",
        "            \n",
        "            pos_reg += env.last_pos_reg\n",
        "            reward_without_malus = reward + env.last_pos_reg\n",
        "\n",
        "            # Update the counter\n",
        "            if reward_without_malus > 0:\n",
        "                win = win + reward_without_malus\n",
        "            if reward_without_malus < 0:\n",
        "                lose = lose - reward_without_malus\n",
        "        \n",
        "        # Save as a mp4\n",
        "        if e % 10 == 0:\n",
        "            env.draw(prefix+str(e))\n",
        "\n",
        "        # Update stats\n",
        "        score += win-lose\n",
        "\n",
        "        print(\"Epoch {:03d}/{:03d} | Loss {:.4f} | Win/lose count {:.2f}/{:.2f} ({:.2f})\"\n",
        "              .format(e, epoch, loss, win, lose, win-lose))\n",
        "        agent.save(name_weights=prefix+'model.h5',name_model=prefix+'model.json')\n",
        "\n",
        "    \n",
        "class EnvironmentExploring(Environment):\n",
        "    def __init__(self, grid_size=10, max_time=500, temperature=0.1, reg_position = 0.1):\n",
        "        super(EnvironmentExploring, self).__init__(grid_size=grid_size, max_time=max_time, temperature=temperature)\n",
        "        self.reg_position = reg_position ## Parameter for the amount of malus we put on visited cells\n",
        "        self.pos_reg = np.zeros((self.grid_size, self.grid_size)) ## New feature consisting of the malus on visited cells\n",
        "        self.last_pos_reg = 0 ## Malus of the last visited cell\n",
        "\n",
        "    def reset(self):\n",
        "\n",
        "        s_ = super(EnvironmentExploring, self).reset()\n",
        "\n",
        "        # No cell has been visited yet\n",
        "        self.pos_reg[:] = 0.\n",
        "    \n",
        "        state = np.concatenate((self.pos_reg.reshape(self.grid_size, self.grid_size,1),\n",
        "                                self.board.reshape(self.grid_size, self.grid_size,1),\n",
        "                                self.position.reshape(self.grid_size, self.grid_size,1)),axis=2)\n",
        "        \n",
        "        state = state[self.x-2:self.x+3,self.y-2:self.y+3,:]\n",
        "        return state\n",
        "\n",
        "    def act(self,action):\n",
        "\n",
        "\n",
        "        state, reward, game_over = super(EnvironmentExploring, self).act(action)\n",
        "        if train:\n",
        "            ## While training, the visiting seen cells have a cost\n",
        "            reward = reward - self.pos_reg[self.x, self.y]\n",
        "        self.last_pos_malus = self.pos_reg[self.x, self.y]\n",
        "        self.pos_reg[self.x, self.y] = self.reg_position\n",
        "\n",
        "        # We add the feature of the visits on the state\n",
        "        state = np.concatenate((self.pos_reg.reshape(self.grid_size, self.grid_size,1),\n",
        "                                self.board.reshape(self.grid_size, self.grid_size,1),\n",
        "                                self.position.reshape(self.grid_size, self.grid_size,1)),axis=2)\n",
        "        \n",
        "        # Window arround the cell\n",
        "        state = state[self.x-2:self.x+3,self.y-2:self.y+3,:]\n",
        "        return state, reward, game_over\n",
        "\n",
        "    ##Put black cell for visited one.\n",
        "    def get_frame(self,t):\n",
        "        b = np.zeros((self.grid_size,self.grid_size,3))+128\n",
        "        b[self.board>0,0] = 256\n",
        "        b[self.board < 0, 2] = 256\n",
        "        b[self.pos_reg > 0, 0] = 0\n",
        "        b[self.pos_reg > 0, 1] = 0\n",
        "        b[self.pos_reg > 0, 2] = 0\n",
        "        b[self.x,self.y,:]=256\n",
        "        b[-2:,:,:]=0\n",
        "        b[:,-2:,:]=0\n",
        "        b[:2,:,:]=0\n",
        "        b[:,:2,:]=0\n",
        "        \n",
        "        b =  cv2.resize(b, None, fx=self.scale, fy=self.scale, interpolation=cv2.INTER_NEAREST)\n",
        "\n",
        "        self.to_draw[t,:,:,:]=b\n",
        "\n"
      ],
      "execution_count": 0,
      "outputs": []
    },
    {
      "cell_type": "code",
      "metadata": {
        "id": "2KPnBtRkuMxn",
        "colab_type": "code",
        "outputId": "4ef37ae8-7e04-4726-c812-aaa82e5aea27",
        "colab": {
          "base_uri": "https://localhost:8080/",
          "height": 1000
        }
      },
      "source": [
        "# Training\n",
        "env = EnvironmentExploring(grid_size=size, max_time=T, temperature=0.3)\n",
        "agent = DQN_CNN(size, lr=.1, epsilon = 0.2, memory_size=2000, batch_size = 32,n_state=3)\n",
        "train_explore(agent, env, 150, prefix='cnn_train_explore')\n",
        "HTML(display_videos('cnn_train_explore10.mp4'))"
      ],
      "execution_count": 101,
      "outputs": [
        {
          "output_type": "stream",
          "text": [
            "Epoch 000/150 | Loss 0.0118 | Win/lose count 9.50/22.80 (-13.30)\n",
            "Epoch 001/150 | Loss 0.0081 | Win/lose count 10.50/25.10 (-14.60)\n",
            "Epoch 002/150 | Loss 0.0044 | Win/lose count 16.50/18.50 (-2.00)\n",
            "Epoch 003/150 | Loss 0.0026 | Win/lose count 13.00/22.00 (-9.00)\n",
            "Epoch 004/150 | Loss 0.0068 | Win/lose count 12.00/22.80 (-10.80)\n",
            "Epoch 005/150 | Loss 0.0091 | Win/lose count 11.00/15.30 (-4.30)\n",
            "Epoch 006/150 | Loss 0.0066 | Win/lose count 11.00/19.80 (-8.80)\n",
            "Epoch 007/150 | Loss 0.0061 | Win/lose count 8.00/21.50 (-13.50)\n",
            "Epoch 008/150 | Loss 0.0184 | Win/lose count 17.00/20.60 (-3.60)\n",
            "Epoch 009/150 | Loss 0.0024 | Win/lose count 17.00/17.70 (-0.70)\n",
            "Epoch 010/150 | Loss 0.0046 | Win/lose count 17.50/15.60 (1.90)\n",
            "Epoch 011/150 | Loss 0.0132 | Win/lose count 14.50/20.40 (-5.90)\n",
            "Epoch 012/150 | Loss 0.0067 | Win/lose count 18.00/15.60 (2.40)\n",
            "Epoch 013/150 | Loss 0.0038 | Win/lose count 22.00/16.40 (5.60)\n",
            "Epoch 014/150 | Loss 0.0044 | Win/lose count 15.00/19.00 (-4.00)\n",
            "Epoch 015/150 | Loss 0.0119 | Win/lose count 19.50/19.00 (0.50)\n",
            "Epoch 016/150 | Loss 0.0068 | Win/lose count 13.50/17.00 (-3.50)\n",
            "Epoch 017/150 | Loss 0.0026 | Win/lose count 18.50/20.90 (-2.40)\n",
            "Epoch 018/150 | Loss 0.0052 | Win/lose count 22.50/17.00 (5.50)\n",
            "Epoch 019/150 | Loss 0.0039 | Win/lose count 19.00/21.00 (-2.00)\n",
            "Epoch 020/150 | Loss 0.0032 | Win/lose count 25.50/17.20 (8.30)\n",
            "Epoch 021/150 | Loss 0.0075 | Win/lose count 23.00/17.30 (5.70)\n",
            "Epoch 022/150 | Loss 0.0056 | Win/lose count 21.50/18.80 (2.70)\n",
            "Epoch 023/150 | Loss 0.0030 | Win/lose count 17.00/16.20 (0.80)\n",
            "Epoch 024/150 | Loss 0.0035 | Win/lose count 18.00/17.30 (0.70)\n",
            "Epoch 025/150 | Loss 0.0040 | Win/lose count 20.50/19.20 (1.30)\n",
            "Epoch 026/150 | Loss 0.0042 | Win/lose count 22.50/11.70 (10.80)\n",
            "Epoch 027/150 | Loss 0.0063 | Win/lose count 26.00/16.30 (9.70)\n",
            "Epoch 028/150 | Loss 0.0033 | Win/lose count 21.50/17.10 (4.40)\n",
            "Epoch 029/150 | Loss 0.0024 | Win/lose count 26.00/15.60 (10.40)\n",
            "Epoch 030/150 | Loss 0.0096 | Win/lose count 18.50/16.00 (2.50)\n",
            "Epoch 031/150 | Loss 0.0057 | Win/lose count 22.00/20.80 (1.20)\n",
            "Epoch 032/150 | Loss 0.0061 | Win/lose count 22.50/18.70 (3.80)\n",
            "Epoch 033/150 | Loss 0.0032 | Win/lose count 11.00/18.90 (-7.90)\n",
            "Epoch 034/150 | Loss 0.0076 | Win/lose count 20.00/18.40 (1.60)\n",
            "Epoch 035/150 | Loss 0.0036 | Win/lose count 21.50/19.60 (1.90)\n",
            "Epoch 036/150 | Loss 0.0049 | Win/lose count 17.00/15.60 (1.40)\n",
            "Epoch 037/150 | Loss 0.0040 | Win/lose count 28.50/13.30 (15.20)\n",
            "Epoch 038/150 | Loss 0.0089 | Win/lose count 23.00/14.20 (8.80)\n",
            "Epoch 039/150 | Loss 0.0046 | Win/lose count 22.00/17.40 (4.60)\n",
            "Epoch 040/150 | Loss 0.0088 | Win/lose count 17.50/16.10 (1.40)\n",
            "Epoch 041/150 | Loss 0.0064 | Win/lose count 24.00/17.70 (6.30)\n",
            "Epoch 042/150 | Loss 0.0055 | Win/lose count 21.00/14.00 (7.00)\n",
            "Epoch 043/150 | Loss 0.0034 | Win/lose count 28.00/18.20 (9.80)\n",
            "Epoch 044/150 | Loss 0.0036 | Win/lose count 19.50/15.00 (4.50)\n",
            "Epoch 045/150 | Loss 0.0054 | Win/lose count 18.00/17.30 (0.70)\n",
            "Epoch 046/150 | Loss 0.0052 | Win/lose count 23.50/15.10 (8.40)\n",
            "Epoch 047/150 | Loss 0.0077 | Win/lose count 13.50/15.80 (-2.30)\n",
            "Epoch 048/150 | Loss 0.0033 | Win/lose count 22.50/13.20 (9.30)\n",
            "Epoch 049/150 | Loss 0.0073 | Win/lose count 19.00/16.10 (2.90)\n",
            "Epoch 050/150 | Loss 0.0027 | Win/lose count 23.00/14.50 (8.50)\n",
            "Epoch 051/150 | Loss 0.0060 | Win/lose count 19.00/18.60 (0.40)\n",
            "Epoch 052/150 | Loss 0.0107 | Win/lose count 21.50/16.00 (5.50)\n",
            "Epoch 053/150 | Loss 0.0094 | Win/lose count 26.00/18.50 (7.50)\n",
            "Epoch 054/150 | Loss 0.0037 | Win/lose count 18.50/12.60 (5.90)\n",
            "Epoch 055/150 | Loss 0.0030 | Win/lose count 26.50/15.20 (11.30)\n",
            "Epoch 056/150 | Loss 0.0018 | Win/lose count 26.50/10.20 (16.30)\n",
            "Epoch 057/150 | Loss 0.0073 | Win/lose count 15.00/18.70 (-3.70)\n",
            "Epoch 058/150 | Loss 0.0062 | Win/lose count 18.50/15.00 (3.50)\n",
            "Epoch 059/150 | Loss 0.0035 | Win/lose count 11.00/20.10 (-9.10)\n",
            "Epoch 060/150 | Loss 0.0093 | Win/lose count 25.50/18.80 (6.70)\n",
            "Epoch 061/150 | Loss 0.0124 | Win/lose count 22.50/17.60 (4.90)\n",
            "Epoch 062/150 | Loss 0.0035 | Win/lose count 17.50/13.50 (4.00)\n",
            "Epoch 063/150 | Loss 0.0083 | Win/lose count 20.00/15.50 (4.50)\n",
            "Epoch 064/150 | Loss 0.0070 | Win/lose count 22.00/17.00 (5.00)\n",
            "Epoch 065/150 | Loss 0.0145 | Win/lose count 11.50/15.90 (-4.40)\n",
            "Epoch 066/150 | Loss 0.0043 | Win/lose count 17.50/17.20 (0.30)\n",
            "Epoch 067/150 | Loss 0.0045 | Win/lose count 21.50/17.40 (4.10)\n",
            "Epoch 068/150 | Loss 0.0066 | Win/lose count 15.50/18.10 (-2.60)\n",
            "Epoch 069/150 | Loss 0.0044 | Win/lose count 22.50/14.30 (8.20)\n",
            "Epoch 070/150 | Loss 0.0029 | Win/lose count 22.00/16.10 (5.90)\n",
            "Epoch 071/150 | Loss 0.0094 | Win/lose count 10.50/19.90 (-9.40)\n",
            "Epoch 072/150 | Loss 0.0058 | Win/lose count 20.00/14.90 (5.10)\n",
            "Epoch 073/150 | Loss 0.0039 | Win/lose count 20.50/15.00 (5.50)\n",
            "Epoch 074/150 | Loss 0.0035 | Win/lose count 15.50/16.50 (-1.00)\n",
            "Epoch 075/150 | Loss 0.0147 | Win/lose count 26.00/14.80 (11.20)\n",
            "Epoch 076/150 | Loss 0.0061 | Win/lose count 21.50/17.40 (4.10)\n",
            "Epoch 077/150 | Loss 0.0060 | Win/lose count 22.00/14.00 (8.00)\n",
            "Epoch 078/150 | Loss 0.0150 | Win/lose count 21.50/20.50 (1.00)\n",
            "Epoch 079/150 | Loss 0.0037 | Win/lose count 19.00/15.70 (3.30)\n",
            "Epoch 080/150 | Loss 0.0058 | Win/lose count 19.00/14.80 (4.20)\n",
            "Epoch 081/150 | Loss 0.0138 | Win/lose count 20.50/16.50 (4.00)\n",
            "Epoch 082/150 | Loss 0.0039 | Win/lose count 24.50/15.10 (9.40)\n",
            "Epoch 083/150 | Loss 0.0037 | Win/lose count 12.50/14.20 (-1.70)\n",
            "Epoch 084/150 | Loss 0.0050 | Win/lose count 22.50/17.00 (5.50)\n",
            "Epoch 085/150 | Loss 0.0044 | Win/lose count 19.00/21.20 (-2.20)\n",
            "Epoch 086/150 | Loss 0.0070 | Win/lose count 20.50/20.20 (0.30)\n",
            "Epoch 087/150 | Loss 0.0136 | Win/lose count 21.50/15.60 (5.90)\n",
            "Epoch 088/150 | Loss 0.0141 | Win/lose count 18.00/20.30 (-2.30)\n",
            "Epoch 089/150 | Loss 0.0046 | Win/lose count 16.50/13.40 (3.10)\n",
            "Epoch 090/150 | Loss 0.0023 | Win/lose count 15.50/23.00 (-7.50)\n",
            "Epoch 091/150 | Loss 0.0099 | Win/lose count 25.50/19.00 (6.50)\n",
            "Epoch 092/150 | Loss 0.0023 | Win/lose count 19.50/18.30 (1.20)\n",
            "Epoch 093/150 | Loss 0.0040 | Win/lose count 23.00/13.20 (9.80)\n",
            "Epoch 094/150 | Loss 0.0050 | Win/lose count 20.00/16.60 (3.40)\n",
            "Epoch 095/150 | Loss 0.0033 | Win/lose count 15.50/15.30 (0.20)\n",
            "Epoch 096/150 | Loss 0.0066 | Win/lose count 22.50/16.50 (6.00)\n",
            "Epoch 097/150 | Loss 0.0059 | Win/lose count 15.50/17.90 (-2.40)\n",
            "Epoch 098/150 | Loss 0.0061 | Win/lose count 26.00/18.20 (7.80)\n",
            "Epoch 099/150 | Loss 0.0050 | Win/lose count 28.00/20.40 (7.60)\n",
            "Epoch 100/150 | Loss 0.0019 | Win/lose count 4.50/23.00 (-18.50)\n",
            "Epoch 101/150 | Loss 0.0054 | Win/lose count 25.50/11.90 (13.60)\n",
            "Epoch 102/150 | Loss 0.0058 | Win/lose count 24.50/12.70 (11.80)\n",
            "Epoch 103/150 | Loss 0.0065 | Win/lose count 23.00/14.20 (8.80)\n",
            "Epoch 104/150 | Loss 0.0043 | Win/lose count 24.50/14.90 (9.60)\n",
            "Epoch 106/150 | Loss 0.0059 | Win/lose count 24.00/11.30 (12.70)\n",
            "Epoch 107/150 | Loss 0.0059 | Win/lose count 25.50/18.20 (7.30)\n",
            "Epoch 108/150 | Loss 0.0039 | Win/lose count 21.50/15.70 (5.80)\n",
            "Epoch 109/150 | Loss 0.0028 | Win/lose count 22.50/19.80 (2.70)\n",
            "Epoch 110/150 | Loss 0.0031 | Win/lose count 17.00/19.10 (-2.10)\n",
            "Epoch 111/150 | Loss 0.0087 | Win/lose count 27.00/11.70 (15.30)\n",
            "Epoch 112/150 | Loss 0.0030 | Win/lose count 26.50/13.30 (13.20)\n",
            "Epoch 113/150 | Loss 0.0204 | Win/lose count 25.50/14.30 (11.20)\n",
            "Epoch 114/150 | Loss 0.0139 | Win/lose count 23.00/15.10 (7.90)\n",
            "Epoch 115/150 | Loss 0.0047 | Win/lose count 13.50/20.20 (-6.70)\n",
            "Epoch 116/150 | Loss 0.0044 | Win/lose count 25.00/14.70 (10.30)\n",
            "Epoch 117/150 | Loss 0.0059 | Win/lose count 24.00/15.70 (8.30)\n",
            "Epoch 118/150 | Loss 0.0058 | Win/lose count 19.50/16.00 (3.50)\n",
            "Epoch 119/150 | Loss 0.0148 | Win/lose count 23.00/20.50 (2.50)\n",
            "Epoch 120/150 | Loss 0.0050 | Win/lose count 13.50/19.50 (-6.00)\n",
            "Epoch 121/150 | Loss 0.0105 | Win/lose count 21.50/14.50 (7.00)\n",
            "Epoch 122/150 | Loss 0.0253 | Win/lose count 22.50/17.20 (5.30)\n",
            "Epoch 123/150 | Loss 0.0089 | Win/lose count 22.50/16.70 (5.80)\n",
            "Epoch 124/150 | Loss 0.0042 | Win/lose count 24.50/17.50 (7.00)\n",
            "Epoch 125/150 | Loss 0.0094 | Win/lose count 22.00/13.10 (8.90)\n",
            "Epoch 126/150 | Loss 0.0105 | Win/lose count 20.50/18.70 (1.80)\n",
            "Epoch 127/150 | Loss 0.0349 | Win/lose count 17.50/15.70 (1.80)\n",
            "Epoch 128/150 | Loss 0.0083 | Win/lose count 15.00/21.40 (-6.40)\n",
            "Epoch 129/150 | Loss 0.0075 | Win/lose count 24.00/16.00 (8.00)\n",
            "Epoch 130/150 | Loss 0.0063 | Win/lose count 14.00/14.80 (-0.80)\n",
            "Epoch 131/150 | Loss 0.0101 | Win/lose count 23.00/15.40 (7.60)\n",
            "Epoch 132/150 | Loss 0.0108 | Win/lose count 20.50/16.50 (4.00)\n",
            "Epoch 133/150 | Loss 0.0043 | Win/lose count 23.00/12.60 (10.40)\n",
            "Epoch 134/150 | Loss 0.0065 | Win/lose count 18.50/20.70 (-2.20)\n",
            "Epoch 135/150 | Loss 0.0084 | Win/lose count 16.00/17.40 (-1.40)\n",
            "Epoch 136/150 | Loss 0.0051 | Win/lose count 27.50/14.90 (12.60)\n",
            "Epoch 137/150 | Loss 0.0028 | Win/lose count 24.50/16.80 (7.70)\n",
            "Epoch 138/150 | Loss 0.0026 | Win/lose count 27.00/16.00 (11.00)\n",
            "Epoch 139/150 | Loss 0.0047 | Win/lose count 24.00/14.50 (9.50)\n",
            "Epoch 140/150 | Loss 0.0041 | Win/lose count 8.00/18.00 (-10.00)\n",
            "Epoch 141/150 | Loss 0.0128 | Win/lose count 25.50/16.20 (9.30)\n",
            "Epoch 142/150 | Loss 0.0117 | Win/lose count 16.00/13.20 (2.80)\n",
            "Epoch 143/150 | Loss 0.0030 | Win/lose count 8.50/18.90 (-10.40)\n",
            "Epoch 144/150 | Loss 0.0077 | Win/lose count 19.50/18.10 (1.40)\n",
            "Epoch 145/150 | Loss 0.0025 | Win/lose count 25.00/13.80 (11.20)\n",
            "Epoch 146/150 | Loss 0.0138 | Win/lose count 19.00/18.50 (0.50)\n",
            "Epoch 147/150 | Loss 0.0068 | Win/lose count 20.50/14.90 (5.60)\n",
            "Epoch 148/150 | Loss 0.0029 | Win/lose count 17.00/16.70 (0.30)\n",
            "Epoch 149/150 | Loss 0.0027 | Win/lose count 23.00/16.00 (7.00)\n"
          ],
          "name": "stdout"
        },
        {
          "output_type": "execute_result",
          "data": {
            "text/html": [
              "<video alt=\"test\" controls>\n",
              "                <source src=\"data:video/mp4;base64,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\" type=\"video/mp4\" />\n",
              "             </video>"
            ],
            "text/plain": [
              "<IPython.core.display.HTML object>"
            ]
          },
          "metadata": {
            "tags": []
          },
          "execution_count": 101
        }
      ]
    },
    {
      "cell_type": "code",
      "metadata": {
        "id": "cV8_D6qexazY",
        "colab_type": "code",
        "outputId": "77a000ab-25ba-46d2-d708-fdeb41274c5e",
        "colab": {
          "base_uri": "https://localhost:8080/",
          "height": 293
        }
      },
      "source": [
        "HTML(display_videos('cnn_train_explore10.mp4'))"
      ],
      "execution_count": 102,
      "outputs": [
        {
          "output_type": "execute_result",
          "data": {
            "text/html": [
              "<video alt=\"test\" controls>\n",
              "                <source src=\"data:video/mp4;base64,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\" type=\"video/mp4\" />\n",
              "             </video>"
            ],
            "text/plain": [
              "<IPython.core.display.HTML object>"
            ]
          },
          "metadata": {
            "tags": []
          },
          "execution_count": 102
        }
      ]
    },
    {
      "cell_type": "code",
      "metadata": {
        "id": "bjO0tRWtuMxr",
        "colab_type": "code",
        "outputId": "8564045e-8968-46c2-e07c-4c6ea4b20c79",
        "colab": {
          "base_uri": "https://localhost:8080/",
          "height": 538
        }
      },
      "source": [
        "# Evaluation\n",
        "test(agent,env,epochs_test,prefix='cnn_test_explore')"
      ],
      "execution_count": 103,
      "outputs": [
        {
          "output_type": "stream",
          "text": [
            "Win/lose count 20.00/16.20. Average score (3.80)\n",
            "Win/lose count 17.00/17.60. Average score (1.60)\n",
            "Win/lose count 16.00/18.50. Average score (0.23)\n",
            "Win/lose count 13.00/20.30. Average score (-1.65)\n",
            "Win/lose count 21.00/15.10. Average score (-0.14)\n",
            "Win/lose count 8.00/18.00. Average score (-1.78)\n",
            "Win/lose count 23.50/20.90. Average score (-1.16)\n",
            "Win/lose count 23.00/17.80. Average score (-0.36)\n",
            "Win/lose count 21.00/15.50. Average score (0.29)\n",
            "Win/lose count 15.50/16.10. Average score (0.20)\n",
            "Win/lose count 10.00/18.50. Average score (-0.59)\n",
            "Win/lose count 18.50/17.80. Average score (-0.48)\n",
            "Win/lose count 12.00/24.10. Average score (-1.38)\n",
            "Win/lose count 16.00/21.20. Average score (-1.65)\n",
            "Win/lose count 22.00/19.60. Average score (-1.38)\n",
            "Win/lose count 21.00/18.30. Average score (-1.13)\n",
            "Win/lose count 18.00/18.10. Average score (-1.06)\n",
            "Win/lose count 20.50/17.80. Average score (-0.86)\n",
            "Win/lose count 30.00/12.10. Average score (0.13)\n",
            "Win/lose count 24.00/15.00. Average score (0.57)\n",
            "Win/lose count 22.00/18.00. Average score (0.74)\n",
            "Win/lose count 9.00/16.60. Average score (0.36)\n",
            "Win/lose count 16.00/18.00. Average score (0.26)\n",
            "Win/lose count 19.50/20.40. Average score (0.21)\n",
            "Win/lose count 28.00/16.60. Average score (0.66)\n",
            "Win/lose count 11.50/24.10. Average score (0.15)\n",
            "Win/lose count 12.00/17.50. Average score (-0.06)\n",
            "Win/lose count 15.50/17.70. Average score (-0.14)\n",
            "Win/lose count 16.00/17.50. Average score (-0.19)\n",
            "Win/lose count 14.00/16.00. Average score (-0.25)\n",
            "Final score: -0.24666666666666406\n"
          ],
          "name": "stdout"
        }
      ]
    },
    {
      "cell_type": "code",
      "metadata": {
        "id": "5d50zHag2-rC",
        "colab_type": "code",
        "outputId": "8761a2af-c10e-40e6-e572-5a45cdaa8333",
        "colab": {
          "base_uri": "https://localhost:8080/",
          "height": 293
        }
      },
      "source": [
        "HTML(display_videos('cnn_test_explore10.mp4'))"
      ],
      "execution_count": 104,
      "outputs": [
        {
          "output_type": "execute_result",
          "data": {
            "text/html": [
              "<video alt=\"test\" controls>\n",
              "                <source src=\"data:video/mp4;base64,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\" type=\"video/mp4\" />\n",
              "             </video>"
            ],
            "text/plain": [
              "<IPython.core.display.HTML object>"
            ]
          },
          "metadata": {
            "tags": []
          },
          "execution_count": 104
        }
      ]
    },
    {
      "cell_type": "markdown",
      "metadata": {
        "id": "rHkQg63D2eLF",
        "colab_type": "text"
      },
      "source": [
        "Thanks to these modifications, we obtain better performances. The agent effectively avoid getting back to previous states and there is almost no loops, hence resulting in a better exploration."
      ]
    },
    {
      "cell_type": "markdown",
      "metadata": {
        "id": "l2Q3HpwluMxu",
        "colab_type": "text"
      },
      "source": [
        "***\n",
        "***\n",
        "__BONUS question__ Use the expert DQN from the previous question to generate some winning games. Train a model that mimicks its behavior. Compare the performances."
      ]
    },
    {
      "cell_type": "code",
      "metadata": {
        "id": "SUtNp6dM30Rh",
        "colab_type": "code",
        "colab": {}
      },
      "source": [
        "def generate_games(agent, env, nTrain):\n",
        "    ## The aim of the function is to generate samples of behaviour that produces rewards\n",
        "\n",
        "    #Array of the states chosen\n",
        "    st = np.zeros((nTrain,5,5,3))\n",
        "    countStates = 0\n",
        "    # Corresponding actions\n",
        "    ac = np.zeros((nTrain, 4))\n",
        "    counter_attempts = 0\n",
        "    num_samples = 0\n",
        "\n",
        "    while countStates < nTrain:\n",
        "        # initialize the game\n",
        "        s_ = env.reset()\n",
        "        game_over = False\n",
        "        \n",
        "        while not game_over:\n",
        "            a_ = agent.act(s_, False)\n",
        "            n_s_, r_, game_over = env.act(a_)\n",
        "            s_ = n_s_\n",
        "            if countStates < nTrain and r_ > 0:\n",
        "                \n",
        "                st[countStates] = s_\n",
        "                ac[countStates, a_] = 1\n",
        "                countStates += 1\n",
        "    return st, ac"
      ],
      "execution_count": 0,
      "outputs": []
    },
    {
      "cell_type": "code",
      "metadata": {
        "id": "Ej9LH8Z3I5LI",
        "colab_type": "code",
        "colab": {}
      },
      "source": [
        "train_size = 1000\n",
        "data_train = generate_games(agent, env, train_size)\n",
        "val_size = 100\n",
        "data_val = generate_games(agent, env, val_size)\n",
        "test_size = 100\n",
        "data_test = generate_games(agent, env, test_size)"
      ],
      "execution_count": 0,
      "outputs": []
    },
    {
      "cell_type": "code",
      "metadata": {
        "id": "az3pfZfrJ7Vp",
        "colab_type": "code",
        "colab": {}
      },
      "source": [
        "inp_shape = (5, 5, 3)\n",
        "#We take the same model as before\n",
        "model = Sequential([\n",
        "            Conv2D(32, 3, input_shape=inp_shape, activation='relu', padding=\"same\"),\n",
        "            Conv2D(64, 3, activation='relu', padding=\"same\"),\n",
        "            Conv2D(32, 3, activation='relu', padding=\"same\"),\n",
        "            keras.layers.Flatten(),\n",
        "            Dense(4, activation=\"softmax\")  # output\n",
        "        ])\n",
        "model.compile(loss=keras.losses.categorical_crossentropy,\n",
        "              optimizer=sgd(lr=.1, decay=1e-4, momentum=0.0),\n",
        "              metrics=['accuracy'])"
      ],
      "execution_count": 0,
      "outputs": []
    },
    {
      "cell_type": "code",
      "metadata": {
        "id": "u9aZOTFhJsvA",
        "colab_type": "code",
        "colab": {
          "base_uri": "https://localhost:8080/",
          "height": 1000
        },
        "outputId": "b17f04b7-6ca1-40c6-e897-da863a38932c"
      },
      "source": [
        "model.fit(\n",
        "    data_train[0], data_train[1],\n",
        "    batch_size=32,\n",
        "    validation_data=data_val,\n",
        "    epochs=50\n",
        ")"
      ],
      "execution_count": 108,
      "outputs": [
        {
          "output_type": "stream",
          "text": [
            "Train on 1000 samples, validate on 100 samples\n",
            "Epoch 1/50\n",
            "1000/1000 [==============================] - 1s 978us/step - loss: 1.1611 - acc: 0.5460 - val_loss: 0.5510 - val_acc: 0.9100\n",
            "Epoch 2/50\n",
            "1000/1000 [==============================] - 0s 153us/step - loss: 0.1332 - acc: 0.9940 - val_loss: 0.0173 - val_acc: 1.0000\n",
            "Epoch 3/50\n",
            "1000/1000 [==============================] - 0s 160us/step - loss: 0.0156 - acc: 0.9990 - val_loss: 0.0068 - val_acc: 1.0000\n",
            "Epoch 4/50\n",
            "1000/1000 [==============================] - 0s 159us/step - loss: 0.0099 - acc: 0.9990 - val_loss: 0.0050 - val_acc: 1.0000\n",
            "Epoch 5/50\n",
            "1000/1000 [==============================] - 0s 142us/step - loss: 0.0078 - acc: 0.9990 - val_loss: 0.0025 - val_acc: 1.0000\n",
            "Epoch 6/50\n",
            "1000/1000 [==============================] - 0s 154us/step - loss: 0.0069 - acc: 0.9990 - val_loss: 0.0024 - val_acc: 1.0000\n",
            "Epoch 7/50\n",
            "1000/1000 [==============================] - 0s 158us/step - loss: 0.0053 - acc: 0.9990 - val_loss: 0.0015 - val_acc: 1.0000\n",
            "Epoch 8/50\n",
            "1000/1000 [==============================] - 0s 155us/step - loss: 0.0057 - acc: 0.9980 - val_loss: 0.0013 - val_acc: 1.0000\n",
            "Epoch 9/50\n",
            "1000/1000 [==============================] - 0s 147us/step - loss: 0.0050 - acc: 0.9990 - val_loss: 0.0018 - val_acc: 1.0000\n",
            "Epoch 10/50\n",
            "1000/1000 [==============================] - 0s 148us/step - loss: 0.0040 - acc: 0.9990 - val_loss: 0.0031 - val_acc: 1.0000\n",
            "Epoch 11/50\n",
            "1000/1000 [==============================] - 0s 152us/step - loss: 0.0026 - acc: 0.9990 - val_loss: 8.1757e-04 - val_acc: 1.0000\n",
            "Epoch 12/50\n",
            "1000/1000 [==============================] - 0s 121us/step - loss: 0.0035 - acc: 0.9990 - val_loss: 0.0028 - val_acc: 1.0000\n",
            "Epoch 13/50\n",
            "1000/1000 [==============================] - 0s 126us/step - loss: 0.0035 - acc: 0.9990 - val_loss: 7.4191e-04 - val_acc: 1.0000\n",
            "Epoch 14/50\n",
            "1000/1000 [==============================] - 0s 120us/step - loss: 0.0030 - acc: 0.9990 - val_loss: 7.6373e-04 - val_acc: 1.0000\n",
            "Epoch 15/50\n",
            "1000/1000 [==============================] - 0s 145us/step - loss: 0.0024 - acc: 0.9990 - val_loss: 5.9121e-04 - val_acc: 1.0000\n",
            "Epoch 16/50\n",
            "1000/1000 [==============================] - 0s 147us/step - loss: 0.0024 - acc: 0.9990 - val_loss: 5.4353e-04 - val_acc: 1.0000\n",
            "Epoch 17/50\n",
            "1000/1000 [==============================] - 0s 148us/step - loss: 0.0021 - acc: 0.9990 - val_loss: 8.5245e-04 - val_acc: 1.0000\n",
            "Epoch 18/50\n",
            "1000/1000 [==============================] - 0s 159us/step - loss: 0.0018 - acc: 0.9990 - val_loss: 0.0011 - val_acc: 1.0000\n",
            "Epoch 19/50\n",
            "1000/1000 [==============================] - 0s 145us/step - loss: 0.0015 - acc: 1.0000 - val_loss: 4.4248e-04 - val_acc: 1.0000\n",
            "Epoch 20/50\n",
            "1000/1000 [==============================] - 0s 152us/step - loss: 0.0015 - acc: 0.9990 - val_loss: 5.1783e-04 - val_acc: 1.0000\n",
            "Epoch 21/50\n",
            "1000/1000 [==============================] - 0s 156us/step - loss: 0.0010 - acc: 1.0000 - val_loss: 3.8006e-04 - val_acc: 1.0000\n",
            "Epoch 22/50\n",
            "1000/1000 [==============================] - 0s 141us/step - loss: 0.0013 - acc: 0.9990 - val_loss: 5.0797e-04 - val_acc: 1.0000\n",
            "Epoch 23/50\n",
            "1000/1000 [==============================] - 0s 126us/step - loss: 8.8689e-04 - acc: 1.0000 - val_loss: 3.3541e-04 - val_acc: 1.0000\n",
            "Epoch 24/50\n",
            "1000/1000 [==============================] - 0s 124us/step - loss: 0.0011 - acc: 1.0000 - val_loss: 3.1814e-04 - val_acc: 1.0000\n",
            "Epoch 25/50\n",
            "1000/1000 [==============================] - 0s 148us/step - loss: 0.0010 - acc: 1.0000 - val_loss: 3.0612e-04 - val_acc: 1.0000\n",
            "Epoch 26/50\n",
            "1000/1000 [==============================] - 0s 140us/step - loss: 8.6802e-04 - acc: 1.0000 - val_loss: 2.8707e-04 - val_acc: 1.0000\n",
            "Epoch 27/50\n",
            "1000/1000 [==============================] - 0s 152us/step - loss: 8.8597e-04 - acc: 1.0000 - val_loss: 3.0189e-04 - val_acc: 1.0000\n",
            "Epoch 28/50\n",
            "1000/1000 [==============================] - 0s 144us/step - loss: 7.8409e-04 - acc: 1.0000 - val_loss: 3.2922e-04 - val_acc: 1.0000\n",
            "Epoch 29/50\n",
            "1000/1000 [==============================] - 0s 142us/step - loss: 6.3017e-04 - acc: 1.0000 - val_loss: 2.4521e-04 - val_acc: 1.0000\n",
            "Epoch 30/50\n",
            "1000/1000 [==============================] - 0s 147us/step - loss: 7.5230e-04 - acc: 1.0000 - val_loss: 2.6678e-04 - val_acc: 1.0000\n",
            "Epoch 31/50\n",
            "1000/1000 [==============================] - 0s 140us/step - loss: 6.5888e-04 - acc: 1.0000 - val_loss: 2.6752e-04 - val_acc: 1.0000\n",
            "Epoch 32/50\n",
            "1000/1000 [==============================] - 0s 143us/step - loss: 5.4406e-04 - acc: 1.0000 - val_loss: 2.1755e-04 - val_acc: 1.0000\n",
            "Epoch 33/50\n",
            "1000/1000 [==============================] - 0s 123us/step - loss: 6.2463e-04 - acc: 1.0000 - val_loss: 2.1328e-04 - val_acc: 1.0000\n",
            "Epoch 34/50\n",
            "1000/1000 [==============================] - 0s 127us/step - loss: 5.7123e-04 - acc: 1.0000 - val_loss: 2.2598e-04 - val_acc: 1.0000\n",
            "Epoch 35/50\n",
            "1000/1000 [==============================] - 0s 121us/step - loss: 5.4257e-04 - acc: 1.0000 - val_loss: 2.1487e-04 - val_acc: 1.0000\n",
            "Epoch 36/50\n",
            "1000/1000 [==============================] - 0s 121us/step - loss: 4.5803e-04 - acc: 1.0000 - val_loss: 1.8653e-04 - val_acc: 1.0000\n",
            "Epoch 37/50\n",
            "1000/1000 [==============================] - 0s 130us/step - loss: 5.0349e-04 - acc: 1.0000 - val_loss: 1.9176e-04 - val_acc: 1.0000\n",
            "Epoch 38/50\n",
            "1000/1000 [==============================] - 0s 143us/step - loss: 4.6517e-04 - acc: 1.0000 - val_loss: 1.7580e-04 - val_acc: 1.0000\n",
            "Epoch 39/50\n",
            "1000/1000 [==============================] - 0s 124us/step - loss: 4.5650e-04 - acc: 1.0000 - val_loss: 1.8207e-04 - val_acc: 1.0000\n",
            "Epoch 40/50\n",
            "1000/1000 [==============================] - 0s 156us/step - loss: 4.1657e-04 - acc: 1.0000 - val_loss: 1.6442e-04 - val_acc: 1.0000\n",
            "Epoch 41/50\n",
            "1000/1000 [==============================] - 0s 142us/step - loss: 4.2033e-04 - acc: 1.0000 - val_loss: 1.6987e-04 - val_acc: 1.0000\n",
            "Epoch 42/50\n",
            "1000/1000 [==============================] - 0s 115us/step - loss: 3.9311e-04 - acc: 1.0000 - val_loss: 1.5581e-04 - val_acc: 1.0000\n",
            "Epoch 43/50\n",
            "1000/1000 [==============================] - 0s 114us/step - loss: 3.7755e-04 - acc: 1.0000 - val_loss: 1.4784e-04 - val_acc: 1.0000\n",
            "Epoch 44/50\n",
            "1000/1000 [==============================] - 0s 123us/step - loss: 3.8505e-04 - acc: 1.0000 - val_loss: 1.4791e-04 - val_acc: 1.0000\n",
            "Epoch 45/50\n",
            "1000/1000 [==============================] - 0s 136us/step - loss: 3.4730e-04 - acc: 1.0000 - val_loss: 1.3944e-04 - val_acc: 1.0000\n",
            "Epoch 46/50\n",
            "1000/1000 [==============================] - 0s 142us/step - loss: 3.5173e-04 - acc: 1.0000 - val_loss: 1.3527e-04 - val_acc: 1.0000\n",
            "Epoch 47/50\n",
            "1000/1000 [==============================] - 0s 138us/step - loss: 3.2454e-04 - acc: 1.0000 - val_loss: 1.3367e-04 - val_acc: 1.0000\n",
            "Epoch 48/50\n",
            "1000/1000 [==============================] - 0s 150us/step - loss: 3.3337e-04 - acc: 1.0000 - val_loss: 1.3193e-04 - val_acc: 1.0000\n",
            "Epoch 49/50\n",
            "1000/1000 [==============================] - 0s 156us/step - loss: 3.1525e-04 - acc: 1.0000 - val_loss: 1.2667e-04 - val_acc: 1.0000\n",
            "Epoch 50/50\n",
            "1000/1000 [==============================] - 0s 156us/step - loss: 3.0614e-04 - acc: 1.0000 - val_loss: 1.2876e-04 - val_acc: 1.0000\n"
          ],
          "name": "stdout"
        },
        {
          "output_type": "execute_result",
          "data": {
            "text/plain": [
              "<keras.callbacks.History at 0x7f4a50112f28>"
            ]
          },
          "metadata": {
            "tags": []
          },
          "execution_count": 108
        }
      ]
    },
    {
      "cell_type": "code",
      "metadata": {
        "id": "hWHi5WgpM21d",
        "colab_type": "code",
        "colab": {}
      },
      "source": [
        "# We create a basic agent that follows a given model\n",
        "class AgentMimic(Agent):\n",
        "    def __init__(self, model, grid_size, epsilon=0.1, n_state=2):\n",
        "        super(ImitationAgent, self).__init__(epsilon=epsilon)\n",
        "        self.model = model ## Model that we trained previously\n",
        "        self.grid_size = grid_size\n",
        "        self.n_state = n_state\n",
        "        \n",
        "        \n",
        "    def learned_act(self, state):\n",
        "        # We just take action according to the trained model\n",
        "        action_distrib = self.model.predict(state[None])\n",
        "        return action_distrib.max()"
      ],
      "execution_count": 0,
      "outputs": []
    },
    {
      "cell_type": "code",
      "metadata": {
        "id": "9Xj9LW1pO9p8",
        "colab_type": "code",
        "colab": {
          "base_uri": "https://localhost:8080/",
          "height": 370
        },
        "outputId": "b7c39343-4cd5-49a7-8233-f380cc9bbaf8"
      },
      "source": [
        "nv = EnvironmentExploring(grid_size=size, max_time=T, temperature=0.3)\n",
        "mimic_agent = AgentMimic(model, size, epsilon=0.1, n_state=3)\n",
        "test(agent, env, 20, prefix=\"imitation_\")"
      ],
      "execution_count": 110,
      "outputs": [
        {
          "output_type": "stream",
          "text": [
            "Win/lose count 14.00/17.40. Average score (-3.40)\n",
            "Win/lose count 8.50/21.30. Average score (-8.10)\n",
            "Win/lose count 22.00/14.20. Average score (-2.80)\n",
            "Win/lose count 19.50/17.50. Average score (-1.60)\n",
            "Win/lose count 18.00/14.20. Average score (-0.52)\n",
            "Win/lose count 21.00/17.70. Average score (0.12)\n",
            "Win/lose count 16.50/17.00. Average score (0.03)\n",
            "Win/lose count 11.00/20.10. Average score (-1.11)\n",
            "Win/lose count 23.00/15.10. Average score (-0.11)\n",
            "Win/lose count 25.00/15.30. Average score (0.87)\n",
            "Win/lose count 23.50/17.60. Average score (1.33)\n",
            "Win/lose count 18.50/16.70. Average score (1.37)\n",
            "Win/lose count 9.00/18.70. Average score (0.52)\n",
            "Win/lose count 21.00/21.10. Average score (0.47)\n",
            "Win/lose count 9.00/17.50. Average score (-0.13)\n",
            "Win/lose count 24.00/14.30. Average score (0.49)\n",
            "Win/lose count 16.00/19.90. Average score (0.23)\n",
            "Win/lose count 10.00/20.00. Average score (-0.34)\n",
            "Win/lose count 21.50/15.20. Average score (0.01)\n",
            "Win/lose count 23.00/19.60. Average score (0.18)\n",
            "Final score: 0.18000000000000949\n"
          ],
          "name": "stdout"
        }
      ]
    },
    {
      "cell_type": "markdown",
      "metadata": {
        "id": "ezI59IzXuMxv",
        "colab_type": "text"
      },
      "source": [
        "We obtain a final score of 0.18 for the imitation learning model, while the original model gives a score of 11. The imitation is better than the full neural network model that we presented but lags behind the original model it is derived from."
      ]
    },
    {
      "cell_type": "markdown",
      "metadata": {
        "id": "NA6f0fVeuMxw",
        "colab_type": "text"
      },
      "source": [
        "***"
      ]
    }
  ]
}